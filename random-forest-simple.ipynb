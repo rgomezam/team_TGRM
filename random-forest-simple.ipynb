{
 "cells": [
  {
   "cell_type": "markdown",
   "id": "72be949c",
   "metadata": {
    "papermill": {
     "duration": 0.021307,
     "end_time": "2023-05-31T08:22:26.295770",
     "exception": false,
     "start_time": "2023-05-31T08:22:26.274463",
     "status": "completed"
    },
    "tags": []
   },
   "source": [
    "# Exploring the Data\n"
   ]
  },
  {
   "cell_type": "code",
   "execution_count": 1,
   "id": "0975889e",
   "metadata": {
    "execution": {
     "iopub.execute_input": "2023-05-31T08:22:26.335995Z",
     "iopub.status.busy": "2023-05-31T08:22:26.334991Z",
     "iopub.status.idle": "2023-05-31T08:22:27.981047Z",
     "shell.execute_reply": "2023-05-31T08:22:27.980251Z"
    },
    "papermill": {
     "duration": 1.668942,
     "end_time": "2023-05-31T08:22:27.983703",
     "exception": false,
     "start_time": "2023-05-31T08:22:26.314761",
     "status": "completed"
    },
    "tags": []
   },
   "outputs": [
    {
     "name": "stderr",
     "output_type": "stream",
     "text": [
      "/opt/conda/lib/python3.10/site-packages/scipy/__init__.py:146: UserWarning: A NumPy version >=1.16.5 and <1.23.0 is required for this version of SciPy (detected version 1.23.5\n",
      "  warnings.warn(f\"A NumPy version >={np_minversion} and <{np_maxversion}\"\n"
     ]
    },
    {
     "name": "stdout",
     "output_type": "stream",
     "text": [
      "/kaggle/input/store-sales-time-series-forecasting/oil.csv\n",
      "/kaggle/input/store-sales-time-series-forecasting/sample_submission.csv\n",
      "/kaggle/input/store-sales-time-series-forecasting/holidays_events.csv\n",
      "/kaggle/input/store-sales-time-series-forecasting/stores.csv\n",
      "/kaggle/input/store-sales-time-series-forecasting/train.csv\n",
      "/kaggle/input/store-sales-time-series-forecasting/test.csv\n",
      "/kaggle/input/store-sales-time-series-forecasting/transactions.csv\n"
     ]
    }
   ],
   "source": [
    "# This Python 3 environment comes with many helpful analytics libraries installed\n",
    "# It is defined by the kaggle/python Docker image: https://github.com/kaggle/docker-python\n",
    "# For example, here's several helpful packages to load\n",
    "\n",
    "import numpy as np # linear algebra\n",
    "import pandas as pd # data processing, CSV file I/O (e.g. pd.read_csv)\n",
    "import matplotlib.pyplot as plt\n",
    "import datetime\n",
    "from datetime import date\n",
    "from datetime import datetime\n",
    "from sklearn import tree\n",
    "\n",
    "\n",
    "# Input data files are available in the read-only \"../input/\" directory\n",
    "# For example, running this (by clicking run or pressing Shift+Enter) will list all files under the input directory\n",
    "\n",
    "import os\n",
    "for dirname, _, filenames in os.walk('/kaggle/input'):\n",
    "    for filename in filenames:\n",
    "        print(os.path.join(dirname, filename))\n",
    "        \n",
    "# You can write up to 20GB to the current directory (/kaggle/working/) that gets preserved as output when you create a version using \"Save & Run All\" \n",
    "# You can also write temporary files to /kaggle/temp/, but they won't be saved outside of the current session"
   ]
  },
  {
   "cell_type": "code",
   "execution_count": 2,
   "id": "781ce9e0",
   "metadata": {
    "execution": {
     "iopub.execute_input": "2023-05-31T08:22:28.024942Z",
     "iopub.status.busy": "2023-05-31T08:22:28.024184Z",
     "iopub.status.idle": "2023-05-31T08:22:31.753657Z",
     "shell.execute_reply": "2023-05-31T08:22:31.752418Z"
    },
    "papermill": {
     "duration": 3.753515,
     "end_time": "2023-05-31T08:22:31.756525",
     "exception": false,
     "start_time": "2023-05-31T08:22:28.003010",
     "status": "completed"
    },
    "tags": []
   },
   "outputs": [
    {
     "data": {
      "text/html": [
       "<div>\n",
       "<style scoped>\n",
       "    .dataframe tbody tr th:only-of-type {\n",
       "        vertical-align: middle;\n",
       "    }\n",
       "\n",
       "    .dataframe tbody tr th {\n",
       "        vertical-align: top;\n",
       "    }\n",
       "\n",
       "    .dataframe thead th {\n",
       "        text-align: right;\n",
       "    }\n",
       "</style>\n",
       "<table border=\"1\" class=\"dataframe\">\n",
       "  <thead>\n",
       "    <tr style=\"text-align: right;\">\n",
       "      <th></th>\n",
       "      <th>id</th>\n",
       "      <th>date</th>\n",
       "      <th>store_nbr</th>\n",
       "      <th>family</th>\n",
       "      <th>sales</th>\n",
       "      <th>onpromotion</th>\n",
       "    </tr>\n",
       "  </thead>\n",
       "  <tbody>\n",
       "    <tr>\n",
       "      <th>0</th>\n",
       "      <td>0</td>\n",
       "      <td>2013-01-01</td>\n",
       "      <td>1</td>\n",
       "      <td>AUTOMOTIVE</td>\n",
       "      <td>0.000</td>\n",
       "      <td>0</td>\n",
       "    </tr>\n",
       "    <tr>\n",
       "      <th>1</th>\n",
       "      <td>1</td>\n",
       "      <td>2013-01-01</td>\n",
       "      <td>1</td>\n",
       "      <td>BABY CARE</td>\n",
       "      <td>0.000</td>\n",
       "      <td>0</td>\n",
       "    </tr>\n",
       "    <tr>\n",
       "      <th>2</th>\n",
       "      <td>2</td>\n",
       "      <td>2013-01-01</td>\n",
       "      <td>1</td>\n",
       "      <td>BEAUTY</td>\n",
       "      <td>0.000</td>\n",
       "      <td>0</td>\n",
       "    </tr>\n",
       "    <tr>\n",
       "      <th>3</th>\n",
       "      <td>3</td>\n",
       "      <td>2013-01-01</td>\n",
       "      <td>1</td>\n",
       "      <td>BEVERAGES</td>\n",
       "      <td>0.000</td>\n",
       "      <td>0</td>\n",
       "    </tr>\n",
       "    <tr>\n",
       "      <th>4</th>\n",
       "      <td>4</td>\n",
       "      <td>2013-01-01</td>\n",
       "      <td>1</td>\n",
       "      <td>BOOKS</td>\n",
       "      <td>0.000</td>\n",
       "      <td>0</td>\n",
       "    </tr>\n",
       "    <tr>\n",
       "      <th>...</th>\n",
       "      <td>...</td>\n",
       "      <td>...</td>\n",
       "      <td>...</td>\n",
       "      <td>...</td>\n",
       "      <td>...</td>\n",
       "      <td>...</td>\n",
       "    </tr>\n",
       "    <tr>\n",
       "      <th>3000883</th>\n",
       "      <td>3000883</td>\n",
       "      <td>2017-08-15</td>\n",
       "      <td>9</td>\n",
       "      <td>POULTRY</td>\n",
       "      <td>438.133</td>\n",
       "      <td>0</td>\n",
       "    </tr>\n",
       "    <tr>\n",
       "      <th>3000884</th>\n",
       "      <td>3000884</td>\n",
       "      <td>2017-08-15</td>\n",
       "      <td>9</td>\n",
       "      <td>PREPARED FOODS</td>\n",
       "      <td>154.553</td>\n",
       "      <td>1</td>\n",
       "    </tr>\n",
       "    <tr>\n",
       "      <th>3000885</th>\n",
       "      <td>3000885</td>\n",
       "      <td>2017-08-15</td>\n",
       "      <td>9</td>\n",
       "      <td>PRODUCE</td>\n",
       "      <td>2419.729</td>\n",
       "      <td>148</td>\n",
       "    </tr>\n",
       "    <tr>\n",
       "      <th>3000886</th>\n",
       "      <td>3000886</td>\n",
       "      <td>2017-08-15</td>\n",
       "      <td>9</td>\n",
       "      <td>SCHOOL AND OFFICE SUPPLIES</td>\n",
       "      <td>121.000</td>\n",
       "      <td>8</td>\n",
       "    </tr>\n",
       "    <tr>\n",
       "      <th>3000887</th>\n",
       "      <td>3000887</td>\n",
       "      <td>2017-08-15</td>\n",
       "      <td>9</td>\n",
       "      <td>SEAFOOD</td>\n",
       "      <td>16.000</td>\n",
       "      <td>0</td>\n",
       "    </tr>\n",
       "  </tbody>\n",
       "</table>\n",
       "<p>3000888 rows × 6 columns</p>\n",
       "</div>"
      ],
      "text/plain": [
       "              id        date  store_nbr                      family     sales  \\\n",
       "0              0  2013-01-01          1                  AUTOMOTIVE     0.000   \n",
       "1              1  2013-01-01          1                   BABY CARE     0.000   \n",
       "2              2  2013-01-01          1                      BEAUTY     0.000   \n",
       "3              3  2013-01-01          1                   BEVERAGES     0.000   \n",
       "4              4  2013-01-01          1                       BOOKS     0.000   \n",
       "...          ...         ...        ...                         ...       ...   \n",
       "3000883  3000883  2017-08-15          9                     POULTRY   438.133   \n",
       "3000884  3000884  2017-08-15          9              PREPARED FOODS   154.553   \n",
       "3000885  3000885  2017-08-15          9                     PRODUCE  2419.729   \n",
       "3000886  3000886  2017-08-15          9  SCHOOL AND OFFICE SUPPLIES   121.000   \n",
       "3000887  3000887  2017-08-15          9                     SEAFOOD    16.000   \n",
       "\n",
       "         onpromotion  \n",
       "0                  0  \n",
       "1                  0  \n",
       "2                  0  \n",
       "3                  0  \n",
       "4                  0  \n",
       "...              ...  \n",
       "3000883            0  \n",
       "3000884            1  \n",
       "3000885          148  \n",
       "3000886            8  \n",
       "3000887            0  \n",
       "\n",
       "[3000888 rows x 6 columns]"
      ]
     },
     "execution_count": 2,
     "metadata": {},
     "output_type": "execute_result"
    }
   ],
   "source": [
    "df = pd.read_csv('/kaggle/input/store-sales-time-series-forecasting/train.csv')\n",
    "\n",
    "# View the first and last few rows of the data\n",
    "df.head(len(df))\n"
   ]
  },
  {
   "cell_type": "code",
   "execution_count": 3,
   "id": "a5d2dab0",
   "metadata": {
    "execution": {
     "iopub.execute_input": "2023-05-31T08:22:31.797653Z",
     "iopub.status.busy": "2023-05-31T08:22:31.797198Z",
     "iopub.status.idle": "2023-05-31T08:22:32.202779Z",
     "shell.execute_reply": "2023-05-31T08:22:32.201583Z"
    },
    "papermill": {
     "duration": 0.429367,
     "end_time": "2023-05-31T08:22:32.205356",
     "exception": false,
     "start_time": "2023-05-31T08:22:31.775989",
     "status": "completed"
    },
    "tags": []
   },
   "outputs": [
    {
     "data": {
      "text/html": [
       "<div>\n",
       "<style scoped>\n",
       "    .dataframe tbody tr th:only-of-type {\n",
       "        vertical-align: middle;\n",
       "    }\n",
       "\n",
       "    .dataframe tbody tr th {\n",
       "        vertical-align: top;\n",
       "    }\n",
       "\n",
       "    .dataframe thead th {\n",
       "        text-align: right;\n",
       "    }\n",
       "</style>\n",
       "<table border=\"1\" class=\"dataframe\">\n",
       "  <thead>\n",
       "    <tr style=\"text-align: right;\">\n",
       "      <th></th>\n",
       "      <th>id</th>\n",
       "      <th>store_nbr</th>\n",
       "      <th>sales</th>\n",
       "      <th>onpromotion</th>\n",
       "    </tr>\n",
       "  </thead>\n",
       "  <tbody>\n",
       "    <tr>\n",
       "      <th>count</th>\n",
       "      <td>3.000888e+06</td>\n",
       "      <td>3.000888e+06</td>\n",
       "      <td>3.000888e+06</td>\n",
       "      <td>3.000888e+06</td>\n",
       "    </tr>\n",
       "    <tr>\n",
       "      <th>mean</th>\n",
       "      <td>1.500444e+06</td>\n",
       "      <td>2.750000e+01</td>\n",
       "      <td>3.577757e+02</td>\n",
       "      <td>2.602770e+00</td>\n",
       "    </tr>\n",
       "    <tr>\n",
       "      <th>std</th>\n",
       "      <td>8.662819e+05</td>\n",
       "      <td>1.558579e+01</td>\n",
       "      <td>1.101998e+03</td>\n",
       "      <td>1.221888e+01</td>\n",
       "    </tr>\n",
       "    <tr>\n",
       "      <th>min</th>\n",
       "      <td>0.000000e+00</td>\n",
       "      <td>1.000000e+00</td>\n",
       "      <td>0.000000e+00</td>\n",
       "      <td>0.000000e+00</td>\n",
       "    </tr>\n",
       "    <tr>\n",
       "      <th>25%</th>\n",
       "      <td>7.502218e+05</td>\n",
       "      <td>1.400000e+01</td>\n",
       "      <td>0.000000e+00</td>\n",
       "      <td>0.000000e+00</td>\n",
       "    </tr>\n",
       "    <tr>\n",
       "      <th>50%</th>\n",
       "      <td>1.500444e+06</td>\n",
       "      <td>2.750000e+01</td>\n",
       "      <td>1.100000e+01</td>\n",
       "      <td>0.000000e+00</td>\n",
       "    </tr>\n",
       "    <tr>\n",
       "      <th>75%</th>\n",
       "      <td>2.250665e+06</td>\n",
       "      <td>4.100000e+01</td>\n",
       "      <td>1.958473e+02</td>\n",
       "      <td>0.000000e+00</td>\n",
       "    </tr>\n",
       "    <tr>\n",
       "      <th>max</th>\n",
       "      <td>3.000887e+06</td>\n",
       "      <td>5.400000e+01</td>\n",
       "      <td>1.247170e+05</td>\n",
       "      <td>7.410000e+02</td>\n",
       "    </tr>\n",
       "  </tbody>\n",
       "</table>\n",
       "</div>"
      ],
      "text/plain": [
       "                 id     store_nbr         sales   onpromotion\n",
       "count  3.000888e+06  3.000888e+06  3.000888e+06  3.000888e+06\n",
       "mean   1.500444e+06  2.750000e+01  3.577757e+02  2.602770e+00\n",
       "std    8.662819e+05  1.558579e+01  1.101998e+03  1.221888e+01\n",
       "min    0.000000e+00  1.000000e+00  0.000000e+00  0.000000e+00\n",
       "25%    7.502218e+05  1.400000e+01  0.000000e+00  0.000000e+00\n",
       "50%    1.500444e+06  2.750000e+01  1.100000e+01  0.000000e+00\n",
       "75%    2.250665e+06  4.100000e+01  1.958473e+02  0.000000e+00\n",
       "max    3.000887e+06  5.400000e+01  1.247170e+05  7.410000e+02"
      ]
     },
     "execution_count": 3,
     "metadata": {},
     "output_type": "execute_result"
    }
   ],
   "source": [
    "# Get summary statistics for the data\n",
    "df.describe()"
   ]
  },
  {
   "cell_type": "markdown",
   "id": "401b21de",
   "metadata": {
    "papermill": {
     "duration": 0.019571,
     "end_time": "2023-05-31T08:22:32.244432",
     "exception": false,
     "start_time": "2023-05-31T08:22:32.224861",
     "status": "completed"
    },
    "tags": []
   },
   "source": [
    "see how many nonzero entries there are"
   ]
  },
  {
   "cell_type": "code",
   "execution_count": 4,
   "id": "6fd1ec42",
   "metadata": {
    "execution": {
     "iopub.execute_input": "2023-05-31T08:22:32.285399Z",
     "iopub.status.busy": "2023-05-31T08:22:32.284954Z",
     "iopub.status.idle": "2023-05-31T08:22:33.492419Z",
     "shell.execute_reply": "2023-05-31T08:22:33.490717Z"
    },
    "papermill": {
     "duration": 1.230997,
     "end_time": "2023-05-31T08:22:33.494960",
     "exception": false,
     "start_time": "2023-05-31T08:22:32.263963",
     "status": "completed"
    },
    "tags": []
   },
   "outputs": [
    {
     "name": "stdout",
     "output_type": "stream",
     "text": [
      "2061758\n",
      "% of nonzero is:  0.0019\n"
     ]
    }
   ],
   "source": [
    "print(sum(df['sales']!=0))\n",
    "\n",
    "print(\"% of nonzero is: \" , np.round(sum(df['sales']!=0)/sum(df['sales']),4)  )"
   ]
  },
  {
   "cell_type": "markdown",
   "id": "f0bfbf76",
   "metadata": {
    "papermill": {
     "duration": 0.019456,
     "end_time": "2023-05-31T08:22:33.534170",
     "exception": false,
     "start_time": "2023-05-31T08:22:33.514714",
     "status": "completed"
    },
    "tags": []
   },
   "source": [
    "makes sense, most products are not sold daily (only essential products are) "
   ]
  },
  {
   "cell_type": "markdown",
   "id": "e7b154b5",
   "metadata": {
    "papermill": {
     "duration": 0.019227,
     "end_time": "2023-05-31T08:22:33.573027",
     "exception": false,
     "start_time": "2023-05-31T08:22:33.553800",
     "status": "completed"
    },
    "tags": []
   },
   "source": [
    "## Try random forest\n",
    "\n",
    "for this we have to masssage the data a bit"
   ]
  },
  {
   "cell_type": "code",
   "execution_count": 5,
   "id": "747919fd",
   "metadata": {
    "execution": {
     "iopub.execute_input": "2023-05-31T08:22:33.614031Z",
     "iopub.status.busy": "2023-05-31T08:22:33.613586Z",
     "iopub.status.idle": "2023-05-31T08:22:36.567917Z",
     "shell.execute_reply": "2023-05-31T08:22:36.566840Z"
    },
    "papermill": {
     "duration": 2.97786,
     "end_time": "2023-05-31T08:22:36.570383",
     "exception": false,
     "start_time": "2023-05-31T08:22:33.592523",
     "status": "completed"
    },
    "tags": []
   },
   "outputs": [
    {
     "data": {
      "text/html": [
       "<div>\n",
       "<style scoped>\n",
       "    .dataframe tbody tr th:only-of-type {\n",
       "        vertical-align: middle;\n",
       "    }\n",
       "\n",
       "    .dataframe tbody tr th {\n",
       "        vertical-align: top;\n",
       "    }\n",
       "\n",
       "    .dataframe thead th {\n",
       "        text-align: right;\n",
       "    }\n",
       "</style>\n",
       "<table border=\"1\" class=\"dataframe\">\n",
       "  <thead>\n",
       "    <tr style=\"text-align: right;\">\n",
       "      <th></th>\n",
       "      <th>date</th>\n",
       "      <th>store_nbr</th>\n",
       "      <th>family</th>\n",
       "      <th>sales</th>\n",
       "      <th>onpromotion</th>\n",
       "    </tr>\n",
       "    <tr>\n",
       "      <th>id</th>\n",
       "      <th></th>\n",
       "      <th></th>\n",
       "      <th></th>\n",
       "      <th></th>\n",
       "      <th></th>\n",
       "    </tr>\n",
       "  </thead>\n",
       "  <tbody>\n",
       "    <tr>\n",
       "      <th>0</th>\n",
       "      <td>2013-01-01</td>\n",
       "      <td>1</td>\n",
       "      <td>AUTOMOTIVE</td>\n",
       "      <td>0.000</td>\n",
       "      <td>0</td>\n",
       "    </tr>\n",
       "    <tr>\n",
       "      <th>1</th>\n",
       "      <td>2013-01-01</td>\n",
       "      <td>1</td>\n",
       "      <td>BABY CARE</td>\n",
       "      <td>0.000</td>\n",
       "      <td>0</td>\n",
       "    </tr>\n",
       "    <tr>\n",
       "      <th>2</th>\n",
       "      <td>2013-01-01</td>\n",
       "      <td>1</td>\n",
       "      <td>BEAUTY</td>\n",
       "      <td>0.000</td>\n",
       "      <td>0</td>\n",
       "    </tr>\n",
       "    <tr>\n",
       "      <th>3</th>\n",
       "      <td>2013-01-01</td>\n",
       "      <td>1</td>\n",
       "      <td>BEVERAGES</td>\n",
       "      <td>0.000</td>\n",
       "      <td>0</td>\n",
       "    </tr>\n",
       "    <tr>\n",
       "      <th>4</th>\n",
       "      <td>2013-01-01</td>\n",
       "      <td>1</td>\n",
       "      <td>BOOKS</td>\n",
       "      <td>0.000</td>\n",
       "      <td>0</td>\n",
       "    </tr>\n",
       "    <tr>\n",
       "      <th>...</th>\n",
       "      <td>...</td>\n",
       "      <td>...</td>\n",
       "      <td>...</td>\n",
       "      <td>...</td>\n",
       "      <td>...</td>\n",
       "    </tr>\n",
       "    <tr>\n",
       "      <th>3000883</th>\n",
       "      <td>2017-08-15</td>\n",
       "      <td>9</td>\n",
       "      <td>POULTRY</td>\n",
       "      <td>438.133</td>\n",
       "      <td>0</td>\n",
       "    </tr>\n",
       "    <tr>\n",
       "      <th>3000884</th>\n",
       "      <td>2017-08-15</td>\n",
       "      <td>9</td>\n",
       "      <td>PREPARED FOODS</td>\n",
       "      <td>154.553</td>\n",
       "      <td>1</td>\n",
       "    </tr>\n",
       "    <tr>\n",
       "      <th>3000885</th>\n",
       "      <td>2017-08-15</td>\n",
       "      <td>9</td>\n",
       "      <td>PRODUCE</td>\n",
       "      <td>2419.729</td>\n",
       "      <td>148</td>\n",
       "    </tr>\n",
       "    <tr>\n",
       "      <th>3000886</th>\n",
       "      <td>2017-08-15</td>\n",
       "      <td>9</td>\n",
       "      <td>SCHOOL AND OFFICE SUPPLIES</td>\n",
       "      <td>121.000</td>\n",
       "      <td>8</td>\n",
       "    </tr>\n",
       "    <tr>\n",
       "      <th>3000887</th>\n",
       "      <td>2017-08-15</td>\n",
       "      <td>9</td>\n",
       "      <td>SEAFOOD</td>\n",
       "      <td>16.000</td>\n",
       "      <td>0</td>\n",
       "    </tr>\n",
       "  </tbody>\n",
       "</table>\n",
       "<p>3000888 rows × 5 columns</p>\n",
       "</div>"
      ],
      "text/plain": [
       "              date  store_nbr                      family     sales  \\\n",
       "id                                                                    \n",
       "0       2013-01-01          1                  AUTOMOTIVE     0.000   \n",
       "1       2013-01-01          1                   BABY CARE     0.000   \n",
       "2       2013-01-01          1                      BEAUTY     0.000   \n",
       "3       2013-01-01          1                   BEVERAGES     0.000   \n",
       "4       2013-01-01          1                       BOOKS     0.000   \n",
       "...            ...        ...                         ...       ...   \n",
       "3000883 2017-08-15          9                     POULTRY   438.133   \n",
       "3000884 2017-08-15          9              PREPARED FOODS   154.553   \n",
       "3000885 2017-08-15          9                     PRODUCE  2419.729   \n",
       "3000886 2017-08-15          9  SCHOOL AND OFFICE SUPPLIES   121.000   \n",
       "3000887 2017-08-15          9                     SEAFOOD    16.000   \n",
       "\n",
       "         onpromotion  \n",
       "id                    \n",
       "0                  0  \n",
       "1                  0  \n",
       "2                  0  \n",
       "3                  0  \n",
       "4                  0  \n",
       "...              ...  \n",
       "3000883            0  \n",
       "3000884            1  \n",
       "3000885          148  \n",
       "3000886            8  \n",
       "3000887            0  \n",
       "\n",
       "[3000888 rows x 5 columns]"
      ]
     },
     "execution_count": 5,
     "metadata": {},
     "output_type": "execute_result"
    }
   ],
   "source": [
    "df2 = pd.read_csv('/kaggle/input/store-sales-time-series-forecasting/train.csv',\n",
    "    index_col='id',\n",
    "    parse_dates=['date'])\n",
    "df2.head(len(df2))"
   ]
  },
  {
   "cell_type": "markdown",
   "id": "0932944c",
   "metadata": {
    "papermill": {
     "duration": 0.020315,
     "end_time": "2023-05-31T08:22:36.611090",
     "exception": false,
     "start_time": "2023-05-31T08:22:36.590775",
     "status": "completed"
    },
    "tags": []
   },
   "source": [
    "Define the target variable (the one we are going to predict) "
   ]
  },
  {
   "cell_type": "code",
   "execution_count": 6,
   "id": "8e48f0a8",
   "metadata": {
    "execution": {
     "iopub.execute_input": "2023-05-31T08:22:36.652730Z",
     "iopub.status.busy": "2023-05-31T08:22:36.652269Z",
     "iopub.status.idle": "2023-05-31T08:22:36.657380Z",
     "shell.execute_reply": "2023-05-31T08:22:36.656341Z"
    },
    "papermill": {
     "duration": 0.028698,
     "end_time": "2023-05-31T08:22:36.659703",
     "exception": false,
     "start_time": "2023-05-31T08:22:36.631005",
     "status": "completed"
    },
    "tags": []
   },
   "outputs": [],
   "source": [
    "y = df2.sales"
   ]
  },
  {
   "cell_type": "markdown",
   "id": "c8f9227d",
   "metadata": {
    "papermill": {
     "duration": 0.019525,
     "end_time": "2023-05-31T08:22:36.699348",
     "exception": false,
     "start_time": "2023-05-31T08:22:36.679823",
     "status": "completed"
    },
    "tags": []
   },
   "source": [
    "See which are the features we can use for the prediction (in principle we can use the variables that are numerical)"
   ]
  },
  {
   "cell_type": "code",
   "execution_count": 7,
   "id": "25fc294a",
   "metadata": {
    "execution": {
     "iopub.execute_input": "2023-05-31T08:22:36.741279Z",
     "iopub.status.busy": "2023-05-31T08:22:36.740668Z",
     "iopub.status.idle": "2023-05-31T08:22:36.746926Z",
     "shell.execute_reply": "2023-05-31T08:22:36.745992Z"
    },
    "papermill": {
     "duration": 0.029942,
     "end_time": "2023-05-31T08:22:36.749060",
     "exception": false,
     "start_time": "2023-05-31T08:22:36.719118",
     "status": "completed"
    },
    "tags": []
   },
   "outputs": [
    {
     "data": {
      "text/plain": [
       "Index(['date', 'store_nbr', 'family', 'sales', 'onpromotion'], dtype='object')"
      ]
     },
     "execution_count": 7,
     "metadata": {},
     "output_type": "execute_result"
    }
   ],
   "source": [
    "df2.columns"
   ]
  },
  {
   "cell_type": "markdown",
   "id": "cfbf6e61",
   "metadata": {
    "papermill": {
     "duration": 0.019998,
     "end_time": "2023-05-31T08:22:36.789219",
     "exception": false,
     "start_time": "2023-05-31T08:22:36.769221",
     "status": "completed"
    },
    "tags": []
   },
   "source": [
    "first we need to make the date into an integer or float"
   ]
  },
  {
   "cell_type": "code",
   "execution_count": 8,
   "id": "94e82541",
   "metadata": {
    "execution": {
     "iopub.execute_input": "2023-05-31T08:22:36.831528Z",
     "iopub.status.busy": "2023-05-31T08:22:36.831116Z",
     "iopub.status.idle": "2023-05-31T08:22:36.836984Z",
     "shell.execute_reply": "2023-05-31T08:22:36.835858Z"
    },
    "papermill": {
     "duration": 0.029668,
     "end_time": "2023-05-31T08:22:36.839201",
     "exception": false,
     "start_time": "2023-05-31T08:22:36.809533",
     "status": "completed"
    },
    "tags": []
   },
   "outputs": [
    {
     "name": "stdout",
     "output_type": "stream",
     "text": [
      "Current datetime:  2023-05-31 08:22:36.833817\n",
      "Integer timestamp of current datetime:  1685521357\n"
     ]
    }
   ],
   "source": [
    "# An example\n",
    "from datetime import datetime\n",
    "curr_dt = datetime.now()\n",
    "print(\"Current datetime: \", curr_dt)\n",
    "timestamp = int(round(curr_dt.timestamp()))\n",
    "print(\"Integer timestamp of current datetime: \",\n",
    "      timestamp)"
   ]
  },
  {
   "cell_type": "code",
   "execution_count": 9,
   "id": "2ec13bb8",
   "metadata": {
    "execution": {
     "iopub.execute_input": "2023-05-31T08:22:36.881456Z",
     "iopub.status.busy": "2023-05-31T08:22:36.880995Z",
     "iopub.status.idle": "2023-05-31T08:22:51.494599Z",
     "shell.execute_reply": "2023-05-31T08:22:51.493376Z"
    },
    "papermill": {
     "duration": 14.637908,
     "end_time": "2023-05-31T08:22:51.497145",
     "exception": false,
     "start_time": "2023-05-31T08:22:36.859237",
     "status": "completed"
    },
    "tags": []
   },
   "outputs": [
    {
     "data": {
      "text/html": [
       "<div>\n",
       "<style scoped>\n",
       "    .dataframe tbody tr th:only-of-type {\n",
       "        vertical-align: middle;\n",
       "    }\n",
       "\n",
       "    .dataframe tbody tr th {\n",
       "        vertical-align: top;\n",
       "    }\n",
       "\n",
       "    .dataframe thead th {\n",
       "        text-align: right;\n",
       "    }\n",
       "</style>\n",
       "<table border=\"1\" class=\"dataframe\">\n",
       "  <thead>\n",
       "    <tr style=\"text-align: right;\">\n",
       "      <th></th>\n",
       "      <th>date</th>\n",
       "      <th>store_nbr</th>\n",
       "      <th>family</th>\n",
       "      <th>sales</th>\n",
       "      <th>onpromotion</th>\n",
       "      <th>date_int</th>\n",
       "    </tr>\n",
       "    <tr>\n",
       "      <th>id</th>\n",
       "      <th></th>\n",
       "      <th></th>\n",
       "      <th></th>\n",
       "      <th></th>\n",
       "      <th></th>\n",
       "      <th></th>\n",
       "    </tr>\n",
       "  </thead>\n",
       "  <tbody>\n",
       "    <tr>\n",
       "      <th>0</th>\n",
       "      <td>2013-01-01</td>\n",
       "      <td>1</td>\n",
       "      <td>AUTOMOTIVE</td>\n",
       "      <td>0.000</td>\n",
       "      <td>0</td>\n",
       "      <td>1356998400</td>\n",
       "    </tr>\n",
       "    <tr>\n",
       "      <th>1</th>\n",
       "      <td>2013-01-01</td>\n",
       "      <td>1</td>\n",
       "      <td>BABY CARE</td>\n",
       "      <td>0.000</td>\n",
       "      <td>0</td>\n",
       "      <td>1356998400</td>\n",
       "    </tr>\n",
       "    <tr>\n",
       "      <th>2</th>\n",
       "      <td>2013-01-01</td>\n",
       "      <td>1</td>\n",
       "      <td>BEAUTY</td>\n",
       "      <td>0.000</td>\n",
       "      <td>0</td>\n",
       "      <td>1356998400</td>\n",
       "    </tr>\n",
       "    <tr>\n",
       "      <th>3</th>\n",
       "      <td>2013-01-01</td>\n",
       "      <td>1</td>\n",
       "      <td>BEVERAGES</td>\n",
       "      <td>0.000</td>\n",
       "      <td>0</td>\n",
       "      <td>1356998400</td>\n",
       "    </tr>\n",
       "    <tr>\n",
       "      <th>4</th>\n",
       "      <td>2013-01-01</td>\n",
       "      <td>1</td>\n",
       "      <td>BOOKS</td>\n",
       "      <td>0.000</td>\n",
       "      <td>0</td>\n",
       "      <td>1356998400</td>\n",
       "    </tr>\n",
       "    <tr>\n",
       "      <th>...</th>\n",
       "      <td>...</td>\n",
       "      <td>...</td>\n",
       "      <td>...</td>\n",
       "      <td>...</td>\n",
       "      <td>...</td>\n",
       "      <td>...</td>\n",
       "    </tr>\n",
       "    <tr>\n",
       "      <th>3000883</th>\n",
       "      <td>2017-08-15</td>\n",
       "      <td>9</td>\n",
       "      <td>POULTRY</td>\n",
       "      <td>438.133</td>\n",
       "      <td>0</td>\n",
       "      <td>1502755200</td>\n",
       "    </tr>\n",
       "    <tr>\n",
       "      <th>3000884</th>\n",
       "      <td>2017-08-15</td>\n",
       "      <td>9</td>\n",
       "      <td>PREPARED FOODS</td>\n",
       "      <td>154.553</td>\n",
       "      <td>1</td>\n",
       "      <td>1502755200</td>\n",
       "    </tr>\n",
       "    <tr>\n",
       "      <th>3000885</th>\n",
       "      <td>2017-08-15</td>\n",
       "      <td>9</td>\n",
       "      <td>PRODUCE</td>\n",
       "      <td>2419.729</td>\n",
       "      <td>148</td>\n",
       "      <td>1502755200</td>\n",
       "    </tr>\n",
       "    <tr>\n",
       "      <th>3000886</th>\n",
       "      <td>2017-08-15</td>\n",
       "      <td>9</td>\n",
       "      <td>SCHOOL AND OFFICE SUPPLIES</td>\n",
       "      <td>121.000</td>\n",
       "      <td>8</td>\n",
       "      <td>1502755200</td>\n",
       "    </tr>\n",
       "    <tr>\n",
       "      <th>3000887</th>\n",
       "      <td>2017-08-15</td>\n",
       "      <td>9</td>\n",
       "      <td>SEAFOOD</td>\n",
       "      <td>16.000</td>\n",
       "      <td>0</td>\n",
       "      <td>1502755200</td>\n",
       "    </tr>\n",
       "  </tbody>\n",
       "</table>\n",
       "<p>3000888 rows × 6 columns</p>\n",
       "</div>"
      ],
      "text/plain": [
       "              date  store_nbr                      family     sales  \\\n",
       "id                                                                    \n",
       "0       2013-01-01          1                  AUTOMOTIVE     0.000   \n",
       "1       2013-01-01          1                   BABY CARE     0.000   \n",
       "2       2013-01-01          1                      BEAUTY     0.000   \n",
       "3       2013-01-01          1                   BEVERAGES     0.000   \n",
       "4       2013-01-01          1                       BOOKS     0.000   \n",
       "...            ...        ...                         ...       ...   \n",
       "3000883 2017-08-15          9                     POULTRY   438.133   \n",
       "3000884 2017-08-15          9              PREPARED FOODS   154.553   \n",
       "3000885 2017-08-15          9                     PRODUCE  2419.729   \n",
       "3000886 2017-08-15          9  SCHOOL AND OFFICE SUPPLIES   121.000   \n",
       "3000887 2017-08-15          9                     SEAFOOD    16.000   \n",
       "\n",
       "         onpromotion    date_int  \n",
       "id                                \n",
       "0                  0  1356998400  \n",
       "1                  0  1356998400  \n",
       "2                  0  1356998400  \n",
       "3                  0  1356998400  \n",
       "4                  0  1356998400  \n",
       "...              ...         ...  \n",
       "3000883            0  1502755200  \n",
       "3000884            1  1502755200  \n",
       "3000885          148  1502755200  \n",
       "3000886            8  1502755200  \n",
       "3000887            0  1502755200  \n",
       "\n",
       "[3000888 rows x 6 columns]"
      ]
     },
     "execution_count": 9,
     "metadata": {},
     "output_type": "execute_result"
    }
   ],
   "source": [
    "# apply to all\n",
    "df2['date_int'] = df2['date'].map(lambda a : int(round(a.timestamp())) )\n",
    "df2.head(len(df2))"
   ]
  },
  {
   "cell_type": "code",
   "execution_count": 10,
   "id": "053ee41d",
   "metadata": {
    "execution": {
     "iopub.execute_input": "2023-05-31T08:22:51.539955Z",
     "iopub.status.busy": "2023-05-31T08:22:51.539568Z",
     "iopub.status.idle": "2023-05-31T08:22:51.694113Z",
     "shell.execute_reply": "2023-05-31T08:22:51.692609Z"
    },
    "papermill": {
     "duration": 0.179291,
     "end_time": "2023-05-31T08:22:51.696977",
     "exception": false,
     "start_time": "2023-05-31T08:22:51.517686",
     "status": "completed"
    },
    "tags": []
   },
   "outputs": [
    {
     "name": "stdout",
     "output_type": "stream",
     "text": [
      "Check that the difference between time integer timestamps is always the same:\n",
      " \n",
      "2013-01-01 00:00:00 1356998400\n",
      "2013-01-02 00:00:00 1357084800\n",
      "2013-01-03 00:00:00 1357171200\n",
      "2013-01-04 00:00:00 1357257600\n",
      "86400 86400 86400\n"
     ]
    }
   ],
   "source": [
    "print(\"Check that the difference between time integer timestamps is always the same:\")\n",
    "print(\" \")\n",
    "print(df2.loc[0,'date'], df2.loc[0,'date_int'])\n",
    "print(df2.loc[1782,'date'], df2.loc[1782,'date_int'])\n",
    "print(df2.loc[3564,'date'], df2.loc[3564,'date_int'])\n",
    "print(df2.loc[5346,'date'], df2.loc[5346,'date_int'])\n",
    "print(df2.loc[5346,'date_int']-df2.loc[3564,'date_int'], df2.loc[3564,'date_int']-df2.loc[1782,'date_int'], df2.loc[1782,'date_int']-df2.loc[0,'date_int'])"
   ]
  },
  {
   "cell_type": "code",
   "execution_count": 11,
   "id": "787aeb31",
   "metadata": {
    "execution": {
     "iopub.execute_input": "2023-05-31T08:22:51.740491Z",
     "iopub.status.busy": "2023-05-31T08:22:51.739735Z",
     "iopub.status.idle": "2023-05-31T08:22:51.756004Z",
     "shell.execute_reply": "2023-05-31T08:22:51.755168Z"
    },
    "papermill": {
     "duration": 0.04103,
     "end_time": "2023-05-31T08:22:51.758546",
     "exception": false,
     "start_time": "2023-05-31T08:22:51.717516",
     "status": "completed"
    },
    "tags": []
   },
   "outputs": [
    {
     "name": "stdout",
     "output_type": "stream",
     "text": [
      "<class 'pandas.core.frame.DataFrame'>\n",
      "Int64Index: 3000888 entries, 0 to 3000887\n",
      "Data columns (total 6 columns):\n",
      " #   Column       Dtype         \n",
      "---  ------       -----         \n",
      " 0   date         datetime64[ns]\n",
      " 1   store_nbr    int64         \n",
      " 2   family       object        \n",
      " 3   sales        float64       \n",
      " 4   onpromotion  int64         \n",
      " 5   date_int     int64         \n",
      "dtypes: datetime64[ns](1), float64(1), int64(3), object(1)\n",
      "memory usage: 224.8+ MB\n"
     ]
    }
   ],
   "source": [
    "df2.info()"
   ]
  },
  {
   "cell_type": "code",
   "execution_count": 12,
   "id": "ddcbe32f",
   "metadata": {
    "execution": {
     "iopub.execute_input": "2023-05-31T08:22:51.802660Z",
     "iopub.status.busy": "2023-05-31T08:22:51.801892Z",
     "iopub.status.idle": "2023-05-31T08:22:52.081024Z",
     "shell.execute_reply": "2023-05-31T08:22:52.079730Z"
    },
    "papermill": {
     "duration": 0.304281,
     "end_time": "2023-05-31T08:22:52.083699",
     "exception": false,
     "start_time": "2023-05-31T08:22:51.779418",
     "status": "completed"
    },
    "tags": []
   },
   "outputs": [
    {
     "name": "stdout",
     "output_type": "stream",
     "text": [
      "{'AUTOMOTIVE': 0, 'BABY CARE': 1, 'BEAUTY': 2, 'BEVERAGES': 3, 'BOOKS': 4, 'BREAD/BAKERY': 5, 'CELEBRATION': 6, 'CLEANING': 7, 'DAIRY': 8, 'DELI': 9, 'EGGS': 10, 'FROZEN FOODS': 11, 'GROCERY I': 12, 'GROCERY II': 13, 'HARDWARE': 14, 'HOME AND KITCHEN I': 15, 'HOME AND KITCHEN II': 16, 'HOME APPLIANCES': 17, 'HOME CARE': 18, 'LADIESWEAR': 19, 'LAWN AND GARDEN': 20, 'LINGERIE': 21, 'LIQUOR,WINE,BEER': 22, 'MAGAZINES': 23, 'MEATS': 24, 'PERSONAL CARE': 25, 'PET SUPPLIES': 26, 'PLAYERS AND ELECTRONICS': 27, 'POULTRY': 28, 'PREPARED FOODS': 29, 'PRODUCE': 30, 'SCHOOL AND OFFICE SUPPLIES': 31, 'SEAFOOD': 32}\n"
     ]
    }
   ],
   "source": [
    "family_enum = {}\n",
    "family_array = df2['family'].unique()\n",
    "for i in range(len(family_array)):\n",
    "    family_enum[family_array[i]] = i\n",
    "print(family_enum)"
   ]
  },
  {
   "cell_type": "code",
   "execution_count": 13,
   "id": "afaa8def",
   "metadata": {
    "execution": {
     "iopub.execute_input": "2023-05-31T08:22:52.127911Z",
     "iopub.status.busy": "2023-05-31T08:22:52.127008Z",
     "iopub.status.idle": "2023-05-31T08:22:54.322918Z",
     "shell.execute_reply": "2023-05-31T08:22:54.321454Z"
    },
    "papermill": {
     "duration": 2.221655,
     "end_time": "2023-05-31T08:22:54.326523",
     "exception": false,
     "start_time": "2023-05-31T08:22:52.104868",
     "status": "completed"
    },
    "tags": []
   },
   "outputs": [
    {
     "data": {
      "text/html": [
       "<div>\n",
       "<style scoped>\n",
       "    .dataframe tbody tr th:only-of-type {\n",
       "        vertical-align: middle;\n",
       "    }\n",
       "\n",
       "    .dataframe tbody tr th {\n",
       "        vertical-align: top;\n",
       "    }\n",
       "\n",
       "    .dataframe thead th {\n",
       "        text-align: right;\n",
       "    }\n",
       "</style>\n",
       "<table border=\"1\" class=\"dataframe\">\n",
       "  <thead>\n",
       "    <tr style=\"text-align: right;\">\n",
       "      <th></th>\n",
       "      <th>date</th>\n",
       "      <th>store_nbr</th>\n",
       "      <th>family</th>\n",
       "      <th>sales</th>\n",
       "      <th>onpromotion</th>\n",
       "      <th>date_int</th>\n",
       "      <th>family_number</th>\n",
       "    </tr>\n",
       "    <tr>\n",
       "      <th>id</th>\n",
       "      <th></th>\n",
       "      <th></th>\n",
       "      <th></th>\n",
       "      <th></th>\n",
       "      <th></th>\n",
       "      <th></th>\n",
       "      <th></th>\n",
       "    </tr>\n",
       "  </thead>\n",
       "  <tbody>\n",
       "    <tr>\n",
       "      <th>0</th>\n",
       "      <td>2013-01-01</td>\n",
       "      <td>1</td>\n",
       "      <td>AUTOMOTIVE</td>\n",
       "      <td>0.0</td>\n",
       "      <td>0</td>\n",
       "      <td>1356998400</td>\n",
       "      <td>0</td>\n",
       "    </tr>\n",
       "    <tr>\n",
       "      <th>1</th>\n",
       "      <td>2013-01-01</td>\n",
       "      <td>1</td>\n",
       "      <td>BABY CARE</td>\n",
       "      <td>0.0</td>\n",
       "      <td>0</td>\n",
       "      <td>1356998400</td>\n",
       "      <td>1</td>\n",
       "    </tr>\n",
       "    <tr>\n",
       "      <th>2</th>\n",
       "      <td>2013-01-01</td>\n",
       "      <td>1</td>\n",
       "      <td>BEAUTY</td>\n",
       "      <td>0.0</td>\n",
       "      <td>0</td>\n",
       "      <td>1356998400</td>\n",
       "      <td>2</td>\n",
       "    </tr>\n",
       "    <tr>\n",
       "      <th>3</th>\n",
       "      <td>2013-01-01</td>\n",
       "      <td>1</td>\n",
       "      <td>BEVERAGES</td>\n",
       "      <td>0.0</td>\n",
       "      <td>0</td>\n",
       "      <td>1356998400</td>\n",
       "      <td>3</td>\n",
       "    </tr>\n",
       "    <tr>\n",
       "      <th>4</th>\n",
       "      <td>2013-01-01</td>\n",
       "      <td>1</td>\n",
       "      <td>BOOKS</td>\n",
       "      <td>0.0</td>\n",
       "      <td>0</td>\n",
       "      <td>1356998400</td>\n",
       "      <td>4</td>\n",
       "    </tr>\n",
       "  </tbody>\n",
       "</table>\n",
       "</div>"
      ],
      "text/plain": [
       "         date  store_nbr      family  sales  onpromotion    date_int  \\\n",
       "id                                                                     \n",
       "0  2013-01-01          1  AUTOMOTIVE    0.0            0  1356998400   \n",
       "1  2013-01-01          1   BABY CARE    0.0            0  1356998400   \n",
       "2  2013-01-01          1      BEAUTY    0.0            0  1356998400   \n",
       "3  2013-01-01          1   BEVERAGES    0.0            0  1356998400   \n",
       "4  2013-01-01          1       BOOKS    0.0            0  1356998400   \n",
       "\n",
       "    family_number  \n",
       "id                 \n",
       "0               0  \n",
       "1               1  \n",
       "2               2  \n",
       "3               3  \n",
       "4               4  "
      ]
     },
     "execution_count": 13,
     "metadata": {},
     "output_type": "execute_result"
    }
   ],
   "source": [
    "df2['family_number'] = df2['family'].map(lambda a : family_enum[a] )\n",
    "df2.head()"
   ]
  },
  {
   "cell_type": "code",
   "execution_count": 14,
   "id": "06f96993",
   "metadata": {
    "execution": {
     "iopub.execute_input": "2023-05-31T08:22:54.383638Z",
     "iopub.status.busy": "2023-05-31T08:22:54.382939Z",
     "iopub.status.idle": "2023-05-31T08:22:54.504077Z",
     "shell.execute_reply": "2023-05-31T08:22:54.502923Z"
    },
    "papermill": {
     "duration": 0.154647,
     "end_time": "2023-05-31T08:22:54.506889",
     "exception": false,
     "start_time": "2023-05-31T08:22:54.352242",
     "status": "completed"
    },
    "tags": []
   },
   "outputs": [
    {
     "data": {
      "text/html": [
       "<div>\n",
       "<style scoped>\n",
       "    .dataframe tbody tr th:only-of-type {\n",
       "        vertical-align: middle;\n",
       "    }\n",
       "\n",
       "    .dataframe tbody tr th {\n",
       "        vertical-align: top;\n",
       "    }\n",
       "\n",
       "    .dataframe thead th {\n",
       "        text-align: right;\n",
       "    }\n",
       "</style>\n",
       "<table border=\"1\" class=\"dataframe\">\n",
       "  <thead>\n",
       "    <tr style=\"text-align: right;\">\n",
       "      <th></th>\n",
       "      <th>date_int</th>\n",
       "      <th>store_nbr</th>\n",
       "      <th>family_number</th>\n",
       "      <th>onpromotion</th>\n",
       "    </tr>\n",
       "    <tr>\n",
       "      <th>id</th>\n",
       "      <th></th>\n",
       "      <th></th>\n",
       "      <th></th>\n",
       "      <th></th>\n",
       "    </tr>\n",
       "  </thead>\n",
       "  <tbody>\n",
       "    <tr>\n",
       "      <th>0</th>\n",
       "      <td>1356998400</td>\n",
       "      <td>1</td>\n",
       "      <td>0</td>\n",
       "      <td>0</td>\n",
       "    </tr>\n",
       "    <tr>\n",
       "      <th>1</th>\n",
       "      <td>1356998400</td>\n",
       "      <td>1</td>\n",
       "      <td>1</td>\n",
       "      <td>0</td>\n",
       "    </tr>\n",
       "    <tr>\n",
       "      <th>2</th>\n",
       "      <td>1356998400</td>\n",
       "      <td>1</td>\n",
       "      <td>2</td>\n",
       "      <td>0</td>\n",
       "    </tr>\n",
       "    <tr>\n",
       "      <th>3</th>\n",
       "      <td>1356998400</td>\n",
       "      <td>1</td>\n",
       "      <td>3</td>\n",
       "      <td>0</td>\n",
       "    </tr>\n",
       "    <tr>\n",
       "      <th>4</th>\n",
       "      <td>1356998400</td>\n",
       "      <td>1</td>\n",
       "      <td>4</td>\n",
       "      <td>0</td>\n",
       "    </tr>\n",
       "    <tr>\n",
       "      <th>...</th>\n",
       "      <td>...</td>\n",
       "      <td>...</td>\n",
       "      <td>...</td>\n",
       "      <td>...</td>\n",
       "    </tr>\n",
       "    <tr>\n",
       "      <th>3000883</th>\n",
       "      <td>1502755200</td>\n",
       "      <td>9</td>\n",
       "      <td>28</td>\n",
       "      <td>0</td>\n",
       "    </tr>\n",
       "    <tr>\n",
       "      <th>3000884</th>\n",
       "      <td>1502755200</td>\n",
       "      <td>9</td>\n",
       "      <td>29</td>\n",
       "      <td>1</td>\n",
       "    </tr>\n",
       "    <tr>\n",
       "      <th>3000885</th>\n",
       "      <td>1502755200</td>\n",
       "      <td>9</td>\n",
       "      <td>30</td>\n",
       "      <td>148</td>\n",
       "    </tr>\n",
       "    <tr>\n",
       "      <th>3000886</th>\n",
       "      <td>1502755200</td>\n",
       "      <td>9</td>\n",
       "      <td>31</td>\n",
       "      <td>8</td>\n",
       "    </tr>\n",
       "    <tr>\n",
       "      <th>3000887</th>\n",
       "      <td>1502755200</td>\n",
       "      <td>9</td>\n",
       "      <td>32</td>\n",
       "      <td>0</td>\n",
       "    </tr>\n",
       "  </tbody>\n",
       "</table>\n",
       "<p>3000888 rows × 4 columns</p>\n",
       "</div>"
      ],
      "text/plain": [
       "           date_int  store_nbr  family_number  onpromotion\n",
       "id                                                        \n",
       "0        1356998400          1              0            0\n",
       "1        1356998400          1              1            0\n",
       "2        1356998400          1              2            0\n",
       "3        1356998400          1              3            0\n",
       "4        1356998400          1              4            0\n",
       "...             ...        ...            ...          ...\n",
       "3000883  1502755200          9             28            0\n",
       "3000884  1502755200          9             29            1\n",
       "3000885  1502755200          9             30          148\n",
       "3000886  1502755200          9             31            8\n",
       "3000887  1502755200          9             32            0\n",
       "\n",
       "[3000888 rows x 4 columns]"
      ]
     },
     "execution_count": 14,
     "metadata": {},
     "output_type": "execute_result"
    }
   ],
   "source": [
    "features = [ 'date_int', 'store_nbr', 'family_number', 'onpromotion']\n",
    "x = df2[features]\n",
    "x.head(len(x))"
   ]
  },
  {
   "cell_type": "code",
   "execution_count": 15,
   "id": "308addd0",
   "metadata": {
    "execution": {
     "iopub.execute_input": "2023-05-31T08:22:54.552284Z",
     "iopub.status.busy": "2023-05-31T08:22:54.551875Z",
     "iopub.status.idle": "2023-05-31T08:23:06.656351Z",
     "shell.execute_reply": "2023-05-31T08:23:06.655423Z"
    },
    "papermill": {
     "duration": 12.130317,
     "end_time": "2023-05-31T08:23:06.659068",
     "exception": false,
     "start_time": "2023-05-31T08:22:54.528751",
     "status": "completed"
    },
    "tags": []
   },
   "outputs": [
    {
     "data": {
      "text/html": [
       "<style>#sk-container-id-1 {color: black;background-color: white;}#sk-container-id-1 pre{padding: 0;}#sk-container-id-1 div.sk-toggleable {background-color: white;}#sk-container-id-1 label.sk-toggleable__label {cursor: pointer;display: block;width: 100%;margin-bottom: 0;padding: 0.3em;box-sizing: border-box;text-align: center;}#sk-container-id-1 label.sk-toggleable__label-arrow:before {content: \"▸\";float: left;margin-right: 0.25em;color: #696969;}#sk-container-id-1 label.sk-toggleable__label-arrow:hover:before {color: black;}#sk-container-id-1 div.sk-estimator:hover label.sk-toggleable__label-arrow:before {color: black;}#sk-container-id-1 div.sk-toggleable__content {max-height: 0;max-width: 0;overflow: hidden;text-align: left;background-color: #f0f8ff;}#sk-container-id-1 div.sk-toggleable__content pre {margin: 0.2em;color: black;border-radius: 0.25em;background-color: #f0f8ff;}#sk-container-id-1 input.sk-toggleable__control:checked~div.sk-toggleable__content {max-height: 200px;max-width: 100%;overflow: auto;}#sk-container-id-1 input.sk-toggleable__control:checked~label.sk-toggleable__label-arrow:before {content: \"▾\";}#sk-container-id-1 div.sk-estimator input.sk-toggleable__control:checked~label.sk-toggleable__label {background-color: #d4ebff;}#sk-container-id-1 div.sk-label input.sk-toggleable__control:checked~label.sk-toggleable__label {background-color: #d4ebff;}#sk-container-id-1 input.sk-hidden--visually {border: 0;clip: rect(1px 1px 1px 1px);clip: rect(1px, 1px, 1px, 1px);height: 1px;margin: -1px;overflow: hidden;padding: 0;position: absolute;width: 1px;}#sk-container-id-1 div.sk-estimator {font-family: monospace;background-color: #f0f8ff;border: 1px dotted black;border-radius: 0.25em;box-sizing: border-box;margin-bottom: 0.5em;}#sk-container-id-1 div.sk-estimator:hover {background-color: #d4ebff;}#sk-container-id-1 div.sk-parallel-item::after {content: \"\";width: 100%;border-bottom: 1px solid gray;flex-grow: 1;}#sk-container-id-1 div.sk-label:hover label.sk-toggleable__label {background-color: #d4ebff;}#sk-container-id-1 div.sk-serial::before {content: \"\";position: absolute;border-left: 1px solid gray;box-sizing: border-box;top: 0;bottom: 0;left: 50%;z-index: 0;}#sk-container-id-1 div.sk-serial {display: flex;flex-direction: column;align-items: center;background-color: white;padding-right: 0.2em;padding-left: 0.2em;position: relative;}#sk-container-id-1 div.sk-item {position: relative;z-index: 1;}#sk-container-id-1 div.sk-parallel {display: flex;align-items: stretch;justify-content: center;background-color: white;position: relative;}#sk-container-id-1 div.sk-item::before, #sk-container-id-1 div.sk-parallel-item::before {content: \"\";position: absolute;border-left: 1px solid gray;box-sizing: border-box;top: 0;bottom: 0;left: 50%;z-index: -1;}#sk-container-id-1 div.sk-parallel-item {display: flex;flex-direction: column;z-index: 1;position: relative;background-color: white;}#sk-container-id-1 div.sk-parallel-item:first-child::after {align-self: flex-end;width: 50%;}#sk-container-id-1 div.sk-parallel-item:last-child::after {align-self: flex-start;width: 50%;}#sk-container-id-1 div.sk-parallel-item:only-child::after {width: 0;}#sk-container-id-1 div.sk-dashed-wrapped {border: 1px dashed gray;margin: 0 0.4em 0.5em 0.4em;box-sizing: border-box;padding-bottom: 0.4em;background-color: white;}#sk-container-id-1 div.sk-label label {font-family: monospace;font-weight: bold;display: inline-block;line-height: 1.2em;}#sk-container-id-1 div.sk-label-container {text-align: center;}#sk-container-id-1 div.sk-container {/* jupyter's `normalize.less` sets `[hidden] { display: none; }` but bootstrap.min.css set `[hidden] { display: none !important; }` so we also need the `!important` here to be able to override the default hidden behavior on the sphinx rendered scikit-learn.org. See: https://github.com/scikit-learn/scikit-learn/issues/21755 */display: inline-block !important;position: relative;}#sk-container-id-1 div.sk-text-repr-fallback {display: none;}</style><div id=\"sk-container-id-1\" class=\"sk-top-container\"><div class=\"sk-text-repr-fallback\"><pre>DecisionTreeRegressor(random_state=1)</pre><b>In a Jupyter environment, please rerun this cell to show the HTML representation or trust the notebook. <br />On GitHub, the HTML representation is unable to render, please try loading this page with nbviewer.org.</b></div><div class=\"sk-container\" hidden><div class=\"sk-item\"><div class=\"sk-estimator sk-toggleable\"><input class=\"sk-toggleable__control sk-hidden--visually\" id=\"sk-estimator-id-1\" type=\"checkbox\" checked><label for=\"sk-estimator-id-1\" class=\"sk-toggleable__label sk-toggleable__label-arrow\">DecisionTreeRegressor</label><div class=\"sk-toggleable__content\"><pre>DecisionTreeRegressor(random_state=1)</pre></div></div></div></div></div>"
      ],
      "text/plain": [
       "DecisionTreeRegressor(random_state=1)"
      ]
     },
     "execution_count": 15,
     "metadata": {},
     "output_type": "execute_result"
    }
   ],
   "source": [
    "from sklearn.tree import DecisionTreeRegressor\n",
    "\n",
    "# Define model. Specify a number for random_state to ensure same results each run\n",
    "tree_model = DecisionTreeRegressor(random_state=1)\n",
    "\n",
    "# Fit model\n",
    "tree_model.fit(x, y)"
   ]
  },
  {
   "cell_type": "markdown",
   "id": "f7d935c9",
   "metadata": {
    "papermill": {
     "duration": 0.02349,
     "end_time": "2023-05-31T08:23:06.704485",
     "exception": false,
     "start_time": "2023-05-31T08:23:06.680995",
     "status": "completed"
    },
    "tags": []
   },
   "source": [
    "## Oil data"
   ]
  },
  {
   "cell_type": "code",
   "execution_count": 16,
   "id": "1316a1f8",
   "metadata": {
    "execution": {
     "iopub.execute_input": "2023-05-31T08:23:06.754989Z",
     "iopub.status.busy": "2023-05-31T08:23:06.753466Z",
     "iopub.status.idle": "2023-05-31T08:23:06.783851Z",
     "shell.execute_reply": "2023-05-31T08:23:06.782447Z"
    },
    "papermill": {
     "duration": 0.058409,
     "end_time": "2023-05-31T08:23:06.786602",
     "exception": false,
     "start_time": "2023-05-31T08:23:06.728193",
     "status": "completed"
    },
    "tags": []
   },
   "outputs": [
    {
     "data": {
      "text/html": [
       "<div>\n",
       "<style scoped>\n",
       "    .dataframe tbody tr th:only-of-type {\n",
       "        vertical-align: middle;\n",
       "    }\n",
       "\n",
       "    .dataframe tbody tr th {\n",
       "        vertical-align: top;\n",
       "    }\n",
       "\n",
       "    .dataframe thead th {\n",
       "        text-align: right;\n",
       "    }\n",
       "</style>\n",
       "<table border=\"1\" class=\"dataframe\">\n",
       "  <thead>\n",
       "    <tr style=\"text-align: right;\">\n",
       "      <th></th>\n",
       "      <th>date</th>\n",
       "      <th>dcoilwtico</th>\n",
       "    </tr>\n",
       "  </thead>\n",
       "  <tbody>\n",
       "    <tr>\n",
       "      <th>0</th>\n",
       "      <td>2013-01-01</td>\n",
       "      <td>NaN</td>\n",
       "    </tr>\n",
       "    <tr>\n",
       "      <th>1</th>\n",
       "      <td>2013-01-02</td>\n",
       "      <td>93.14</td>\n",
       "    </tr>\n",
       "    <tr>\n",
       "      <th>2</th>\n",
       "      <td>2013-01-03</td>\n",
       "      <td>92.97</td>\n",
       "    </tr>\n",
       "    <tr>\n",
       "      <th>3</th>\n",
       "      <td>2013-01-04</td>\n",
       "      <td>93.12</td>\n",
       "    </tr>\n",
       "    <tr>\n",
       "      <th>4</th>\n",
       "      <td>2013-01-07</td>\n",
       "      <td>93.20</td>\n",
       "    </tr>\n",
       "    <tr>\n",
       "      <th>...</th>\n",
       "      <td>...</td>\n",
       "      <td>...</td>\n",
       "    </tr>\n",
       "    <tr>\n",
       "      <th>1213</th>\n",
       "      <td>2017-08-25</td>\n",
       "      <td>47.65</td>\n",
       "    </tr>\n",
       "    <tr>\n",
       "      <th>1214</th>\n",
       "      <td>2017-08-28</td>\n",
       "      <td>46.40</td>\n",
       "    </tr>\n",
       "    <tr>\n",
       "      <th>1215</th>\n",
       "      <td>2017-08-29</td>\n",
       "      <td>46.46</td>\n",
       "    </tr>\n",
       "    <tr>\n",
       "      <th>1216</th>\n",
       "      <td>2017-08-30</td>\n",
       "      <td>45.96</td>\n",
       "    </tr>\n",
       "    <tr>\n",
       "      <th>1217</th>\n",
       "      <td>2017-08-31</td>\n",
       "      <td>47.26</td>\n",
       "    </tr>\n",
       "  </tbody>\n",
       "</table>\n",
       "<p>1218 rows × 2 columns</p>\n",
       "</div>"
      ],
      "text/plain": [
       "           date  dcoilwtico\n",
       "0    2013-01-01         NaN\n",
       "1    2013-01-02       93.14\n",
       "2    2013-01-03       92.97\n",
       "3    2013-01-04       93.12\n",
       "4    2013-01-07       93.20\n",
       "...         ...         ...\n",
       "1213 2017-08-25       47.65\n",
       "1214 2017-08-28       46.40\n",
       "1215 2017-08-29       46.46\n",
       "1216 2017-08-30       45.96\n",
       "1217 2017-08-31       47.26\n",
       "\n",
       "[1218 rows x 2 columns]"
      ]
     },
     "execution_count": 16,
     "metadata": {},
     "output_type": "execute_result"
    }
   ],
   "source": [
    "df_oil = pd.read_csv('/kaggle/input/store-sales-time-series-forecasting/oil.csv',\n",
    "    parse_dates=['date'])\n",
    "df_oil.head(len(df_oil))"
   ]
  },
  {
   "cell_type": "markdown",
   "id": "40a244ae",
   "metadata": {
    "papermill": {
     "duration": 0.023373,
     "end_time": "2023-05-31T08:23:06.832823",
     "exception": false,
     "start_time": "2023-05-31T08:23:06.809450",
     "status": "completed"
    },
    "tags": []
   },
   "source": [
    "Weekends are missing, and data includes test-data dates, from 08-16 to 08-31 2017."
   ]
  },
  {
   "cell_type": "markdown",
   "id": "91846b72",
   "metadata": {
    "papermill": {
     "duration": 0.02245,
     "end_time": "2023-05-31T08:23:06.877833",
     "exception": false,
     "start_time": "2023-05-31T08:23:06.855383",
     "status": "completed"
    },
    "tags": []
   },
   "source": [
    "Add day-of-week column so that we can use it to add weekends. Add date_int column which will be used to merge this dataframe to the original one."
   ]
  },
  {
   "cell_type": "code",
   "execution_count": 17,
   "id": "183a431c",
   "metadata": {
    "execution": {
     "iopub.execute_input": "2023-05-31T08:23:06.924854Z",
     "iopub.status.busy": "2023-05-31T08:23:06.924463Z",
     "iopub.status.idle": "2023-05-31T08:23:06.949778Z",
     "shell.execute_reply": "2023-05-31T08:23:06.948084Z"
    },
    "papermill": {
     "duration": 0.051892,
     "end_time": "2023-05-31T08:23:06.952507",
     "exception": false,
     "start_time": "2023-05-31T08:23:06.900615",
     "status": "completed"
    },
    "tags": []
   },
   "outputs": [
    {
     "data": {
      "text/html": [
       "<div>\n",
       "<style scoped>\n",
       "    .dataframe tbody tr th:only-of-type {\n",
       "        vertical-align: middle;\n",
       "    }\n",
       "\n",
       "    .dataframe tbody tr th {\n",
       "        vertical-align: top;\n",
       "    }\n",
       "\n",
       "    .dataframe thead th {\n",
       "        text-align: right;\n",
       "    }\n",
       "</style>\n",
       "<table border=\"1\" class=\"dataframe\">\n",
       "  <thead>\n",
       "    <tr style=\"text-align: right;\">\n",
       "      <th></th>\n",
       "      <th>date</th>\n",
       "      <th>dcoilwtico</th>\n",
       "      <th>date_int</th>\n",
       "      <th>day_of_week</th>\n",
       "    </tr>\n",
       "  </thead>\n",
       "  <tbody>\n",
       "    <tr>\n",
       "      <th>0</th>\n",
       "      <td>2013-01-01</td>\n",
       "      <td>NaN</td>\n",
       "      <td>1356998400</td>\n",
       "      <td>1</td>\n",
       "    </tr>\n",
       "    <tr>\n",
       "      <th>1</th>\n",
       "      <td>2013-01-02</td>\n",
       "      <td>93.14</td>\n",
       "      <td>1357084800</td>\n",
       "      <td>2</td>\n",
       "    </tr>\n",
       "    <tr>\n",
       "      <th>2</th>\n",
       "      <td>2013-01-03</td>\n",
       "      <td>92.97</td>\n",
       "      <td>1357171200</td>\n",
       "      <td>3</td>\n",
       "    </tr>\n",
       "    <tr>\n",
       "      <th>3</th>\n",
       "      <td>2013-01-04</td>\n",
       "      <td>93.12</td>\n",
       "      <td>1357257600</td>\n",
       "      <td>4</td>\n",
       "    </tr>\n",
       "    <tr>\n",
       "      <th>4</th>\n",
       "      <td>2013-01-07</td>\n",
       "      <td>93.20</td>\n",
       "      <td>1357516800</td>\n",
       "      <td>0</td>\n",
       "    </tr>\n",
       "    <tr>\n",
       "      <th>...</th>\n",
       "      <td>...</td>\n",
       "      <td>...</td>\n",
       "      <td>...</td>\n",
       "      <td>...</td>\n",
       "    </tr>\n",
       "    <tr>\n",
       "      <th>1213</th>\n",
       "      <td>2017-08-25</td>\n",
       "      <td>47.65</td>\n",
       "      <td>1503619200</td>\n",
       "      <td>4</td>\n",
       "    </tr>\n",
       "    <tr>\n",
       "      <th>1214</th>\n",
       "      <td>2017-08-28</td>\n",
       "      <td>46.40</td>\n",
       "      <td>1503878400</td>\n",
       "      <td>0</td>\n",
       "    </tr>\n",
       "    <tr>\n",
       "      <th>1215</th>\n",
       "      <td>2017-08-29</td>\n",
       "      <td>46.46</td>\n",
       "      <td>1503964800</td>\n",
       "      <td>1</td>\n",
       "    </tr>\n",
       "    <tr>\n",
       "      <th>1216</th>\n",
       "      <td>2017-08-30</td>\n",
       "      <td>45.96</td>\n",
       "      <td>1504051200</td>\n",
       "      <td>2</td>\n",
       "    </tr>\n",
       "    <tr>\n",
       "      <th>1217</th>\n",
       "      <td>2017-08-31</td>\n",
       "      <td>47.26</td>\n",
       "      <td>1504137600</td>\n",
       "      <td>3</td>\n",
       "    </tr>\n",
       "  </tbody>\n",
       "</table>\n",
       "<p>1218 rows × 4 columns</p>\n",
       "</div>"
      ],
      "text/plain": [
       "           date  dcoilwtico    date_int  day_of_week\n",
       "0    2013-01-01         NaN  1356998400            1\n",
       "1    2013-01-02       93.14  1357084800            2\n",
       "2    2013-01-03       92.97  1357171200            3\n",
       "3    2013-01-04       93.12  1357257600            4\n",
       "4    2013-01-07       93.20  1357516800            0\n",
       "...         ...         ...         ...          ...\n",
       "1213 2017-08-25       47.65  1503619200            4\n",
       "1214 2017-08-28       46.40  1503878400            0\n",
       "1215 2017-08-29       46.46  1503964800            1\n",
       "1216 2017-08-30       45.96  1504051200            2\n",
       "1217 2017-08-31       47.26  1504137600            3\n",
       "\n",
       "[1218 rows x 4 columns]"
      ]
     },
     "execution_count": 17,
     "metadata": {},
     "output_type": "execute_result"
    }
   ],
   "source": [
    "df_oil['date_int'] = df_oil['date'].map(lambda a : int(round(a.timestamp())) )\n",
    "df_oil['day_of_week']=df_oil['date'].dt.weekday\n",
    "df_oil.head(len(df_oil))"
   ]
  },
  {
   "cell_type": "markdown",
   "id": "46778d22",
   "metadata": {
    "papermill": {
     "duration": 0.022005,
     "end_time": "2023-05-31T08:23:06.996918",
     "exception": false,
     "start_time": "2023-05-31T08:23:06.974913",
     "status": "completed"
    },
    "tags": []
   },
   "source": [
    "Add weekends, by adding a row after every Friday (day_of_week = 4) and before every Monday (day_of_week = 0).\n",
    "To fill in the 'date' we simply write 'Saturday' and 'Sunday', since we will not use this column to train the forest anyway.\n",
    "As for oil prices, the on of Sat is the same as Friday, the one of Sun is the same as Monday. The average may be a better option (I just didn't manage for now..)"
   ]
  },
  {
   "cell_type": "code",
   "execution_count": 18,
   "id": "137c08f1",
   "metadata": {
    "execution": {
     "iopub.execute_input": "2023-05-31T08:23:07.045627Z",
     "iopub.status.busy": "2023-05-31T08:23:07.044390Z",
     "iopub.status.idle": "2023-05-31T08:23:07.063088Z",
     "shell.execute_reply": "2023-05-31T08:23:07.062149Z"
    },
    "papermill": {
     "duration": 0.046,
     "end_time": "2023-05-31T08:23:07.066184",
     "exception": false,
     "start_time": "2023-05-31T08:23:07.020184",
     "status": "completed"
    },
    "tags": []
   },
   "outputs": [],
   "source": [
    "df_oil_Saturday = (pd.concat([df_oil[df_oil.day_of_week==4].assign(date='Saturday', day_of_week = 5, date_int = (df_oil[df_oil.day_of_week==4].date_int+86400)), df_oil])\n",
    "                   .sort_index().reset_index(drop=True))\n",
    "df_oil_weekend = (pd.concat([df_oil_Saturday, df_oil_Saturday[df_oil_Saturday.day_of_week==0].assign(date='Sunday', day_of_week = 6, date_int = (df_oil_Saturday[df_oil_Saturday.day_of_week==0].date_int-86400))])\n",
    "                   .sort_index().reset_index(drop=True))\n",
    "#The above is switching Fridays and Saturdays from the 2nd weekend onwards (WTF??), so let's order by date_int as a suboptimal solution:\n",
    "df_oil_weekend = df_oil_weekend.sort_values('date_int').reset_index(drop=True)"
   ]
  },
  {
   "cell_type": "code",
   "execution_count": 19,
   "id": "be39bb30",
   "metadata": {
    "execution": {
     "iopub.execute_input": "2023-05-31T08:23:07.113510Z",
     "iopub.status.busy": "2023-05-31T08:23:07.113100Z",
     "iopub.status.idle": "2023-05-31T08:23:07.129602Z",
     "shell.execute_reply": "2023-05-31T08:23:07.128168Z"
    },
    "papermill": {
     "duration": 0.043183,
     "end_time": "2023-05-31T08:23:07.132098",
     "exception": false,
     "start_time": "2023-05-31T08:23:07.088915",
     "status": "completed"
    },
    "tags": []
   },
   "outputs": [
    {
     "data": {
      "text/html": [
       "<div>\n",
       "<style scoped>\n",
       "    .dataframe tbody tr th:only-of-type {\n",
       "        vertical-align: middle;\n",
       "    }\n",
       "\n",
       "    .dataframe tbody tr th {\n",
       "        vertical-align: top;\n",
       "    }\n",
       "\n",
       "    .dataframe thead th {\n",
       "        text-align: right;\n",
       "    }\n",
       "</style>\n",
       "<table border=\"1\" class=\"dataframe\">\n",
       "  <thead>\n",
       "    <tr style=\"text-align: right;\">\n",
       "      <th></th>\n",
       "      <th>date</th>\n",
       "      <th>dcoilwtico</th>\n",
       "      <th>date_int</th>\n",
       "      <th>day_of_week</th>\n",
       "    </tr>\n",
       "  </thead>\n",
       "  <tbody>\n",
       "    <tr>\n",
       "      <th>0</th>\n",
       "      <td>2013-01-01 00:00:00</td>\n",
       "      <td>NaN</td>\n",
       "      <td>1356998400</td>\n",
       "      <td>1</td>\n",
       "    </tr>\n",
       "    <tr>\n",
       "      <th>1</th>\n",
       "      <td>2013-01-02 00:00:00</td>\n",
       "      <td>93.14</td>\n",
       "      <td>1357084800</td>\n",
       "      <td>2</td>\n",
       "    </tr>\n",
       "    <tr>\n",
       "      <th>2</th>\n",
       "      <td>2013-01-03 00:00:00</td>\n",
       "      <td>92.97</td>\n",
       "      <td>1357171200</td>\n",
       "      <td>3</td>\n",
       "    </tr>\n",
       "    <tr>\n",
       "      <th>3</th>\n",
       "      <td>2013-01-04 00:00:00</td>\n",
       "      <td>93.12</td>\n",
       "      <td>1357257600</td>\n",
       "      <td>4</td>\n",
       "    </tr>\n",
       "    <tr>\n",
       "      <th>4</th>\n",
       "      <td>Saturday</td>\n",
       "      <td>93.12</td>\n",
       "      <td>1357344000</td>\n",
       "      <td>5</td>\n",
       "    </tr>\n",
       "    <tr>\n",
       "      <th>5</th>\n",
       "      <td>Sunday</td>\n",
       "      <td>93.20</td>\n",
       "      <td>1357430400</td>\n",
       "      <td>6</td>\n",
       "    </tr>\n",
       "    <tr>\n",
       "      <th>6</th>\n",
       "      <td>2013-01-07 00:00:00</td>\n",
       "      <td>93.20</td>\n",
       "      <td>1357516800</td>\n",
       "      <td>0</td>\n",
       "    </tr>\n",
       "    <tr>\n",
       "      <th>7</th>\n",
       "      <td>2013-01-08 00:00:00</td>\n",
       "      <td>93.21</td>\n",
       "      <td>1357603200</td>\n",
       "      <td>1</td>\n",
       "    </tr>\n",
       "    <tr>\n",
       "      <th>8</th>\n",
       "      <td>2013-01-09 00:00:00</td>\n",
       "      <td>93.08</td>\n",
       "      <td>1357689600</td>\n",
       "      <td>2</td>\n",
       "    </tr>\n",
       "    <tr>\n",
       "      <th>9</th>\n",
       "      <td>2013-01-10 00:00:00</td>\n",
       "      <td>93.81</td>\n",
       "      <td>1357776000</td>\n",
       "      <td>3</td>\n",
       "    </tr>\n",
       "    <tr>\n",
       "      <th>10</th>\n",
       "      <td>2013-01-11 00:00:00</td>\n",
       "      <td>93.60</td>\n",
       "      <td>1357862400</td>\n",
       "      <td>4</td>\n",
       "    </tr>\n",
       "    <tr>\n",
       "      <th>11</th>\n",
       "      <td>Saturday</td>\n",
       "      <td>93.60</td>\n",
       "      <td>1357948800</td>\n",
       "      <td>5</td>\n",
       "    </tr>\n",
       "    <tr>\n",
       "      <th>12</th>\n",
       "      <td>Sunday</td>\n",
       "      <td>94.27</td>\n",
       "      <td>1358035200</td>\n",
       "      <td>6</td>\n",
       "    </tr>\n",
       "    <tr>\n",
       "      <th>13</th>\n",
       "      <td>2013-01-14 00:00:00</td>\n",
       "      <td>94.27</td>\n",
       "      <td>1358121600</td>\n",
       "      <td>0</td>\n",
       "    </tr>\n",
       "    <tr>\n",
       "      <th>14</th>\n",
       "      <td>2013-01-15 00:00:00</td>\n",
       "      <td>93.26</td>\n",
       "      <td>1358208000</td>\n",
       "      <td>1</td>\n",
       "    </tr>\n",
       "    <tr>\n",
       "      <th>15</th>\n",
       "      <td>2013-01-16 00:00:00</td>\n",
       "      <td>94.28</td>\n",
       "      <td>1358294400</td>\n",
       "      <td>2</td>\n",
       "    </tr>\n",
       "    <tr>\n",
       "      <th>16</th>\n",
       "      <td>2013-01-17 00:00:00</td>\n",
       "      <td>95.49</td>\n",
       "      <td>1358380800</td>\n",
       "      <td>3</td>\n",
       "    </tr>\n",
       "    <tr>\n",
       "      <th>17</th>\n",
       "      <td>2013-01-18 00:00:00</td>\n",
       "      <td>95.61</td>\n",
       "      <td>1358467200</td>\n",
       "      <td>4</td>\n",
       "    </tr>\n",
       "    <tr>\n",
       "      <th>18</th>\n",
       "      <td>Saturday</td>\n",
       "      <td>95.61</td>\n",
       "      <td>1358553600</td>\n",
       "      <td>5</td>\n",
       "    </tr>\n",
       "    <tr>\n",
       "      <th>19</th>\n",
       "      <td>Sunday</td>\n",
       "      <td>NaN</td>\n",
       "      <td>1358640000</td>\n",
       "      <td>6</td>\n",
       "    </tr>\n",
       "  </tbody>\n",
       "</table>\n",
       "</div>"
      ],
      "text/plain": [
       "                   date  dcoilwtico    date_int  day_of_week\n",
       "0   2013-01-01 00:00:00         NaN  1356998400            1\n",
       "1   2013-01-02 00:00:00       93.14  1357084800            2\n",
       "2   2013-01-03 00:00:00       92.97  1357171200            3\n",
       "3   2013-01-04 00:00:00       93.12  1357257600            4\n",
       "4              Saturday       93.12  1357344000            5\n",
       "5                Sunday       93.20  1357430400            6\n",
       "6   2013-01-07 00:00:00       93.20  1357516800            0\n",
       "7   2013-01-08 00:00:00       93.21  1357603200            1\n",
       "8   2013-01-09 00:00:00       93.08  1357689600            2\n",
       "9   2013-01-10 00:00:00       93.81  1357776000            3\n",
       "10  2013-01-11 00:00:00       93.60  1357862400            4\n",
       "11             Saturday       93.60  1357948800            5\n",
       "12               Sunday       94.27  1358035200            6\n",
       "13  2013-01-14 00:00:00       94.27  1358121600            0\n",
       "14  2013-01-15 00:00:00       93.26  1358208000            1\n",
       "15  2013-01-16 00:00:00       94.28  1358294400            2\n",
       "16  2013-01-17 00:00:00       95.49  1358380800            3\n",
       "17  2013-01-18 00:00:00       95.61  1358467200            4\n",
       "18             Saturday       95.61  1358553600            5\n",
       "19               Sunday         NaN  1358640000            6"
      ]
     },
     "execution_count": 19,
     "metadata": {},
     "output_type": "execute_result"
    }
   ],
   "source": [
    "df_oil_weekend.head(20)"
   ]
  },
  {
   "cell_type": "markdown",
   "id": "5081092d",
   "metadata": {
    "papermill": {
     "duration": 0.022526,
     "end_time": "2023-05-31T08:23:07.177451",
     "exception": false,
     "start_time": "2023-05-31T08:23:07.154925",
     "status": "completed"
    },
    "tags": []
   },
   "source": [
    "## Merge oil feature to rest"
   ]
  },
  {
   "cell_type": "code",
   "execution_count": 20,
   "id": "4c23ecac",
   "metadata": {
    "execution": {
     "iopub.execute_input": "2023-05-31T08:23:07.226145Z",
     "iopub.status.busy": "2023-05-31T08:23:07.225279Z",
     "iopub.status.idle": "2023-05-31T08:23:07.231919Z",
     "shell.execute_reply": "2023-05-31T08:23:07.230823Z"
    },
    "papermill": {
     "duration": 0.033769,
     "end_time": "2023-05-31T08:23:07.234163",
     "exception": false,
     "start_time": "2023-05-31T08:23:07.200394",
     "status": "completed"
    },
    "tags": []
   },
   "outputs": [
    {
     "name": "stdout",
     "output_type": "stream",
     "text": [
      "Index(['date', 'dcoilwtico', 'date_int', 'day_of_week'], dtype='object')\n",
      "Index(['date', 'store_nbr', 'family', 'sales', 'onpromotion', 'date_int',\n",
      "       'family_number'],\n",
      "      dtype='object')\n"
     ]
    }
   ],
   "source": [
    "print(df_oil_weekend.columns)\n",
    "print(df2.columns)"
   ]
  },
  {
   "cell_type": "code",
   "execution_count": 21,
   "id": "f5ed0e04",
   "metadata": {
    "execution": {
     "iopub.execute_input": "2023-05-31T08:23:07.282592Z",
     "iopub.status.busy": "2023-05-31T08:23:07.281783Z",
     "iopub.status.idle": "2023-05-31T08:23:07.804271Z",
     "shell.execute_reply": "2023-05-31T08:23:07.803143Z"
    },
    "papermill": {
     "duration": 0.549581,
     "end_time": "2023-05-31T08:23:07.806827",
     "exception": false,
     "start_time": "2023-05-31T08:23:07.257246",
     "status": "completed"
    },
    "tags": []
   },
   "outputs": [
    {
     "data": {
      "text/html": [
       "<div>\n",
       "<style scoped>\n",
       "    .dataframe tbody tr th:only-of-type {\n",
       "        vertical-align: middle;\n",
       "    }\n",
       "\n",
       "    .dataframe tbody tr th {\n",
       "        vertical-align: top;\n",
       "    }\n",
       "\n",
       "    .dataframe thead th {\n",
       "        text-align: right;\n",
       "    }\n",
       "</style>\n",
       "<table border=\"1\" class=\"dataframe\">\n",
       "  <thead>\n",
       "    <tr style=\"text-align: right;\">\n",
       "      <th></th>\n",
       "      <th>date</th>\n",
       "      <th>date_int</th>\n",
       "      <th>store_nbr</th>\n",
       "      <th>family_number</th>\n",
       "      <th>sales</th>\n",
       "      <th>onpromotion</th>\n",
       "      <th>dcoilwtico</th>\n",
       "      <th>day_of_week</th>\n",
       "    </tr>\n",
       "  </thead>\n",
       "  <tbody>\n",
       "    <tr>\n",
       "      <th>0</th>\n",
       "      <td>2013-01-01</td>\n",
       "      <td>1356998400</td>\n",
       "      <td>1</td>\n",
       "      <td>0</td>\n",
       "      <td>0.000</td>\n",
       "      <td>0</td>\n",
       "      <td>NaN</td>\n",
       "      <td>1</td>\n",
       "    </tr>\n",
       "    <tr>\n",
       "      <th>1</th>\n",
       "      <td>2013-01-01</td>\n",
       "      <td>1356998400</td>\n",
       "      <td>1</td>\n",
       "      <td>1</td>\n",
       "      <td>0.000</td>\n",
       "      <td>0</td>\n",
       "      <td>NaN</td>\n",
       "      <td>1</td>\n",
       "    </tr>\n",
       "    <tr>\n",
       "      <th>2</th>\n",
       "      <td>2013-01-01</td>\n",
       "      <td>1356998400</td>\n",
       "      <td>1</td>\n",
       "      <td>2</td>\n",
       "      <td>0.000</td>\n",
       "      <td>0</td>\n",
       "      <td>NaN</td>\n",
       "      <td>1</td>\n",
       "    </tr>\n",
       "    <tr>\n",
       "      <th>3</th>\n",
       "      <td>2013-01-01</td>\n",
       "      <td>1356998400</td>\n",
       "      <td>1</td>\n",
       "      <td>3</td>\n",
       "      <td>0.000</td>\n",
       "      <td>0</td>\n",
       "      <td>NaN</td>\n",
       "      <td>1</td>\n",
       "    </tr>\n",
       "    <tr>\n",
       "      <th>4</th>\n",
       "      <td>2013-01-01</td>\n",
       "      <td>1356998400</td>\n",
       "      <td>1</td>\n",
       "      <td>4</td>\n",
       "      <td>0.000</td>\n",
       "      <td>0</td>\n",
       "      <td>NaN</td>\n",
       "      <td>1</td>\n",
       "    </tr>\n",
       "    <tr>\n",
       "      <th>...</th>\n",
       "      <td>...</td>\n",
       "      <td>...</td>\n",
       "      <td>...</td>\n",
       "      <td>...</td>\n",
       "      <td>...</td>\n",
       "      <td>...</td>\n",
       "      <td>...</td>\n",
       "      <td>...</td>\n",
       "    </tr>\n",
       "    <tr>\n",
       "      <th>3000883</th>\n",
       "      <td>2017-08-15</td>\n",
       "      <td>1502755200</td>\n",
       "      <td>9</td>\n",
       "      <td>28</td>\n",
       "      <td>438.133</td>\n",
       "      <td>0</td>\n",
       "      <td>47.57</td>\n",
       "      <td>1</td>\n",
       "    </tr>\n",
       "    <tr>\n",
       "      <th>3000884</th>\n",
       "      <td>2017-08-15</td>\n",
       "      <td>1502755200</td>\n",
       "      <td>9</td>\n",
       "      <td>29</td>\n",
       "      <td>154.553</td>\n",
       "      <td>1</td>\n",
       "      <td>47.57</td>\n",
       "      <td>1</td>\n",
       "    </tr>\n",
       "    <tr>\n",
       "      <th>3000885</th>\n",
       "      <td>2017-08-15</td>\n",
       "      <td>1502755200</td>\n",
       "      <td>9</td>\n",
       "      <td>30</td>\n",
       "      <td>2419.729</td>\n",
       "      <td>148</td>\n",
       "      <td>47.57</td>\n",
       "      <td>1</td>\n",
       "    </tr>\n",
       "    <tr>\n",
       "      <th>3000886</th>\n",
       "      <td>2017-08-15</td>\n",
       "      <td>1502755200</td>\n",
       "      <td>9</td>\n",
       "      <td>31</td>\n",
       "      <td>121.000</td>\n",
       "      <td>8</td>\n",
       "      <td>47.57</td>\n",
       "      <td>1</td>\n",
       "    </tr>\n",
       "    <tr>\n",
       "      <th>3000887</th>\n",
       "      <td>2017-08-15</td>\n",
       "      <td>1502755200</td>\n",
       "      <td>9</td>\n",
       "      <td>32</td>\n",
       "      <td>16.000</td>\n",
       "      <td>0</td>\n",
       "      <td>47.57</td>\n",
       "      <td>1</td>\n",
       "    </tr>\n",
       "  </tbody>\n",
       "</table>\n",
       "<p>3000888 rows × 8 columns</p>\n",
       "</div>"
      ],
      "text/plain": [
       "              date    date_int  store_nbr  family_number     sales  \\\n",
       "0       2013-01-01  1356998400          1              0     0.000   \n",
       "1       2013-01-01  1356998400          1              1     0.000   \n",
       "2       2013-01-01  1356998400          1              2     0.000   \n",
       "3       2013-01-01  1356998400          1              3     0.000   \n",
       "4       2013-01-01  1356998400          1              4     0.000   \n",
       "...            ...         ...        ...            ...       ...   \n",
       "3000883 2017-08-15  1502755200          9             28   438.133   \n",
       "3000884 2017-08-15  1502755200          9             29   154.553   \n",
       "3000885 2017-08-15  1502755200          9             30  2419.729   \n",
       "3000886 2017-08-15  1502755200          9             31   121.000   \n",
       "3000887 2017-08-15  1502755200          9             32    16.000   \n",
       "\n",
       "         onpromotion  dcoilwtico  day_of_week  \n",
       "0                  0         NaN            1  \n",
       "1                  0         NaN            1  \n",
       "2                  0         NaN            1  \n",
       "3                  0         NaN            1  \n",
       "4                  0         NaN            1  \n",
       "...              ...         ...          ...  \n",
       "3000883            0       47.57            1  \n",
       "3000884            1       47.57            1  \n",
       "3000885          148       47.57            1  \n",
       "3000886            8       47.57            1  \n",
       "3000887            0       47.57            1  \n",
       "\n",
       "[3000888 rows x 8 columns]"
      ]
     },
     "execution_count": 21,
     "metadata": {},
     "output_type": "execute_result"
    }
   ],
   "source": [
    "df_merged = pd.merge(df2[['date', 'date_int', 'store_nbr', 'family_number', 'sales', 'onpromotion']]\n",
    "                     , df_oil_weekend[['dcoilwtico', 'day_of_week', 'date_int']], on=\"date_int\", how=\"left\")\n",
    "df_merged.head(len(df_merged))"
   ]
  },
  {
   "cell_type": "markdown",
   "id": "9f26c888",
   "metadata": {
    "papermill": {
     "duration": 0.022833,
     "end_time": "2023-05-31T08:23:07.852803",
     "exception": false,
     "start_time": "2023-05-31T08:23:07.829970",
     "status": "completed"
    },
    "tags": []
   },
   "source": [
    "The above produces dataframe already up to 2017-08-15, so we don't need to crop out test data that originally sits in the oil dataframe. Also Christmas days are not there:"
   ]
  },
  {
   "cell_type": "code",
   "execution_count": 22,
   "id": "8aba7c82",
   "metadata": {
    "execution": {
     "iopub.execute_input": "2023-05-31T08:23:07.901496Z",
     "iopub.status.busy": "2023-05-31T08:23:07.900777Z",
     "iopub.status.idle": "2023-05-31T08:24:01.900767Z",
     "shell.execute_reply": "2023-05-31T08:24:01.899407Z"
    },
    "papermill": {
     "duration": 54.050209,
     "end_time": "2023-05-31T08:24:01.926358",
     "exception": false,
     "start_time": "2023-05-31T08:23:07.876149",
     "status": "completed"
    },
    "tags": []
   },
   "outputs": [
    {
     "name": "stdout",
     "output_type": "stream",
     "text": [
      "True False\n"
     ]
    }
   ],
   "source": [
    "print(pd.Timestamp('2013-12-24 00:00:00') in df_merged.values,\n",
    "pd.Timestamp('2013-12-25 00:00:00') in df_merged.values)"
   ]
  },
  {
   "cell_type": "markdown",
   "id": "00f271ab",
   "metadata": {
    "papermill": {
     "duration": 0.023421,
     "end_time": "2023-05-31T08:24:01.973771",
     "exception": false,
     "start_time": "2023-05-31T08:24:01.950350",
     "status": "completed"
    },
    "tags": []
   },
   "source": [
    "Drop all rows with NaN values from dataframe."
   ]
  },
  {
   "cell_type": "code",
   "execution_count": 23,
   "id": "f0dc9d46",
   "metadata": {
    "execution": {
     "iopub.execute_input": "2023-05-31T08:24:02.025645Z",
     "iopub.status.busy": "2023-05-31T08:24:02.025178Z",
     "iopub.status.idle": "2023-05-31T08:24:02.264496Z",
     "shell.execute_reply": "2023-05-31T08:24:02.263077Z"
    },
    "papermill": {
     "duration": 0.268342,
     "end_time": "2023-05-31T08:24:02.267236",
     "exception": false,
     "start_time": "2023-05-31T08:24:01.998894",
     "status": "completed"
    },
    "tags": []
   },
   "outputs": [],
   "source": [
    "df3=df_merged.dropna(subset=['date_int', 'store_nbr', 'family_number', 'sales',\n",
    "       'onpromotion', 'dcoilwtico', 'day_of_week']).reset_index(drop=True)"
   ]
  },
  {
   "cell_type": "code",
   "execution_count": 24,
   "id": "c6f7d9a9",
   "metadata": {
    "execution": {
     "iopub.execute_input": "2023-05-31T08:24:02.315900Z",
     "iopub.status.busy": "2023-05-31T08:24:02.315469Z",
     "iopub.status.idle": "2023-05-31T08:24:02.336704Z",
     "shell.execute_reply": "2023-05-31T08:24:02.335836Z"
    },
    "papermill": {
     "duration": 0.048136,
     "end_time": "2023-05-31T08:24:02.338909",
     "exception": false,
     "start_time": "2023-05-31T08:24:02.290773",
     "status": "completed"
    },
    "tags": []
   },
   "outputs": [
    {
     "data": {
      "text/html": [
       "<div>\n",
       "<style scoped>\n",
       "    .dataframe tbody tr th:only-of-type {\n",
       "        vertical-align: middle;\n",
       "    }\n",
       "\n",
       "    .dataframe tbody tr th {\n",
       "        vertical-align: top;\n",
       "    }\n",
       "\n",
       "    .dataframe thead th {\n",
       "        text-align: right;\n",
       "    }\n",
       "</style>\n",
       "<table border=\"1\" class=\"dataframe\">\n",
       "  <thead>\n",
       "    <tr style=\"text-align: right;\">\n",
       "      <th></th>\n",
       "      <th>date</th>\n",
       "      <th>date_int</th>\n",
       "      <th>store_nbr</th>\n",
       "      <th>family_number</th>\n",
       "      <th>sales</th>\n",
       "      <th>onpromotion</th>\n",
       "      <th>dcoilwtico</th>\n",
       "      <th>day_of_week</th>\n",
       "    </tr>\n",
       "  </thead>\n",
       "  <tbody>\n",
       "    <tr>\n",
       "      <th>0</th>\n",
       "      <td>2013-01-02</td>\n",
       "      <td>1357084800</td>\n",
       "      <td>1</td>\n",
       "      <td>0</td>\n",
       "      <td>2.000</td>\n",
       "      <td>0</td>\n",
       "      <td>93.14</td>\n",
       "      <td>2</td>\n",
       "    </tr>\n",
       "    <tr>\n",
       "      <th>1</th>\n",
       "      <td>2013-01-02</td>\n",
       "      <td>1357084800</td>\n",
       "      <td>1</td>\n",
       "      <td>1</td>\n",
       "      <td>0.000</td>\n",
       "      <td>0</td>\n",
       "      <td>93.14</td>\n",
       "      <td>2</td>\n",
       "    </tr>\n",
       "    <tr>\n",
       "      <th>2</th>\n",
       "      <td>2013-01-02</td>\n",
       "      <td>1357084800</td>\n",
       "      <td>1</td>\n",
       "      <td>2</td>\n",
       "      <td>2.000</td>\n",
       "      <td>0</td>\n",
       "      <td>93.14</td>\n",
       "      <td>2</td>\n",
       "    </tr>\n",
       "    <tr>\n",
       "      <th>3</th>\n",
       "      <td>2013-01-02</td>\n",
       "      <td>1357084800</td>\n",
       "      <td>1</td>\n",
       "      <td>3</td>\n",
       "      <td>1091.000</td>\n",
       "      <td>0</td>\n",
       "      <td>93.14</td>\n",
       "      <td>2</td>\n",
       "    </tr>\n",
       "    <tr>\n",
       "      <th>4</th>\n",
       "      <td>2013-01-02</td>\n",
       "      <td>1357084800</td>\n",
       "      <td>1</td>\n",
       "      <td>4</td>\n",
       "      <td>0.000</td>\n",
       "      <td>0</td>\n",
       "      <td>93.14</td>\n",
       "      <td>2</td>\n",
       "    </tr>\n",
       "    <tr>\n",
       "      <th>...</th>\n",
       "      <td>...</td>\n",
       "      <td>...</td>\n",
       "      <td>...</td>\n",
       "      <td>...</td>\n",
       "      <td>...</td>\n",
       "      <td>...</td>\n",
       "      <td>...</td>\n",
       "      <td>...</td>\n",
       "    </tr>\n",
       "    <tr>\n",
       "      <th>2874361</th>\n",
       "      <td>2017-08-15</td>\n",
       "      <td>1502755200</td>\n",
       "      <td>9</td>\n",
       "      <td>28</td>\n",
       "      <td>438.133</td>\n",
       "      <td>0</td>\n",
       "      <td>47.57</td>\n",
       "      <td>1</td>\n",
       "    </tr>\n",
       "    <tr>\n",
       "      <th>2874362</th>\n",
       "      <td>2017-08-15</td>\n",
       "      <td>1502755200</td>\n",
       "      <td>9</td>\n",
       "      <td>29</td>\n",
       "      <td>154.553</td>\n",
       "      <td>1</td>\n",
       "      <td>47.57</td>\n",
       "      <td>1</td>\n",
       "    </tr>\n",
       "    <tr>\n",
       "      <th>2874363</th>\n",
       "      <td>2017-08-15</td>\n",
       "      <td>1502755200</td>\n",
       "      <td>9</td>\n",
       "      <td>30</td>\n",
       "      <td>2419.729</td>\n",
       "      <td>148</td>\n",
       "      <td>47.57</td>\n",
       "      <td>1</td>\n",
       "    </tr>\n",
       "    <tr>\n",
       "      <th>2874364</th>\n",
       "      <td>2017-08-15</td>\n",
       "      <td>1502755200</td>\n",
       "      <td>9</td>\n",
       "      <td>31</td>\n",
       "      <td>121.000</td>\n",
       "      <td>8</td>\n",
       "      <td>47.57</td>\n",
       "      <td>1</td>\n",
       "    </tr>\n",
       "    <tr>\n",
       "      <th>2874365</th>\n",
       "      <td>2017-08-15</td>\n",
       "      <td>1502755200</td>\n",
       "      <td>9</td>\n",
       "      <td>32</td>\n",
       "      <td>16.000</td>\n",
       "      <td>0</td>\n",
       "      <td>47.57</td>\n",
       "      <td>1</td>\n",
       "    </tr>\n",
       "  </tbody>\n",
       "</table>\n",
       "<p>2874366 rows × 8 columns</p>\n",
       "</div>"
      ],
      "text/plain": [
       "              date    date_int  store_nbr  family_number     sales  \\\n",
       "0       2013-01-02  1357084800          1              0     2.000   \n",
       "1       2013-01-02  1357084800          1              1     0.000   \n",
       "2       2013-01-02  1357084800          1              2     2.000   \n",
       "3       2013-01-02  1357084800          1              3  1091.000   \n",
       "4       2013-01-02  1357084800          1              4     0.000   \n",
       "...            ...         ...        ...            ...       ...   \n",
       "2874361 2017-08-15  1502755200          9             28   438.133   \n",
       "2874362 2017-08-15  1502755200          9             29   154.553   \n",
       "2874363 2017-08-15  1502755200          9             30  2419.729   \n",
       "2874364 2017-08-15  1502755200          9             31   121.000   \n",
       "2874365 2017-08-15  1502755200          9             32    16.000   \n",
       "\n",
       "         onpromotion  dcoilwtico  day_of_week  \n",
       "0                  0       93.14            2  \n",
       "1                  0       93.14            2  \n",
       "2                  0       93.14            2  \n",
       "3                  0       93.14            2  \n",
       "4                  0       93.14            2  \n",
       "...              ...         ...          ...  \n",
       "2874361            0       47.57            1  \n",
       "2874362            1       47.57            1  \n",
       "2874363          148       47.57            1  \n",
       "2874364            8       47.57            1  \n",
       "2874365            0       47.57            1  \n",
       "\n",
       "[2874366 rows x 8 columns]"
      ]
     },
     "execution_count": 24,
     "metadata": {},
     "output_type": "execute_result"
    }
   ],
   "source": [
    "df3.head(len(df3))"
   ]
  },
  {
   "cell_type": "markdown",
   "id": "322c9788",
   "metadata": {
    "papermill": {
     "duration": 0.023304,
     "end_time": "2023-05-31T08:24:02.386495",
     "exception": false,
     "start_time": "2023-05-31T08:24:02.363191",
     "status": "completed"
    },
    "tags": []
   },
   "source": [
    "## Train forest with oil data"
   ]
  },
  {
   "cell_type": "code",
   "execution_count": 25,
   "id": "47ea816d",
   "metadata": {
    "execution": {
     "iopub.execute_input": "2023-05-31T08:24:02.435910Z",
     "iopub.status.busy": "2023-05-31T08:24:02.435499Z",
     "iopub.status.idle": "2023-05-31T08:24:02.440992Z",
     "shell.execute_reply": "2023-05-31T08:24:02.439926Z"
    },
    "papermill": {
     "duration": 0.033049,
     "end_time": "2023-05-31T08:24:02.443462",
     "exception": false,
     "start_time": "2023-05-31T08:24:02.410413",
     "status": "completed"
    },
    "tags": []
   },
   "outputs": [],
   "source": [
    "from sklearn.tree import DecisionTreeRegressor\n",
    "from sklearn.model_selection import train_test_split\n",
    "from sklearn.metrics import mean_absolute_error"
   ]
  },
  {
   "cell_type": "code",
   "execution_count": 26,
   "id": "0d017022",
   "metadata": {
    "execution": {
     "iopub.execute_input": "2023-05-31T08:24:02.493100Z",
     "iopub.status.busy": "2023-05-31T08:24:02.492663Z",
     "iopub.status.idle": "2023-05-31T08:24:02.500202Z",
     "shell.execute_reply": "2023-05-31T08:24:02.499183Z"
    },
    "papermill": {
     "duration": 0.035441,
     "end_time": "2023-05-31T08:24:02.502606",
     "exception": false,
     "start_time": "2023-05-31T08:24:02.467165",
     "status": "completed"
    },
    "tags": []
   },
   "outputs": [
    {
     "data": {
      "text/plain": [
       "Index(['date', 'date_int', 'store_nbr', 'family_number', 'sales',\n",
       "       'onpromotion', 'dcoilwtico', 'day_of_week'],\n",
       "      dtype='object')"
      ]
     },
     "execution_count": 26,
     "metadata": {},
     "output_type": "execute_result"
    }
   ],
   "source": [
    "df3.columns"
   ]
  },
  {
   "cell_type": "code",
   "execution_count": 27,
   "id": "cd363544",
   "metadata": {
    "execution": {
     "iopub.execute_input": "2023-05-31T08:24:02.553092Z",
     "iopub.status.busy": "2023-05-31T08:24:02.552703Z",
     "iopub.status.idle": "2023-05-31T08:24:02.602723Z",
     "shell.execute_reply": "2023-05-31T08:24:02.601854Z"
    },
    "papermill": {
     "duration": 0.078448,
     "end_time": "2023-05-31T08:24:02.605186",
     "exception": false,
     "start_time": "2023-05-31T08:24:02.526738",
     "status": "completed"
    },
    "tags": []
   },
   "outputs": [],
   "source": [
    "y = df3.sales\n",
    "features = ['date_int', 'store_nbr', 'family_number',\n",
    "       'onpromotion', 'dcoilwtico', 'day_of_week']\n",
    "x = df3[features]"
   ]
  },
  {
   "cell_type": "code",
   "execution_count": 28,
   "id": "dd92e16b",
   "metadata": {
    "execution": {
     "iopub.execute_input": "2023-05-31T08:24:02.655215Z",
     "iopub.status.busy": "2023-05-31T08:24:02.654826Z",
     "iopub.status.idle": "2023-05-31T08:24:05.661322Z",
     "shell.execute_reply": "2023-05-31T08:24:05.660077Z"
    },
    "papermill": {
     "duration": 3.034646,
     "end_time": "2023-05-31T08:24:05.664034",
     "exception": false,
     "start_time": "2023-05-31T08:24:02.629388",
     "status": "completed"
    },
    "tags": []
   },
   "outputs": [],
   "source": [
    "train_x, val_x, train_y, val_y = train_test_split(x, y, random_state = 1)\n",
    "# Define model\n",
    "forest_oil_model = DecisionTreeRegressor(max_depth=3)\n",
    "# Fit model\n",
    "forest_oil_model.fit(train_x, train_y)\n",
    "\n",
    "# get predicted prices on validation data\n",
    "val_predictions = forest_oil_model.predict(val_x)"
   ]
  },
  {
   "cell_type": "markdown",
   "id": "a0b1e612",
   "metadata": {
    "papermill": {
     "duration": 0.023615,
     "end_time": "2023-05-31T08:24:05.711625",
     "exception": false,
     "start_time": "2023-05-31T08:24:05.688010",
     "status": "completed"
    },
    "tags": []
   },
   "source": [
    "Calculate Mean Absolute Error, which is: take the absolute value of the error of each record, then take the average of those absolute errors."
   ]
  },
  {
   "cell_type": "code",
   "execution_count": 29,
   "id": "ee34408b",
   "metadata": {
    "execution": {
     "iopub.execute_input": "2023-05-31T08:24:05.761102Z",
     "iopub.status.busy": "2023-05-31T08:24:05.760689Z",
     "iopub.status.idle": "2023-05-31T08:24:05.771217Z",
     "shell.execute_reply": "2023-05-31T08:24:05.769920Z"
    },
    "papermill": {
     "duration": 0.038133,
     "end_time": "2023-05-31T08:24:05.773484",
     "exception": false,
     "start_time": "2023-05-31T08:24:05.735351",
     "status": "completed"
    },
    "tags": []
   },
   "outputs": [
    {
     "name": "stdout",
     "output_type": "stream",
     "text": [
      "384.4581171979527\n"
     ]
    }
   ],
   "source": [
    "print(mean_absolute_error(val_y, val_predictions))"
   ]
  },
  {
   "cell_type": "code",
   "execution_count": 30,
   "id": "675fd40d",
   "metadata": {
    "execution": {
     "iopub.execute_input": "2023-05-31T08:24:05.824554Z",
     "iopub.status.busy": "2023-05-31T08:24:05.823900Z",
     "iopub.status.idle": "2023-05-31T08:24:05.850330Z",
     "shell.execute_reply": "2023-05-31T08:24:05.849058Z"
    },
    "papermill": {
     "duration": 0.054652,
     "end_time": "2023-05-31T08:24:05.852940",
     "exception": false,
     "start_time": "2023-05-31T08:24:05.798288",
     "status": "completed"
    },
    "tags": []
   },
   "outputs": [
    {
     "name": "stdout",
     "output_type": "stream",
     "text": [
      "min sale: 0.0 , max sale: 124717.0 , mean sales: 357.2198680490785\n"
     ]
    }
   ],
   "source": [
    "print(\"min sale:\", df3['sales'].min(), \", max sale:\", df3['sales'].max(), \", mean sales:\", df3['sales'].mean())\n"
   ]
  },
  {
   "cell_type": "code",
   "execution_count": 31,
   "id": "08e53617",
   "metadata": {
    "execution": {
     "iopub.execute_input": "2023-05-31T08:24:05.903086Z",
     "iopub.status.busy": "2023-05-31T08:24:05.902678Z",
     "iopub.status.idle": "2023-05-31T08:24:05.919900Z",
     "shell.execute_reply": "2023-05-31T08:24:05.918493Z"
    },
    "papermill": {
     "duration": 0.045432,
     "end_time": "2023-05-31T08:24:05.922404",
     "exception": false,
     "start_time": "2023-05-31T08:24:05.876972",
     "status": "completed"
    },
    "tags": []
   },
   "outputs": [
    {
     "name": "stdout",
     "output_type": "stream",
     "text": [
      "So the error average is of about 108 %\n"
     ]
    }
   ],
   "source": [
    "print(\"So the error average is of about\", round(mean_absolute_error(val_y, val_predictions)/df3['sales'].mean()*100),\"%\")"
   ]
  },
  {
   "cell_type": "markdown",
   "id": "59bce45c",
   "metadata": {
    "papermill": {
     "duration": 0.024038,
     "end_time": "2023-05-31T08:24:05.971046",
     "exception": false,
     "start_time": "2023-05-31T08:24:05.947008",
     "status": "completed"
    },
    "tags": []
   },
   "source": [
    "### Test prediction"
   ]
  },
  {
   "cell_type": "code",
   "execution_count": 32,
   "id": "be9504a0",
   "metadata": {
    "execution": {
     "iopub.execute_input": "2023-05-31T08:24:06.021359Z",
     "iopub.status.busy": "2023-05-31T08:24:06.020947Z",
     "iopub.status.idle": "2023-05-31T08:24:06.025791Z",
     "shell.execute_reply": "2023-05-31T08:24:06.024622Z"
    },
    "papermill": {
     "duration": 0.033053,
     "end_time": "2023-05-31T08:24:06.028220",
     "exception": false,
     "start_time": "2023-05-31T08:24:05.995167",
     "status": "completed"
    },
    "tags": []
   },
   "outputs": [],
   "source": [
    "#print(\"Making predictions for the following 15 items:\")\n",
    "#print(df2.iloc[-150:-135,:])\n",
    "#print(\"The predictions are\")\n",
    "#prediction = tree_model.predict(x.iloc[-150:-135,:])\n",
    "#print(prediction)"
   ]
  },
  {
   "cell_type": "markdown",
   "id": "3386f679",
   "metadata": {
    "papermill": {
     "duration": 0.024122,
     "end_time": "2023-05-31T08:24:06.076776",
     "exception": false,
     "start_time": "2023-05-31T08:24:06.052654",
     "status": "completed"
    },
    "tags": []
   },
   "source": [
    "# Calculate Success rate"
   ]
  },
  {
   "cell_type": "code",
   "execution_count": 33,
   "id": "f44ddd2c",
   "metadata": {
    "execution": {
     "iopub.execute_input": "2023-05-31T08:24:06.127542Z",
     "iopub.status.busy": "2023-05-31T08:24:06.126852Z",
     "iopub.status.idle": "2023-05-31T08:24:06.131920Z",
     "shell.execute_reply": "2023-05-31T08:24:06.130832Z"
    },
    "papermill": {
     "duration": 0.033304,
     "end_time": "2023-05-31T08:24:06.134469",
     "exception": false,
     "start_time": "2023-05-31T08:24:06.101165",
     "status": "completed"
    },
    "tags": []
   },
   "outputs": [],
   "source": [
    "#data = df2.iloc[-150:-135,3]\n",
    "# data = data.reset_index(drop=True)\n",
    "#print(data)\n",
    "#print(prediction)\n",
    "\n",
    "#eff = (prediction - data)/data\n",
    "#print(\"Efficiency: (expressed as 100% distance from expected value) \" , eff*100)"
   ]
  },
  {
   "cell_type": "markdown",
   "id": "9a4daf92",
   "metadata": {
    "papermill": {
     "duration": 0.02409,
     "end_time": "2023-05-31T08:24:06.182888",
     "exception": false,
     "start_time": "2023-05-31T08:24:06.158798",
     "status": "completed"
    },
    "tags": []
   },
   "source": [
    "without family: out of 15 predictions: 3 predictions are spot-on, 2 are less than 50% off, the rest are off by up to 1000%\n",
    "with family: all spot on"
   ]
  },
  {
   "cell_type": "markdown",
   "id": "949781ca",
   "metadata": {
    "papermill": {
     "duration": 0.024597,
     "end_time": "2023-05-31T08:24:06.232509",
     "exception": false,
     "start_time": "2023-05-31T08:24:06.207912",
     "status": "completed"
    },
    "tags": []
   },
   "source": [
    "does it makes sense to train on the whole training set and to test it on that? does random forest select a subset to train, can we tell it to save a subset for the testing? "
   ]
  },
  {
   "cell_type": "markdown",
   "id": "d45591a9",
   "metadata": {
    "papermill": {
     "duration": 0.023867,
     "end_time": "2023-05-31T08:24:06.280957",
     "exception": false,
     "start_time": "2023-05-31T08:24:06.257090",
     "status": "completed"
    },
    "tags": []
   },
   "source": [
    "now to move onto the test set..."
   ]
  },
  {
   "cell_type": "markdown",
   "id": "3206e309",
   "metadata": {
    "papermill": {
     "duration": 0.023776,
     "end_time": "2023-05-31T08:24:06.329232",
     "exception": false,
     "start_time": "2023-05-31T08:24:06.305456",
     "status": "completed"
    },
    "tags": []
   },
   "source": [
    "## Plotting the Tree"
   ]
  },
  {
   "cell_type": "markdown",
   "id": "b909369f",
   "metadata": {
    "papermill": {
     "duration": 0.024425,
     "end_time": "2023-05-31T08:24:06.377754",
     "exception": false,
     "start_time": "2023-05-31T08:24:06.353329",
     "status": "completed"
    },
    "tags": []
   },
   "source": [
    "To make it feasible to plot it, we have capped the depth of the tree to three layers, but is best removed before prediction"
   ]
  },
  {
   "cell_type": "code",
   "execution_count": 34,
   "id": "1a373ee5",
   "metadata": {
    "execution": {
     "iopub.execute_input": "2023-05-31T08:24:06.428566Z",
     "iopub.status.busy": "2023-05-31T08:24:06.427780Z",
     "iopub.status.idle": "2023-05-31T08:24:07.957972Z",
     "shell.execute_reply": "2023-05-31T08:24:07.956817Z"
    },
    "papermill": {
     "duration": 1.560373,
     "end_time": "2023-05-31T08:24:07.962618",
     "exception": false,
     "start_time": "2023-05-31T08:24:06.402245",
     "status": "completed"
    },
    "tags": []
   },
   "outputs": [
    {
     "data": {
      "image/png": "[encoded data removed]",
      "text/plain": [
       "<Figure size 2500x2000 with 1 Axes>"
      ]
     },
     "metadata": {},
     "output_type": "display_data"
    }
   ],
   "source": [
    "fig = plt.figure(figsize=(25,20))\n",
    "_ = tree.plot_tree(forest_oil_model, \n",
    "                   feature_names=['date_int', 'store_nbr', 'family_number','onpromotion', 'dcoilwtico', 'day_of_week'],  \n",
    "                   filled=True)"
   ]
  },
  {
   "cell_type": "markdown",
   "id": "ce48de01",
   "metadata": {
    "papermill": {
     "duration": 0.028696,
     "end_time": "2023-05-31T08:24:08.019544",
     "exception": false,
     "start_time": "2023-05-31T08:24:07.990848",
     "status": "completed"
    },
    "tags": []
   },
   "source": [
    "## Create submission file"
   ]
  },
  {
   "cell_type": "code",
   "execution_count": 35,
   "id": "340cc6e0",
   "metadata": {
    "execution": {
     "iopub.execute_input": "2023-05-31T08:24:08.077934Z",
     "iopub.status.busy": "2023-05-31T08:24:08.077521Z",
     "iopub.status.idle": "2023-05-31T08:24:08.256118Z",
     "shell.execute_reply": "2023-05-31T08:24:08.255158Z"
    },
    "papermill": {
     "duration": 0.211055,
     "end_time": "2023-05-31T08:24:08.258715",
     "exception": false,
     "start_time": "2023-05-31T08:24:08.047660",
     "status": "completed"
    },
    "tags": []
   },
   "outputs": [],
   "source": [
    "df_test = pd.read_csv('/kaggle/input/store-sales-time-series-forecasting/test.csv',\n",
    "    parse_dates=['date'])\n",
    "df_test['date_int'] = df_test['date'].map(lambda a : int(round(a.timestamp())) )\n",
    "df_test['family_number'] = df_test['family'].map(lambda a : family_enum[a] )"
   ]
  },
  {
   "cell_type": "code",
   "execution_count": 36,
   "id": "f47a2da4",
   "metadata": {
    "execution": {
     "iopub.execute_input": "2023-05-31T08:24:08.319151Z",
     "iopub.status.busy": "2023-05-31T08:24:08.318269Z",
     "iopub.status.idle": "2023-05-31T08:24:08.338185Z",
     "shell.execute_reply": "2023-05-31T08:24:08.336970Z"
    },
    "papermill": {
     "duration": 0.053489,
     "end_time": "2023-05-31T08:24:08.340776",
     "exception": false,
     "start_time": "2023-05-31T08:24:08.287287",
     "status": "completed"
    },
    "tags": []
   },
   "outputs": [
    {
     "data": {
      "text/html": [
       "<div>\n",
       "<style scoped>\n",
       "    .dataframe tbody tr th:only-of-type {\n",
       "        vertical-align: middle;\n",
       "    }\n",
       "\n",
       "    .dataframe tbody tr th {\n",
       "        vertical-align: top;\n",
       "    }\n",
       "\n",
       "    .dataframe thead th {\n",
       "        text-align: right;\n",
       "    }\n",
       "</style>\n",
       "<table border=\"1\" class=\"dataframe\">\n",
       "  <thead>\n",
       "    <tr style=\"text-align: right;\">\n",
       "      <th></th>\n",
       "      <th>id</th>\n",
       "      <th>date</th>\n",
       "      <th>store_nbr</th>\n",
       "      <th>family</th>\n",
       "      <th>onpromotion</th>\n",
       "      <th>date_int</th>\n",
       "      <th>family_number</th>\n",
       "    </tr>\n",
       "  </thead>\n",
       "  <tbody>\n",
       "    <tr>\n",
       "      <th>0</th>\n",
       "      <td>3000888</td>\n",
       "      <td>2017-08-16</td>\n",
       "      <td>1</td>\n",
       "      <td>AUTOMOTIVE</td>\n",
       "      <td>0</td>\n",
       "      <td>1502841600</td>\n",
       "      <td>0</td>\n",
       "    </tr>\n",
       "    <tr>\n",
       "      <th>1</th>\n",
       "      <td>3000889</td>\n",
       "      <td>2017-08-16</td>\n",
       "      <td>1</td>\n",
       "      <td>BABY CARE</td>\n",
       "      <td>0</td>\n",
       "      <td>1502841600</td>\n",
       "      <td>1</td>\n",
       "    </tr>\n",
       "    <tr>\n",
       "      <th>2</th>\n",
       "      <td>3000890</td>\n",
       "      <td>2017-08-16</td>\n",
       "      <td>1</td>\n",
       "      <td>BEAUTY</td>\n",
       "      <td>2</td>\n",
       "      <td>1502841600</td>\n",
       "      <td>2</td>\n",
       "    </tr>\n",
       "    <tr>\n",
       "      <th>3</th>\n",
       "      <td>3000891</td>\n",
       "      <td>2017-08-16</td>\n",
       "      <td>1</td>\n",
       "      <td>BEVERAGES</td>\n",
       "      <td>20</td>\n",
       "      <td>1502841600</td>\n",
       "      <td>3</td>\n",
       "    </tr>\n",
       "    <tr>\n",
       "      <th>4</th>\n",
       "      <td>3000892</td>\n",
       "      <td>2017-08-16</td>\n",
       "      <td>1</td>\n",
       "      <td>BOOKS</td>\n",
       "      <td>0</td>\n",
       "      <td>1502841600</td>\n",
       "      <td>4</td>\n",
       "    </tr>\n",
       "    <tr>\n",
       "      <th>...</th>\n",
       "      <td>...</td>\n",
       "      <td>...</td>\n",
       "      <td>...</td>\n",
       "      <td>...</td>\n",
       "      <td>...</td>\n",
       "      <td>...</td>\n",
       "      <td>...</td>\n",
       "    </tr>\n",
       "    <tr>\n",
       "      <th>28507</th>\n",
       "      <td>3029395</td>\n",
       "      <td>2017-08-31</td>\n",
       "      <td>9</td>\n",
       "      <td>POULTRY</td>\n",
       "      <td>1</td>\n",
       "      <td>1504137600</td>\n",
       "      <td>28</td>\n",
       "    </tr>\n",
       "    <tr>\n",
       "      <th>28508</th>\n",
       "      <td>3029396</td>\n",
       "      <td>2017-08-31</td>\n",
       "      <td>9</td>\n",
       "      <td>PREPARED FOODS</td>\n",
       "      <td>0</td>\n",
       "      <td>1504137600</td>\n",
       "      <td>29</td>\n",
       "    </tr>\n",
       "    <tr>\n",
       "      <th>28509</th>\n",
       "      <td>3029397</td>\n",
       "      <td>2017-08-31</td>\n",
       "      <td>9</td>\n",
       "      <td>PRODUCE</td>\n",
       "      <td>1</td>\n",
       "      <td>1504137600</td>\n",
       "      <td>30</td>\n",
       "    </tr>\n",
       "    <tr>\n",
       "      <th>28510</th>\n",
       "      <td>3029398</td>\n",
       "      <td>2017-08-31</td>\n",
       "      <td>9</td>\n",
       "      <td>SCHOOL AND OFFICE SUPPLIES</td>\n",
       "      <td>9</td>\n",
       "      <td>1504137600</td>\n",
       "      <td>31</td>\n",
       "    </tr>\n",
       "    <tr>\n",
       "      <th>28511</th>\n",
       "      <td>3029399</td>\n",
       "      <td>2017-08-31</td>\n",
       "      <td>9</td>\n",
       "      <td>SEAFOOD</td>\n",
       "      <td>0</td>\n",
       "      <td>1504137600</td>\n",
       "      <td>32</td>\n",
       "    </tr>\n",
       "  </tbody>\n",
       "</table>\n",
       "<p>28512 rows × 7 columns</p>\n",
       "</div>"
      ],
      "text/plain": [
       "            id       date  store_nbr                      family  onpromotion  \\\n",
       "0      3000888 2017-08-16          1                  AUTOMOTIVE            0   \n",
       "1      3000889 2017-08-16          1                   BABY CARE            0   \n",
       "2      3000890 2017-08-16          1                      BEAUTY            2   \n",
       "3      3000891 2017-08-16          1                   BEVERAGES           20   \n",
       "4      3000892 2017-08-16          1                       BOOKS            0   \n",
       "...        ...        ...        ...                         ...          ...   \n",
       "28507  3029395 2017-08-31          9                     POULTRY            1   \n",
       "28508  3029396 2017-08-31          9              PREPARED FOODS            0   \n",
       "28509  3029397 2017-08-31          9                     PRODUCE            1   \n",
       "28510  3029398 2017-08-31          9  SCHOOL AND OFFICE SUPPLIES            9   \n",
       "28511  3029399 2017-08-31          9                     SEAFOOD            0   \n",
       "\n",
       "         date_int  family_number  \n",
       "0      1502841600              0  \n",
       "1      1502841600              1  \n",
       "2      1502841600              2  \n",
       "3      1502841600              3  \n",
       "4      1502841600              4  \n",
       "...           ...            ...  \n",
       "28507  1504137600             28  \n",
       "28508  1504137600             29  \n",
       "28509  1504137600             30  \n",
       "28510  1504137600             31  \n",
       "28511  1504137600             32  \n",
       "\n",
       "[28512 rows x 7 columns]"
      ]
     },
     "execution_count": 36,
     "metadata": {},
     "output_type": "execute_result"
    }
   ],
   "source": [
    "df_test.head(len(df_test))"
   ]
  },
  {
   "cell_type": "markdown",
   "id": "6cb7b837",
   "metadata": {
    "papermill": {
     "duration": 0.028523,
     "end_time": "2023-05-31T08:24:08.398027",
     "exception": false,
     "start_time": "2023-05-31T08:24:08.369504",
     "status": "completed"
    },
    "tags": []
   },
   "source": [
    "Merge with oil dataframe for relevant dates:"
   ]
  },
  {
   "cell_type": "code",
   "execution_count": 37,
   "id": "64a71fd7",
   "metadata": {
    "execution": {
     "iopub.execute_input": "2023-05-31T08:24:08.458821Z",
     "iopub.status.busy": "2023-05-31T08:24:08.457939Z",
     "iopub.status.idle": "2023-05-31T08:24:08.486516Z",
     "shell.execute_reply": "2023-05-31T08:24:08.485187Z"
    },
    "papermill": {
     "duration": 0.061101,
     "end_time": "2023-05-31T08:24:08.489024",
     "exception": false,
     "start_time": "2023-05-31T08:24:08.427923",
     "status": "completed"
    },
    "tags": []
   },
   "outputs": [
    {
     "data": {
      "text/html": [
       "<div>\n",
       "<style scoped>\n",
       "    .dataframe tbody tr th:only-of-type {\n",
       "        vertical-align: middle;\n",
       "    }\n",
       "\n",
       "    .dataframe tbody tr th {\n",
       "        vertical-align: top;\n",
       "    }\n",
       "\n",
       "    .dataframe thead th {\n",
       "        text-align: right;\n",
       "    }\n",
       "</style>\n",
       "<table border=\"1\" class=\"dataframe\">\n",
       "  <thead>\n",
       "    <tr style=\"text-align: right;\">\n",
       "      <th></th>\n",
       "      <th>date</th>\n",
       "      <th>date_int</th>\n",
       "      <th>store_nbr</th>\n",
       "      <th>family_number</th>\n",
       "      <th>onpromotion</th>\n",
       "      <th>dcoilwtico</th>\n",
       "      <th>day_of_week</th>\n",
       "    </tr>\n",
       "  </thead>\n",
       "  <tbody>\n",
       "    <tr>\n",
       "      <th>0</th>\n",
       "      <td>2017-08-16</td>\n",
       "      <td>1502841600</td>\n",
       "      <td>1</td>\n",
       "      <td>0</td>\n",
       "      <td>0</td>\n",
       "      <td>46.80</td>\n",
       "      <td>2</td>\n",
       "    </tr>\n",
       "    <tr>\n",
       "      <th>1</th>\n",
       "      <td>2017-08-16</td>\n",
       "      <td>1502841600</td>\n",
       "      <td>1</td>\n",
       "      <td>1</td>\n",
       "      <td>0</td>\n",
       "      <td>46.80</td>\n",
       "      <td>2</td>\n",
       "    </tr>\n",
       "    <tr>\n",
       "      <th>2</th>\n",
       "      <td>2017-08-16</td>\n",
       "      <td>1502841600</td>\n",
       "      <td>1</td>\n",
       "      <td>2</td>\n",
       "      <td>2</td>\n",
       "      <td>46.80</td>\n",
       "      <td>2</td>\n",
       "    </tr>\n",
       "    <tr>\n",
       "      <th>3</th>\n",
       "      <td>2017-08-16</td>\n",
       "      <td>1502841600</td>\n",
       "      <td>1</td>\n",
       "      <td>3</td>\n",
       "      <td>20</td>\n",
       "      <td>46.80</td>\n",
       "      <td>2</td>\n",
       "    </tr>\n",
       "    <tr>\n",
       "      <th>4</th>\n",
       "      <td>2017-08-16</td>\n",
       "      <td>1502841600</td>\n",
       "      <td>1</td>\n",
       "      <td>4</td>\n",
       "      <td>0</td>\n",
       "      <td>46.80</td>\n",
       "      <td>2</td>\n",
       "    </tr>\n",
       "    <tr>\n",
       "      <th>...</th>\n",
       "      <td>...</td>\n",
       "      <td>...</td>\n",
       "      <td>...</td>\n",
       "      <td>...</td>\n",
       "      <td>...</td>\n",
       "      <td>...</td>\n",
       "      <td>...</td>\n",
       "    </tr>\n",
       "    <tr>\n",
       "      <th>28507</th>\n",
       "      <td>2017-08-31</td>\n",
       "      <td>1504137600</td>\n",
       "      <td>9</td>\n",
       "      <td>28</td>\n",
       "      <td>1</td>\n",
       "      <td>47.26</td>\n",
       "      <td>3</td>\n",
       "    </tr>\n",
       "    <tr>\n",
       "      <th>28508</th>\n",
       "      <td>2017-08-31</td>\n",
       "      <td>1504137600</td>\n",
       "      <td>9</td>\n",
       "      <td>29</td>\n",
       "      <td>0</td>\n",
       "      <td>47.26</td>\n",
       "      <td>3</td>\n",
       "    </tr>\n",
       "    <tr>\n",
       "      <th>28509</th>\n",
       "      <td>2017-08-31</td>\n",
       "      <td>1504137600</td>\n",
       "      <td>9</td>\n",
       "      <td>30</td>\n",
       "      <td>1</td>\n",
       "      <td>47.26</td>\n",
       "      <td>3</td>\n",
       "    </tr>\n",
       "    <tr>\n",
       "      <th>28510</th>\n",
       "      <td>2017-08-31</td>\n",
       "      <td>1504137600</td>\n",
       "      <td>9</td>\n",
       "      <td>31</td>\n",
       "      <td>9</td>\n",
       "      <td>47.26</td>\n",
       "      <td>3</td>\n",
       "    </tr>\n",
       "    <tr>\n",
       "      <th>28511</th>\n",
       "      <td>2017-08-31</td>\n",
       "      <td>1504137600</td>\n",
       "      <td>9</td>\n",
       "      <td>32</td>\n",
       "      <td>0</td>\n",
       "      <td>47.26</td>\n",
       "      <td>3</td>\n",
       "    </tr>\n",
       "  </tbody>\n",
       "</table>\n",
       "<p>28512 rows × 7 columns</p>\n",
       "</div>"
      ],
      "text/plain": [
       "            date    date_int  store_nbr  family_number  onpromotion  \\\n",
       "0     2017-08-16  1502841600          1              0            0   \n",
       "1     2017-08-16  1502841600          1              1            0   \n",
       "2     2017-08-16  1502841600          1              2            2   \n",
       "3     2017-08-16  1502841600          1              3           20   \n",
       "4     2017-08-16  1502841600          1              4            0   \n",
       "...          ...         ...        ...            ...          ...   \n",
       "28507 2017-08-31  1504137600          9             28            1   \n",
       "28508 2017-08-31  1504137600          9             29            0   \n",
       "28509 2017-08-31  1504137600          9             30            1   \n",
       "28510 2017-08-31  1504137600          9             31            9   \n",
       "28511 2017-08-31  1504137600          9             32            0   \n",
       "\n",
       "       dcoilwtico  day_of_week  \n",
       "0           46.80            2  \n",
       "1           46.80            2  \n",
       "2           46.80            2  \n",
       "3           46.80            2  \n",
       "4           46.80            2  \n",
       "...           ...          ...  \n",
       "28507       47.26            3  \n",
       "28508       47.26            3  \n",
       "28509       47.26            3  \n",
       "28510       47.26            3  \n",
       "28511       47.26            3  \n",
       "\n",
       "[28512 rows x 7 columns]"
      ]
     },
     "execution_count": 37,
     "metadata": {},
     "output_type": "execute_result"
    }
   ],
   "source": [
    "df_test_merged = pd.merge(df_test[['date', 'date_int', 'store_nbr', 'family_number', 'onpromotion']]\n",
    "                     , df_oil_weekend[['dcoilwtico', 'day_of_week', 'date_int']], on=\"date_int\", how=\"left\")\n",
    "df_test_merged.head(len(df_test_merged))"
   ]
  },
  {
   "cell_type": "markdown",
   "id": "5913e5c0",
   "metadata": {
    "papermill": {
     "duration": 0.029214,
     "end_time": "2023-05-31T08:24:08.547663",
     "exception": false,
     "start_time": "2023-05-31T08:24:08.518449",
     "status": "completed"
    },
    "tags": []
   },
   "source": [
    "Drop any NaN values from dataframe:"
   ]
  },
  {
   "cell_type": "code",
   "execution_count": 38,
   "id": "03e0d0fa",
   "metadata": {
    "execution": {
     "iopub.execute_input": "2023-05-31T08:24:08.608490Z",
     "iopub.status.busy": "2023-05-31T08:24:08.607682Z",
     "iopub.status.idle": "2023-05-31T08:24:08.629055Z",
     "shell.execute_reply": "2023-05-31T08:24:08.628118Z"
    },
    "papermill": {
     "duration": 0.054162,
     "end_time": "2023-05-31T08:24:08.631349",
     "exception": false,
     "start_time": "2023-05-31T08:24:08.577187",
     "status": "completed"
    },
    "tags": []
   },
   "outputs": [
    {
     "data": {
      "text/html": [
       "<div>\n",
       "<style scoped>\n",
       "    .dataframe tbody tr th:only-of-type {\n",
       "        vertical-align: middle;\n",
       "    }\n",
       "\n",
       "    .dataframe tbody tr th {\n",
       "        vertical-align: top;\n",
       "    }\n",
       "\n",
       "    .dataframe thead th {\n",
       "        text-align: right;\n",
       "    }\n",
       "</style>\n",
       "<table border=\"1\" class=\"dataframe\">\n",
       "  <thead>\n",
       "    <tr style=\"text-align: right;\">\n",
       "      <th></th>\n",
       "      <th>date</th>\n",
       "      <th>date_int</th>\n",
       "      <th>store_nbr</th>\n",
       "      <th>family_number</th>\n",
       "      <th>onpromotion</th>\n",
       "      <th>dcoilwtico</th>\n",
       "      <th>day_of_week</th>\n",
       "    </tr>\n",
       "  </thead>\n",
       "  <tbody>\n",
       "    <tr>\n",
       "      <th>0</th>\n",
       "      <td>2017-08-16</td>\n",
       "      <td>1502841600</td>\n",
       "      <td>1</td>\n",
       "      <td>0</td>\n",
       "      <td>0</td>\n",
       "      <td>46.80</td>\n",
       "      <td>2</td>\n",
       "    </tr>\n",
       "    <tr>\n",
       "      <th>1</th>\n",
       "      <td>2017-08-16</td>\n",
       "      <td>1502841600</td>\n",
       "      <td>1</td>\n",
       "      <td>1</td>\n",
       "      <td>0</td>\n",
       "      <td>46.80</td>\n",
       "      <td>2</td>\n",
       "    </tr>\n",
       "    <tr>\n",
       "      <th>2</th>\n",
       "      <td>2017-08-16</td>\n",
       "      <td>1502841600</td>\n",
       "      <td>1</td>\n",
       "      <td>2</td>\n",
       "      <td>2</td>\n",
       "      <td>46.80</td>\n",
       "      <td>2</td>\n",
       "    </tr>\n",
       "    <tr>\n",
       "      <th>3</th>\n",
       "      <td>2017-08-16</td>\n",
       "      <td>1502841600</td>\n",
       "      <td>1</td>\n",
       "      <td>3</td>\n",
       "      <td>20</td>\n",
       "      <td>46.80</td>\n",
       "      <td>2</td>\n",
       "    </tr>\n",
       "    <tr>\n",
       "      <th>4</th>\n",
       "      <td>2017-08-16</td>\n",
       "      <td>1502841600</td>\n",
       "      <td>1</td>\n",
       "      <td>4</td>\n",
       "      <td>0</td>\n",
       "      <td>46.80</td>\n",
       "      <td>2</td>\n",
       "    </tr>\n",
       "    <tr>\n",
       "      <th>...</th>\n",
       "      <td>...</td>\n",
       "      <td>...</td>\n",
       "      <td>...</td>\n",
       "      <td>...</td>\n",
       "      <td>...</td>\n",
       "      <td>...</td>\n",
       "      <td>...</td>\n",
       "    </tr>\n",
       "    <tr>\n",
       "      <th>28507</th>\n",
       "      <td>2017-08-31</td>\n",
       "      <td>1504137600</td>\n",
       "      <td>9</td>\n",
       "      <td>28</td>\n",
       "      <td>1</td>\n",
       "      <td>47.26</td>\n",
       "      <td>3</td>\n",
       "    </tr>\n",
       "    <tr>\n",
       "      <th>28508</th>\n",
       "      <td>2017-08-31</td>\n",
       "      <td>1504137600</td>\n",
       "      <td>9</td>\n",
       "      <td>29</td>\n",
       "      <td>0</td>\n",
       "      <td>47.26</td>\n",
       "      <td>3</td>\n",
       "    </tr>\n",
       "    <tr>\n",
       "      <th>28509</th>\n",
       "      <td>2017-08-31</td>\n",
       "      <td>1504137600</td>\n",
       "      <td>9</td>\n",
       "      <td>30</td>\n",
       "      <td>1</td>\n",
       "      <td>47.26</td>\n",
       "      <td>3</td>\n",
       "    </tr>\n",
       "    <tr>\n",
       "      <th>28510</th>\n",
       "      <td>2017-08-31</td>\n",
       "      <td>1504137600</td>\n",
       "      <td>9</td>\n",
       "      <td>31</td>\n",
       "      <td>9</td>\n",
       "      <td>47.26</td>\n",
       "      <td>3</td>\n",
       "    </tr>\n",
       "    <tr>\n",
       "      <th>28511</th>\n",
       "      <td>2017-08-31</td>\n",
       "      <td>1504137600</td>\n",
       "      <td>9</td>\n",
       "      <td>32</td>\n",
       "      <td>0</td>\n",
       "      <td>47.26</td>\n",
       "      <td>3</td>\n",
       "    </tr>\n",
       "  </tbody>\n",
       "</table>\n",
       "<p>28512 rows × 7 columns</p>\n",
       "</div>"
      ],
      "text/plain": [
       "            date    date_int  store_nbr  family_number  onpromotion  \\\n",
       "0     2017-08-16  1502841600          1              0            0   \n",
       "1     2017-08-16  1502841600          1              1            0   \n",
       "2     2017-08-16  1502841600          1              2            2   \n",
       "3     2017-08-16  1502841600          1              3           20   \n",
       "4     2017-08-16  1502841600          1              4            0   \n",
       "...          ...         ...        ...            ...          ...   \n",
       "28507 2017-08-31  1504137600          9             28            1   \n",
       "28508 2017-08-31  1504137600          9             29            0   \n",
       "28509 2017-08-31  1504137600          9             30            1   \n",
       "28510 2017-08-31  1504137600          9             31            9   \n",
       "28511 2017-08-31  1504137600          9             32            0   \n",
       "\n",
       "       dcoilwtico  day_of_week  \n",
       "0           46.80            2  \n",
       "1           46.80            2  \n",
       "2           46.80            2  \n",
       "3           46.80            2  \n",
       "4           46.80            2  \n",
       "...           ...          ...  \n",
       "28507       47.26            3  \n",
       "28508       47.26            3  \n",
       "28509       47.26            3  \n",
       "28510       47.26            3  \n",
       "28511       47.26            3  \n",
       "\n",
       "[28512 rows x 7 columns]"
      ]
     },
     "execution_count": 38,
     "metadata": {},
     "output_type": "execute_result"
    }
   ],
   "source": [
    "df4=df_test_merged.dropna(subset=['date_int', 'store_nbr', 'family_number',\n",
    "       'onpromotion', 'dcoilwtico', 'day_of_week']).reset_index(drop=True)\n",
    "df4.head(len(df4))"
   ]
  },
  {
   "cell_type": "markdown",
   "id": "74626c9c",
   "metadata": {
    "papermill": {
     "duration": 0.028975,
     "end_time": "2023-05-31T08:24:08.689598",
     "exception": false,
     "start_time": "2023-05-31T08:24:08.660623",
     "status": "completed"
    },
    "tags": []
   },
   "source": [
    "** It is good that no rows were dropped, since else we wouldn't be able to submit the resulting predictions (the submission data must have all the same id's)"
   ]
  },
  {
   "cell_type": "markdown",
   "id": "66bbf166",
   "metadata": {
    "papermill": {
     "duration": 0.029041,
     "end_time": "2023-05-31T08:24:08.747888",
     "exception": false,
     "start_time": "2023-05-31T08:24:08.718847",
     "status": "completed"
    },
    "tags": []
   },
   "source": [
    "We are now ready to define the new features to build the predictions with the model we trained:"
   ]
  },
  {
   "cell_type": "code",
   "execution_count": 39,
   "id": "d739bcf1",
   "metadata": {
    "execution": {
     "iopub.execute_input": "2023-05-31T08:24:08.811784Z",
     "iopub.status.busy": "2023-05-31T08:24:08.811012Z",
     "iopub.status.idle": "2023-05-31T08:24:08.824584Z",
     "shell.execute_reply": "2023-05-31T08:24:08.822327Z"
    },
    "papermill": {
     "duration": 0.052049,
     "end_time": "2023-05-31T08:24:08.829224",
     "exception": false,
     "start_time": "2023-05-31T08:24:08.777175",
     "status": "completed"
    },
    "tags": []
   },
   "outputs": [],
   "source": [
    "test_x = df4[features]\n",
    "predictions = forest_oil_model.predict(test_x)"
   ]
  },
  {
   "cell_type": "code",
   "execution_count": 40,
   "id": "1487964e",
   "metadata": {
    "execution": {
     "iopub.execute_input": "2023-05-31T08:24:08.899111Z",
     "iopub.status.busy": "2023-05-31T08:24:08.898392Z",
     "iopub.status.idle": "2023-05-31T08:24:08.906023Z",
     "shell.execute_reply": "2023-05-31T08:24:08.905145Z"
    },
    "papermill": {
     "duration": 0.041431,
     "end_time": "2023-05-31T08:24:08.908224",
     "exception": false,
     "start_time": "2023-05-31T08:24:08.866793",
     "status": "completed"
    },
    "tags": []
   },
   "outputs": [
    {
     "data": {
      "text/plain": [
       "array([ 303.38757099,  303.38757099,  372.67124334, ...,  372.67124334,\n",
       "       1123.69941728,   82.28066533])"
      ]
     },
     "execution_count": 40,
     "metadata": {},
     "output_type": "execute_result"
    }
   ],
   "source": [
    "predictions"
   ]
  },
  {
   "cell_type": "markdown",
   "id": "54e8a66e",
   "metadata": {
    "papermill": {
     "duration": 0.033133,
     "end_time": "2023-05-31T08:24:08.981694",
     "exception": false,
     "start_time": "2023-05-31T08:24:08.948561",
     "status": "completed"
    },
    "tags": []
   },
   "source": [
    "Finally, create submission dataframe and then submission csv file:"
   ]
  },
  {
   "cell_type": "code",
   "execution_count": 41,
   "id": "026a1fa9",
   "metadata": {
    "execution": {
     "iopub.execute_input": "2023-05-31T08:24:09.048123Z",
     "iopub.status.busy": "2023-05-31T08:24:09.047245Z",
     "iopub.status.idle": "2023-05-31T08:24:09.177843Z",
     "shell.execute_reply": "2023-05-31T08:24:09.176866Z"
    },
    "papermill": {
     "duration": 0.168153,
     "end_time": "2023-05-31T08:24:09.180920",
     "exception": false,
     "start_time": "2023-05-31T08:24:09.012767",
     "status": "completed"
    },
    "tags": []
   },
   "outputs": [],
   "source": [
    "df_submission = df_test[['id']].copy() # creates a dataframe with the same id column, as this is required for submission \n",
    "df_submission['sales'] = pd.Series(predictions) \n",
    "df_submission.to_csv('/kaggle/working/submission.csv', index=False)"
   ]
  },
  {
   "cell_type": "code",
   "execution_count": 42,
   "id": "65dbbce1",
   "metadata": {
    "execution": {
     "iopub.execute_input": "2023-05-31T08:24:09.252468Z",
     "iopub.status.busy": "2023-05-31T08:24:09.251698Z",
     "iopub.status.idle": "2023-05-31T08:24:09.263809Z",
     "shell.execute_reply": "2023-05-31T08:24:09.262940Z"
    },
    "papermill": {
     "duration": 0.047967,
     "end_time": "2023-05-31T08:24:09.266458",
     "exception": false,
     "start_time": "2023-05-31T08:24:09.218491",
     "status": "completed"
    },
    "tags": []
   },
   "outputs": [
    {
     "data": {
      "text/html": [
       "<div>\n",
       "<style scoped>\n",
       "    .dataframe tbody tr th:only-of-type {\n",
       "        vertical-align: middle;\n",
       "    }\n",
       "\n",
       "    .dataframe tbody tr th {\n",
       "        vertical-align: top;\n",
       "    }\n",
       "\n",
       "    .dataframe thead th {\n",
       "        text-align: right;\n",
       "    }\n",
       "</style>\n",
       "<table border=\"1\" class=\"dataframe\">\n",
       "  <thead>\n",
       "    <tr style=\"text-align: right;\">\n",
       "      <th></th>\n",
       "      <th>id</th>\n",
       "      <th>sales</th>\n",
       "    </tr>\n",
       "  </thead>\n",
       "  <tbody>\n",
       "    <tr>\n",
       "      <th>0</th>\n",
       "      <td>3000888</td>\n",
       "      <td>303.387571</td>\n",
       "    </tr>\n",
       "    <tr>\n",
       "      <th>1</th>\n",
       "      <td>3000889</td>\n",
       "      <td>303.387571</td>\n",
       "    </tr>\n",
       "    <tr>\n",
       "      <th>2</th>\n",
       "      <td>3000890</td>\n",
       "      <td>372.671243</td>\n",
       "    </tr>\n",
       "    <tr>\n",
       "      <th>3</th>\n",
       "      <td>3000891</td>\n",
       "      <td>1123.699417</td>\n",
       "    </tr>\n",
       "    <tr>\n",
       "      <th>4</th>\n",
       "      <td>3000892</td>\n",
       "      <td>303.387571</td>\n",
       "    </tr>\n",
       "    <tr>\n",
       "      <th>...</th>\n",
       "      <td>...</td>\n",
       "      <td>...</td>\n",
       "    </tr>\n",
       "    <tr>\n",
       "      <th>28507</th>\n",
       "      <td>3029395</td>\n",
       "      <td>372.671243</td>\n",
       "    </tr>\n",
       "    <tr>\n",
       "      <th>28508</th>\n",
       "      <td>3029396</td>\n",
       "      <td>82.280665</td>\n",
       "    </tr>\n",
       "    <tr>\n",
       "      <th>28509</th>\n",
       "      <td>3029397</td>\n",
       "      <td>372.671243</td>\n",
       "    </tr>\n",
       "    <tr>\n",
       "      <th>28510</th>\n",
       "      <td>3029398</td>\n",
       "      <td>1123.699417</td>\n",
       "    </tr>\n",
       "    <tr>\n",
       "      <th>28511</th>\n",
       "      <td>3029399</td>\n",
       "      <td>82.280665</td>\n",
       "    </tr>\n",
       "  </tbody>\n",
       "</table>\n",
       "<p>28512 rows × 2 columns</p>\n",
       "</div>"
      ],
      "text/plain": [
       "            id        sales\n",
       "0      3000888   303.387571\n",
       "1      3000889   303.387571\n",
       "2      3000890   372.671243\n",
       "3      3000891  1123.699417\n",
       "4      3000892   303.387571\n",
       "...        ...          ...\n",
       "28507  3029395   372.671243\n",
       "28508  3029396    82.280665\n",
       "28509  3029397   372.671243\n",
       "28510  3029398  1123.699417\n",
       "28511  3029399    82.280665\n",
       "\n",
       "[28512 rows x 2 columns]"
      ]
     },
     "execution_count": 42,
     "metadata": {},
     "output_type": "execute_result"
    }
   ],
   "source": [
    "df_submission.head(len(df_submission))"
   ]
  },
  {
   "cell_type": "code",
   "execution_count": null,
   "id": "eb26e5f0",
   "metadata": {
    "papermill": {
     "duration": 0.032509,
     "end_time": "2023-05-31T08:24:09.337035",
     "exception": false,
     "start_time": "2023-05-31T08:24:09.304526",
     "status": "completed"
    },
    "tags": []
   },
   "outputs": [],
   "source": []
  }
 ],
 "metadata": {
  "kernelspec": {
   "display_name": "Python 3",
   "language": "python",
   "name": "python3"
  },
  "language_info": {
   "codemirror_mode": {
    "name": "ipython",
    "version": 3
   },
   "file_extension": ".py",
   "mimetype": "text/x-python",
   "name": "python",
   "nbconvert_exporter": "python",
   "pygments_lexer": "ipython3",
   "version": "3.10.10"
  },
  "papermill": {
   "default_parameters": {},
   "duration": 118.023899,
   "end_time": "2023-05-31T08:24:10.490576",
   "environment_variables": {},
   "exception": null,
   "input_path": "__notebook__.ipynb",
   "output_path": "__notebook__.ipynb",
   "parameters": {},
   "start_time": "2023-05-31T08:22:12.466677",
   "version": "2.4.0"
  }
 },
 "nbformat": 4,
 "nbformat_minor": 5
}
