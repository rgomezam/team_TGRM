{
 "cells": [
  {
   "cell_type": "markdown",
   "id": "4f59bbfd",
   "metadata": {
    "papermill": {
     "duration": 0.015784,
     "end_time": "2023-06-05T13:35:22.586772",
     "exception": false,
     "start_time": "2023-06-05T13:35:22.570988",
     "status": "completed"
    },
    "tags": []
   },
   "source": [
    "# Exploring the Data - Hola Caracola"
   ]
  },
  {
   "cell_type": "code",
   "execution_count": 1,
   "id": "96d8fcaa",
   "metadata": {
    "execution": {
     "iopub.execute_input": "2023-06-05T13:35:22.619402Z",
     "iopub.status.busy": "2023-06-05T13:35:22.618959Z",
     "iopub.status.idle": "2023-06-05T13:35:23.857109Z",
     "shell.execute_reply": "2023-06-05T13:35:23.855892Z"
    },
    "papermill": {
     "duration": 1.257148,
     "end_time": "2023-06-05T13:35:23.859305",
     "exception": false,
     "start_time": "2023-06-05T13:35:22.602157",
     "status": "completed"
    },
    "tags": []
   },
   "outputs": [
    {
     "name": "stderr",
     "output_type": "stream",
     "text": [
      "/opt/conda/lib/python3.10/site-packages/scipy/__init__.py:146: UserWarning: A NumPy version >=1.16.5 and <1.23.0 is required for this version of SciPy (detected version 1.23.5\n",
      "  warnings.warn(f\"A NumPy version >={np_minversion} and <{np_maxversion}\"\n"
     ]
    },
    {
     "name": "stdout",
     "output_type": "stream",
     "text": [
      "/kaggle/input/store-sales-time-series-forecasting/oil.csv\n",
      "/kaggle/input/store-sales-time-series-forecasting/sample_submission.csv\n",
      "/kaggle/input/store-sales-time-series-forecasting/holidays_events.csv\n",
      "/kaggle/input/store-sales-time-series-forecasting/stores.csv\n",
      "/kaggle/input/store-sales-time-series-forecasting/train.csv\n",
      "/kaggle/input/store-sales-time-series-forecasting/test.csv\n",
      "/kaggle/input/store-sales-time-series-forecasting/transactions.csv\n"
     ]
    }
   ],
   "source": [
    "# This Python 3 environment comes with many helpful analytics libraries installed\n",
    "# It is defined by the kaggle/python Docker image: https://github.com/kaggle/docker-python\n",
    "# For example, here's several helpful packages to load\n",
    "\n",
    "import numpy as np # linear algebra\n",
    "import pandas as pd # data processing, CSV file I/O (e.g. pd.read_csv)\n",
    "import matplotlib.pyplot as plt\n",
    "import datetime\n",
    "from datetime import date\n",
    "from datetime import datetime\n",
    "from sklearn import tree\n",
    "\n",
    "\n",
    "# Input data files are available in the read-only \"../input/\" directory\n",
    "# For example, running this (by clicking run or pressing Shift+Enter) will list all files under the input directory\n",
    "\n",
    "import os\n",
    "for dirname, _, filenames in os.walk('/kaggle/input'):\n",
    "    for filename in filenames:\n",
    "        print(os.path.join(dirname, filename))\n",
    "        \n",
    "# You can write up to 20GB to the current directory (/kaggle/working/) that gets preserved as output when you create a version using \"Save & Run All\" \n",
    "# You can also write temporary files to /kaggle/temp/, but they won't be saved outside of the current session"
   ]
  },
  {
   "cell_type": "code",
   "execution_count": 2,
   "id": "40f50c11",
   "metadata": {
    "execution": {
     "iopub.execute_input": "2023-06-05T13:35:23.892842Z",
     "iopub.status.busy": "2023-06-05T13:35:23.892009Z",
     "iopub.status.idle": "2023-06-05T13:35:27.310888Z",
     "shell.execute_reply": "2023-06-05T13:35:27.310040Z"
    },
    "papermill": {
     "duration": 3.437922,
     "end_time": "2023-06-05T13:35:27.312985",
     "exception": false,
     "start_time": "2023-06-05T13:35:23.875063",
     "status": "completed"
    },
    "tags": []
   },
   "outputs": [
    {
     "data": {
      "text/html": [
       "<div>\n",
       "<style scoped>\n",
       "    .dataframe tbody tr th:only-of-type {\n",
       "        vertical-align: middle;\n",
       "    }\n",
       "\n",
       "    .dataframe tbody tr th {\n",
       "        vertical-align: top;\n",
       "    }\n",
       "\n",
       "    .dataframe thead th {\n",
       "        text-align: right;\n",
       "    }\n",
       "</style>\n",
       "<table border=\"1\" class=\"dataframe\">\n",
       "  <thead>\n",
       "    <tr style=\"text-align: right;\">\n",
       "      <th></th>\n",
       "      <th>id</th>\n",
       "      <th>date</th>\n",
       "      <th>store_nbr</th>\n",
       "      <th>family</th>\n",
       "      <th>sales</th>\n",
       "      <th>onpromotion</th>\n",
       "    </tr>\n",
       "  </thead>\n",
       "  <tbody>\n",
       "    <tr>\n",
       "      <th>0</th>\n",
       "      <td>0</td>\n",
       "      <td>2013-01-01</td>\n",
       "      <td>1</td>\n",
       "      <td>AUTOMOTIVE</td>\n",
       "      <td>0.000</td>\n",
       "      <td>0</td>\n",
       "    </tr>\n",
       "    <tr>\n",
       "      <th>1</th>\n",
       "      <td>1</td>\n",
       "      <td>2013-01-01</td>\n",
       "      <td>1</td>\n",
       "      <td>BABY CARE</td>\n",
       "      <td>0.000</td>\n",
       "      <td>0</td>\n",
       "    </tr>\n",
       "    <tr>\n",
       "      <th>2</th>\n",
       "      <td>2</td>\n",
       "      <td>2013-01-01</td>\n",
       "      <td>1</td>\n",
       "      <td>BEAUTY</td>\n",
       "      <td>0.000</td>\n",
       "      <td>0</td>\n",
       "    </tr>\n",
       "    <tr>\n",
       "      <th>3</th>\n",
       "      <td>3</td>\n",
       "      <td>2013-01-01</td>\n",
       "      <td>1</td>\n",
       "      <td>BEVERAGES</td>\n",
       "      <td>0.000</td>\n",
       "      <td>0</td>\n",
       "    </tr>\n",
       "    <tr>\n",
       "      <th>4</th>\n",
       "      <td>4</td>\n",
       "      <td>2013-01-01</td>\n",
       "      <td>1</td>\n",
       "      <td>BOOKS</td>\n",
       "      <td>0.000</td>\n",
       "      <td>0</td>\n",
       "    </tr>\n",
       "    <tr>\n",
       "      <th>...</th>\n",
       "      <td>...</td>\n",
       "      <td>...</td>\n",
       "      <td>...</td>\n",
       "      <td>...</td>\n",
       "      <td>...</td>\n",
       "      <td>...</td>\n",
       "    </tr>\n",
       "    <tr>\n",
       "      <th>3000883</th>\n",
       "      <td>3000883</td>\n",
       "      <td>2017-08-15</td>\n",
       "      <td>9</td>\n",
       "      <td>POULTRY</td>\n",
       "      <td>438.133</td>\n",
       "      <td>0</td>\n",
       "    </tr>\n",
       "    <tr>\n",
       "      <th>3000884</th>\n",
       "      <td>3000884</td>\n",
       "      <td>2017-08-15</td>\n",
       "      <td>9</td>\n",
       "      <td>PREPARED FOODS</td>\n",
       "      <td>154.553</td>\n",
       "      <td>1</td>\n",
       "    </tr>\n",
       "    <tr>\n",
       "      <th>3000885</th>\n",
       "      <td>3000885</td>\n",
       "      <td>2017-08-15</td>\n",
       "      <td>9</td>\n",
       "      <td>PRODUCE</td>\n",
       "      <td>2419.729</td>\n",
       "      <td>148</td>\n",
       "    </tr>\n",
       "    <tr>\n",
       "      <th>3000886</th>\n",
       "      <td>3000886</td>\n",
       "      <td>2017-08-15</td>\n",
       "      <td>9</td>\n",
       "      <td>SCHOOL AND OFFICE SUPPLIES</td>\n",
       "      <td>121.000</td>\n",
       "      <td>8</td>\n",
       "    </tr>\n",
       "    <tr>\n",
       "      <th>3000887</th>\n",
       "      <td>3000887</td>\n",
       "      <td>2017-08-15</td>\n",
       "      <td>9</td>\n",
       "      <td>SEAFOOD</td>\n",
       "      <td>16.000</td>\n",
       "      <td>0</td>\n",
       "    </tr>\n",
       "  </tbody>\n",
       "</table>\n",
       "<p>3000888 rows × 6 columns</p>\n",
       "</div>"
      ],
      "text/plain": [
       "              id        date  store_nbr                      family     sales  \\\n",
       "0              0  2013-01-01          1                  AUTOMOTIVE     0.000   \n",
       "1              1  2013-01-01          1                   BABY CARE     0.000   \n",
       "2              2  2013-01-01          1                      BEAUTY     0.000   \n",
       "3              3  2013-01-01          1                   BEVERAGES     0.000   \n",
       "4              4  2013-01-01          1                       BOOKS     0.000   \n",
       "...          ...         ...        ...                         ...       ...   \n",
       "3000883  3000883  2017-08-15          9                     POULTRY   438.133   \n",
       "3000884  3000884  2017-08-15          9              PREPARED FOODS   154.553   \n",
       "3000885  3000885  2017-08-15          9                     PRODUCE  2419.729   \n",
       "3000886  3000886  2017-08-15          9  SCHOOL AND OFFICE SUPPLIES   121.000   \n",
       "3000887  3000887  2017-08-15          9                     SEAFOOD    16.000   \n",
       "\n",
       "         onpromotion  \n",
       "0                  0  \n",
       "1                  0  \n",
       "2                  0  \n",
       "3                  0  \n",
       "4                  0  \n",
       "...              ...  \n",
       "3000883            0  \n",
       "3000884            1  \n",
       "3000885          148  \n",
       "3000886            8  \n",
       "3000887            0  \n",
       "\n",
       "[3000888 rows x 6 columns]"
      ]
     },
     "execution_count": 2,
     "metadata": {},
     "output_type": "execute_result"
    }
   ],
   "source": [
    "df = pd.read_csv('/kaggle/input/store-sales-time-series-forecasting/train.csv')\n",
    "\n",
    "# View the first and last few rows of the data\n",
    "df.head(len(df))\n"
   ]
  },
  {
   "cell_type": "code",
   "execution_count": 3,
   "id": "82ed7c52",
   "metadata": {
    "execution": {
     "iopub.execute_input": "2023-06-05T13:35:27.346356Z",
     "iopub.status.busy": "2023-06-05T13:35:27.346038Z",
     "iopub.status.idle": "2023-06-05T13:35:27.691384Z",
     "shell.execute_reply": "2023-06-05T13:35:27.690466Z"
    },
    "papermill": {
     "duration": 0.364246,
     "end_time": "2023-06-05T13:35:27.693394",
     "exception": false,
     "start_time": "2023-06-05T13:35:27.329148",
     "status": "completed"
    },
    "tags": []
   },
   "outputs": [
    {
     "data": {
      "text/html": [
       "<div>\n",
       "<style scoped>\n",
       "    .dataframe tbody tr th:only-of-type {\n",
       "        vertical-align: middle;\n",
       "    }\n",
       "\n",
       "    .dataframe tbody tr th {\n",
       "        vertical-align: top;\n",
       "    }\n",
       "\n",
       "    .dataframe thead th {\n",
       "        text-align: right;\n",
       "    }\n",
       "</style>\n",
       "<table border=\"1\" class=\"dataframe\">\n",
       "  <thead>\n",
       "    <tr style=\"text-align: right;\">\n",
       "      <th></th>\n",
       "      <th>id</th>\n",
       "      <th>store_nbr</th>\n",
       "      <th>sales</th>\n",
       "      <th>onpromotion</th>\n",
       "    </tr>\n",
       "  </thead>\n",
       "  <tbody>\n",
       "    <tr>\n",
       "      <th>count</th>\n",
       "      <td>3.000888e+06</td>\n",
       "      <td>3.000888e+06</td>\n",
       "      <td>3.000888e+06</td>\n",
       "      <td>3.000888e+06</td>\n",
       "    </tr>\n",
       "    <tr>\n",
       "      <th>mean</th>\n",
       "      <td>1.500444e+06</td>\n",
       "      <td>2.750000e+01</td>\n",
       "      <td>3.577757e+02</td>\n",
       "      <td>2.602770e+00</td>\n",
       "    </tr>\n",
       "    <tr>\n",
       "      <th>std</th>\n",
       "      <td>8.662819e+05</td>\n",
       "      <td>1.558579e+01</td>\n",
       "      <td>1.101998e+03</td>\n",
       "      <td>1.221888e+01</td>\n",
       "    </tr>\n",
       "    <tr>\n",
       "      <th>min</th>\n",
       "      <td>0.000000e+00</td>\n",
       "      <td>1.000000e+00</td>\n",
       "      <td>0.000000e+00</td>\n",
       "      <td>0.000000e+00</td>\n",
       "    </tr>\n",
       "    <tr>\n",
       "      <th>25%</th>\n",
       "      <td>7.502218e+05</td>\n",
       "      <td>1.400000e+01</td>\n",
       "      <td>0.000000e+00</td>\n",
       "      <td>0.000000e+00</td>\n",
       "    </tr>\n",
       "    <tr>\n",
       "      <th>50%</th>\n",
       "      <td>1.500444e+06</td>\n",
       "      <td>2.750000e+01</td>\n",
       "      <td>1.100000e+01</td>\n",
       "      <td>0.000000e+00</td>\n",
       "    </tr>\n",
       "    <tr>\n",
       "      <th>75%</th>\n",
       "      <td>2.250665e+06</td>\n",
       "      <td>4.100000e+01</td>\n",
       "      <td>1.958473e+02</td>\n",
       "      <td>0.000000e+00</td>\n",
       "    </tr>\n",
       "    <tr>\n",
       "      <th>max</th>\n",
       "      <td>3.000887e+06</td>\n",
       "      <td>5.400000e+01</td>\n",
       "      <td>1.247170e+05</td>\n",
       "      <td>7.410000e+02</td>\n",
       "    </tr>\n",
       "  </tbody>\n",
       "</table>\n",
       "</div>"
      ],
      "text/plain": [
       "                 id     store_nbr         sales   onpromotion\n",
       "count  3.000888e+06  3.000888e+06  3.000888e+06  3.000888e+06\n",
       "mean   1.500444e+06  2.750000e+01  3.577757e+02  2.602770e+00\n",
       "std    8.662819e+05  1.558579e+01  1.101998e+03  1.221888e+01\n",
       "min    0.000000e+00  1.000000e+00  0.000000e+00  0.000000e+00\n",
       "25%    7.502218e+05  1.400000e+01  0.000000e+00  0.000000e+00\n",
       "50%    1.500444e+06  2.750000e+01  1.100000e+01  0.000000e+00\n",
       "75%    2.250665e+06  4.100000e+01  1.958473e+02  0.000000e+00\n",
       "max    3.000887e+06  5.400000e+01  1.247170e+05  7.410000e+02"
      ]
     },
     "execution_count": 3,
     "metadata": {},
     "output_type": "execute_result"
    }
   ],
   "source": [
    "# Get summary statistics for the data\n",
    "df.describe()"
   ]
  },
  {
   "cell_type": "code",
   "execution_count": 4,
   "id": "c0402ec3",
   "metadata": {
    "execution": {
     "iopub.execute_input": "2023-06-05T13:35:27.728479Z",
     "iopub.status.busy": "2023-06-05T13:35:27.728155Z",
     "iopub.status.idle": "2023-06-05T13:35:28.184522Z",
     "shell.execute_reply": "2023-06-05T13:35:28.183616Z"
    },
    "papermill": {
     "duration": 0.476885,
     "end_time": "2023-06-05T13:35:28.186613",
     "exception": false,
     "start_time": "2023-06-05T13:35:27.709728",
     "status": "completed"
    },
    "tags": []
   },
   "outputs": [
    {
     "data": {
      "text/plain": [
       "array(['AUTOMOTIVE', 'BABY CARE', 'BEAUTY', 'BEVERAGES', 'BOOKS',\n",
       "       'BREAD/BAKERY', 'CELEBRATION', 'CLEANING', 'DAIRY', 'DELI', 'EGGS',\n",
       "       'FROZEN FOODS', 'GROCERY I', 'GROCERY II', 'HARDWARE',\n",
       "       'HOME AND KITCHEN I', 'HOME AND KITCHEN II', 'HOME APPLIANCES',\n",
       "       'HOME CARE', 'LADIESWEAR', 'LAWN AND GARDEN', 'LINGERIE',\n",
       "       'LIQUOR,WINE,BEER', 'MAGAZINES', 'MEATS', 'PERSONAL CARE',\n",
       "       'PET SUPPLIES', 'PLAYERS AND ELECTRONICS', 'POULTRY',\n",
       "       'PREPARED FOODS', 'PRODUCE', 'SCHOOL AND OFFICE SUPPLIES',\n",
       "       'SEAFOOD'], dtype=object)"
      ]
     },
     "execution_count": 4,
     "metadata": {},
     "output_type": "execute_result"
    }
   ],
   "source": [
    "len(df['family'].unique())\n",
    "df['family'].unique()"
   ]
  },
  {
   "cell_type": "markdown",
   "id": "1dea8311",
   "metadata": {
    "papermill": {
     "duration": 0.016272,
     "end_time": "2023-06-05T13:35:28.219390",
     "exception": false,
     "start_time": "2023-06-05T13:35:28.203118",
     "status": "completed"
    },
    "tags": []
   },
   "source": [
    "see how many nonzero entries there are"
   ]
  },
  {
   "cell_type": "code",
   "execution_count": 5,
   "id": "dc0d1bff",
   "metadata": {
    "execution": {
     "iopub.execute_input": "2023-06-05T13:35:28.254056Z",
     "iopub.status.busy": "2023-06-05T13:35:28.253183Z",
     "iopub.status.idle": "2023-06-05T13:35:29.902586Z",
     "shell.execute_reply": "2023-06-05T13:35:29.901405Z"
    },
    "papermill": {
     "duration": 1.669013,
     "end_time": "2023-06-05T13:35:29.904719",
     "exception": false,
     "start_time": "2023-06-05T13:35:28.235706",
     "status": "completed"
    },
    "tags": []
   },
   "outputs": [
    {
     "name": "stdout",
     "output_type": "stream",
     "text": [
      "2061758\n",
      "939130\n",
      "3000888\n",
      "3000888\n",
      "% of nonzero is:  68.7\n"
     ]
    }
   ],
   "source": [
    "print(sum(df['sales']!=0))\n",
    "print(sum(df['sales']==0))\n",
    "print(sum(df['sales']!=0)+sum(df['sales']==0))\n",
    "print(len(df['sales']))\n",
    "\n",
    "print(\"% of nonzero is: \" , np.round(sum(df['sales']!=0)/len(df['sales']),4)*100  )"
   ]
  },
  {
   "cell_type": "markdown",
   "id": "d9189ee6",
   "metadata": {
    "papermill": {
     "duration": 0.016074,
     "end_time": "2023-06-05T13:35:29.937493",
     "exception": false,
     "start_time": "2023-06-05T13:35:29.921419",
     "status": "completed"
    },
    "tags": []
   },
   "source": [
    "makes sense, most products are not sold daily (only essential products are) "
   ]
  },
  {
   "cell_type": "markdown",
   "id": "0f30982d",
   "metadata": {
    "papermill": {
     "duration": 0.01606,
     "end_time": "2023-06-05T13:35:29.969767",
     "exception": false,
     "start_time": "2023-06-05T13:35:29.953707",
     "status": "completed"
    },
    "tags": []
   },
   "source": [
    "## Try random forest\n",
    "\n",
    "for this we have to masssage the data a bit"
   ]
  },
  {
   "cell_type": "code",
   "execution_count": 6,
   "id": "c7ebd219",
   "metadata": {
    "execution": {
     "iopub.execute_input": "2023-06-05T13:35:30.003961Z",
     "iopub.status.busy": "2023-06-05T13:35:30.003116Z",
     "iopub.status.idle": "2023-06-05T13:35:32.325771Z",
     "shell.execute_reply": "2023-06-05T13:35:32.324601Z"
    },
    "papermill": {
     "duration": 2.342275,
     "end_time": "2023-06-05T13:35:32.328168",
     "exception": false,
     "start_time": "2023-06-05T13:35:29.985893",
     "status": "completed"
    },
    "tags": []
   },
   "outputs": [
    {
     "data": {
      "text/html": [
       "<div>\n",
       "<style scoped>\n",
       "    .dataframe tbody tr th:only-of-type {\n",
       "        vertical-align: middle;\n",
       "    }\n",
       "\n",
       "    .dataframe tbody tr th {\n",
       "        vertical-align: top;\n",
       "    }\n",
       "\n",
       "    .dataframe thead th {\n",
       "        text-align: right;\n",
       "    }\n",
       "</style>\n",
       "<table border=\"1\" class=\"dataframe\">\n",
       "  <thead>\n",
       "    <tr style=\"text-align: right;\">\n",
       "      <th></th>\n",
       "      <th>date</th>\n",
       "      <th>store_nbr</th>\n",
       "      <th>family</th>\n",
       "      <th>sales</th>\n",
       "      <th>onpromotion</th>\n",
       "    </tr>\n",
       "    <tr>\n",
       "      <th>id</th>\n",
       "      <th></th>\n",
       "      <th></th>\n",
       "      <th></th>\n",
       "      <th></th>\n",
       "      <th></th>\n",
       "    </tr>\n",
       "  </thead>\n",
       "  <tbody>\n",
       "    <tr>\n",
       "      <th>0</th>\n",
       "      <td>2013-01-01</td>\n",
       "      <td>1</td>\n",
       "      <td>AUTOMOTIVE</td>\n",
       "      <td>0.000</td>\n",
       "      <td>0</td>\n",
       "    </tr>\n",
       "    <tr>\n",
       "      <th>1</th>\n",
       "      <td>2013-01-01</td>\n",
       "      <td>1</td>\n",
       "      <td>BABY CARE</td>\n",
       "      <td>0.000</td>\n",
       "      <td>0</td>\n",
       "    </tr>\n",
       "    <tr>\n",
       "      <th>2</th>\n",
       "      <td>2013-01-01</td>\n",
       "      <td>1</td>\n",
       "      <td>BEAUTY</td>\n",
       "      <td>0.000</td>\n",
       "      <td>0</td>\n",
       "    </tr>\n",
       "    <tr>\n",
       "      <th>3</th>\n",
       "      <td>2013-01-01</td>\n",
       "      <td>1</td>\n",
       "      <td>BEVERAGES</td>\n",
       "      <td>0.000</td>\n",
       "      <td>0</td>\n",
       "    </tr>\n",
       "    <tr>\n",
       "      <th>4</th>\n",
       "      <td>2013-01-01</td>\n",
       "      <td>1</td>\n",
       "      <td>BOOKS</td>\n",
       "      <td>0.000</td>\n",
       "      <td>0</td>\n",
       "    </tr>\n",
       "    <tr>\n",
       "      <th>...</th>\n",
       "      <td>...</td>\n",
       "      <td>...</td>\n",
       "      <td>...</td>\n",
       "      <td>...</td>\n",
       "      <td>...</td>\n",
       "    </tr>\n",
       "    <tr>\n",
       "      <th>3000883</th>\n",
       "      <td>2017-08-15</td>\n",
       "      <td>9</td>\n",
       "      <td>POULTRY</td>\n",
       "      <td>438.133</td>\n",
       "      <td>0</td>\n",
       "    </tr>\n",
       "    <tr>\n",
       "      <th>3000884</th>\n",
       "      <td>2017-08-15</td>\n",
       "      <td>9</td>\n",
       "      <td>PREPARED FOODS</td>\n",
       "      <td>154.553</td>\n",
       "      <td>1</td>\n",
       "    </tr>\n",
       "    <tr>\n",
       "      <th>3000885</th>\n",
       "      <td>2017-08-15</td>\n",
       "      <td>9</td>\n",
       "      <td>PRODUCE</td>\n",
       "      <td>2419.729</td>\n",
       "      <td>148</td>\n",
       "    </tr>\n",
       "    <tr>\n",
       "      <th>3000886</th>\n",
       "      <td>2017-08-15</td>\n",
       "      <td>9</td>\n",
       "      <td>SCHOOL AND OFFICE SUPPLIES</td>\n",
       "      <td>121.000</td>\n",
       "      <td>8</td>\n",
       "    </tr>\n",
       "    <tr>\n",
       "      <th>3000887</th>\n",
       "      <td>2017-08-15</td>\n",
       "      <td>9</td>\n",
       "      <td>SEAFOOD</td>\n",
       "      <td>16.000</td>\n",
       "      <td>0</td>\n",
       "    </tr>\n",
       "  </tbody>\n",
       "</table>\n",
       "<p>3000888 rows × 5 columns</p>\n",
       "</div>"
      ],
      "text/plain": [
       "              date  store_nbr                      family     sales  \\\n",
       "id                                                                    \n",
       "0       2013-01-01          1                  AUTOMOTIVE     0.000   \n",
       "1       2013-01-01          1                   BABY CARE     0.000   \n",
       "2       2013-01-01          1                      BEAUTY     0.000   \n",
       "3       2013-01-01          1                   BEVERAGES     0.000   \n",
       "4       2013-01-01          1                       BOOKS     0.000   \n",
       "...            ...        ...                         ...       ...   \n",
       "3000883 2017-08-15          9                     POULTRY   438.133   \n",
       "3000884 2017-08-15          9              PREPARED FOODS   154.553   \n",
       "3000885 2017-08-15          9                     PRODUCE  2419.729   \n",
       "3000886 2017-08-15          9  SCHOOL AND OFFICE SUPPLIES   121.000   \n",
       "3000887 2017-08-15          9                     SEAFOOD    16.000   \n",
       "\n",
       "         onpromotion  \n",
       "id                    \n",
       "0                  0  \n",
       "1                  0  \n",
       "2                  0  \n",
       "3                  0  \n",
       "4                  0  \n",
       "...              ...  \n",
       "3000883            0  \n",
       "3000884            1  \n",
       "3000885          148  \n",
       "3000886            8  \n",
       "3000887            0  \n",
       "\n",
       "[3000888 rows x 5 columns]"
      ]
     },
     "execution_count": 6,
     "metadata": {},
     "output_type": "execute_result"
    }
   ],
   "source": [
    "df2 = pd.read_csv('/kaggle/input/store-sales-time-series-forecasting/train.csv',\n",
    "    index_col='id',\n",
    "    parse_dates=['date'])\n",
    "df2.head(len(df2))"
   ]
  },
  {
   "cell_type": "markdown",
   "id": "6a7d46c1",
   "metadata": {
    "papermill": {
     "duration": 0.016696,
     "end_time": "2023-06-05T13:35:32.363226",
     "exception": false,
     "start_time": "2023-06-05T13:35:32.346530",
     "status": "completed"
    },
    "tags": []
   },
   "source": [
    "Define the target variable (the one we are going to predict) "
   ]
  },
  {
   "cell_type": "code",
   "execution_count": 7,
   "id": "ec336beb",
   "metadata": {
    "execution": {
     "iopub.execute_input": "2023-06-05T13:35:32.398173Z",
     "iopub.status.busy": "2023-06-05T13:35:32.397827Z",
     "iopub.status.idle": "2023-06-05T13:35:32.402274Z",
     "shell.execute_reply": "2023-06-05T13:35:32.401263Z"
    },
    "papermill": {
     "duration": 0.024746,
     "end_time": "2023-06-05T13:35:32.404724",
     "exception": false,
     "start_time": "2023-06-05T13:35:32.379978",
     "status": "completed"
    },
    "tags": []
   },
   "outputs": [],
   "source": [
    "y = df2.sales"
   ]
  },
  {
   "cell_type": "markdown",
   "id": "61d68c8a",
   "metadata": {
    "papermill": {
     "duration": 0.016706,
     "end_time": "2023-06-05T13:35:32.438151",
     "exception": false,
     "start_time": "2023-06-05T13:35:32.421445",
     "status": "completed"
    },
    "tags": []
   },
   "source": [
    "See which are the features we can use for the prediction (in principle we can use the variables that are numerical)"
   ]
  },
  {
   "cell_type": "code",
   "execution_count": 8,
   "id": "dca75395",
   "metadata": {
    "execution": {
     "iopub.execute_input": "2023-06-05T13:35:32.473232Z",
     "iopub.status.busy": "2023-06-05T13:35:32.472886Z",
     "iopub.status.idle": "2023-06-05T13:35:32.480146Z",
     "shell.execute_reply": "2023-06-05T13:35:32.479144Z"
    },
    "papermill": {
     "duration": 0.027223,
     "end_time": "2023-06-05T13:35:32.482189",
     "exception": false,
     "start_time": "2023-06-05T13:35:32.454966",
     "status": "completed"
    },
    "tags": []
   },
   "outputs": [
    {
     "data": {
      "text/plain": [
       "Index(['date', 'store_nbr', 'family', 'sales', 'onpromotion'], dtype='object')"
      ]
     },
     "execution_count": 8,
     "metadata": {},
     "output_type": "execute_result"
    }
   ],
   "source": [
    "df2.columns"
   ]
  },
  {
   "cell_type": "markdown",
   "id": "9a999855",
   "metadata": {
    "papermill": {
     "duration": 0.016561,
     "end_time": "2023-06-05T13:35:32.515624",
     "exception": false,
     "start_time": "2023-06-05T13:35:32.499063",
     "status": "completed"
    },
    "tags": []
   },
   "source": [
    "first we need to make the date into an integer or float"
   ]
  },
  {
   "cell_type": "code",
   "execution_count": 9,
   "id": "ed292ff7",
   "metadata": {
    "execution": {
     "iopub.execute_input": "2023-06-05T13:35:32.550725Z",
     "iopub.status.busy": "2023-06-05T13:35:32.550385Z",
     "iopub.status.idle": "2023-06-05T13:35:32.556267Z",
     "shell.execute_reply": "2023-06-05T13:35:32.555248Z"
    },
    "papermill": {
     "duration": 0.027424,
     "end_time": "2023-06-05T13:35:32.559882",
     "exception": false,
     "start_time": "2023-06-05T13:35:32.532458",
     "status": "completed"
    },
    "tags": []
   },
   "outputs": [
    {
     "name": "stdout",
     "output_type": "stream",
     "text": [
      "Current datetime:  2023-06-05 13:35:32.552359\n",
      "Integer timestamp of current datetime:  1685972133\n"
     ]
    }
   ],
   "source": [
    "# An example\n",
    "from datetime import datetime\n",
    "curr_dt = datetime.now()\n",
    "print(\"Current datetime: \", curr_dt)\n",
    "timestamp = int(round(curr_dt.timestamp()))\n",
    "print(\"Integer timestamp of current datetime: \",\n",
    "      timestamp)"
   ]
  },
  {
   "cell_type": "code",
   "execution_count": 10,
   "id": "58765499",
   "metadata": {
    "execution": {
     "iopub.execute_input": "2023-06-05T13:35:32.595521Z",
     "iopub.status.busy": "2023-06-05T13:35:32.595183Z",
     "iopub.status.idle": "2023-06-05T13:35:45.322094Z",
     "shell.execute_reply": "2023-06-05T13:35:45.321181Z"
    },
    "papermill": {
     "duration": 12.747017,
     "end_time": "2023-06-05T13:35:45.324146",
     "exception": false,
     "start_time": "2023-06-05T13:35:32.577129",
     "status": "completed"
    },
    "tags": []
   },
   "outputs": [
    {
     "data": {
      "text/html": [
       "<div>\n",
       "<style scoped>\n",
       "    .dataframe tbody tr th:only-of-type {\n",
       "        vertical-align: middle;\n",
       "    }\n",
       "\n",
       "    .dataframe tbody tr th {\n",
       "        vertical-align: top;\n",
       "    }\n",
       "\n",
       "    .dataframe thead th {\n",
       "        text-align: right;\n",
       "    }\n",
       "</style>\n",
       "<table border=\"1\" class=\"dataframe\">\n",
       "  <thead>\n",
       "    <tr style=\"text-align: right;\">\n",
       "      <th></th>\n",
       "      <th>date</th>\n",
       "      <th>store_nbr</th>\n",
       "      <th>family</th>\n",
       "      <th>sales</th>\n",
       "      <th>onpromotion</th>\n",
       "      <th>date_int</th>\n",
       "    </tr>\n",
       "    <tr>\n",
       "      <th>id</th>\n",
       "      <th></th>\n",
       "      <th></th>\n",
       "      <th></th>\n",
       "      <th></th>\n",
       "      <th></th>\n",
       "      <th></th>\n",
       "    </tr>\n",
       "  </thead>\n",
       "  <tbody>\n",
       "    <tr>\n",
       "      <th>0</th>\n",
       "      <td>2013-01-01</td>\n",
       "      <td>1</td>\n",
       "      <td>AUTOMOTIVE</td>\n",
       "      <td>0.000</td>\n",
       "      <td>0</td>\n",
       "      <td>1356998400</td>\n",
       "    </tr>\n",
       "    <tr>\n",
       "      <th>1</th>\n",
       "      <td>2013-01-01</td>\n",
       "      <td>1</td>\n",
       "      <td>BABY CARE</td>\n",
       "      <td>0.000</td>\n",
       "      <td>0</td>\n",
       "      <td>1356998400</td>\n",
       "    </tr>\n",
       "    <tr>\n",
       "      <th>2</th>\n",
       "      <td>2013-01-01</td>\n",
       "      <td>1</td>\n",
       "      <td>BEAUTY</td>\n",
       "      <td>0.000</td>\n",
       "      <td>0</td>\n",
       "      <td>1356998400</td>\n",
       "    </tr>\n",
       "    <tr>\n",
       "      <th>3</th>\n",
       "      <td>2013-01-01</td>\n",
       "      <td>1</td>\n",
       "      <td>BEVERAGES</td>\n",
       "      <td>0.000</td>\n",
       "      <td>0</td>\n",
       "      <td>1356998400</td>\n",
       "    </tr>\n",
       "    <tr>\n",
       "      <th>4</th>\n",
       "      <td>2013-01-01</td>\n",
       "      <td>1</td>\n",
       "      <td>BOOKS</td>\n",
       "      <td>0.000</td>\n",
       "      <td>0</td>\n",
       "      <td>1356998400</td>\n",
       "    </tr>\n",
       "    <tr>\n",
       "      <th>...</th>\n",
       "      <td>...</td>\n",
       "      <td>...</td>\n",
       "      <td>...</td>\n",
       "      <td>...</td>\n",
       "      <td>...</td>\n",
       "      <td>...</td>\n",
       "    </tr>\n",
       "    <tr>\n",
       "      <th>3000883</th>\n",
       "      <td>2017-08-15</td>\n",
       "      <td>9</td>\n",
       "      <td>POULTRY</td>\n",
       "      <td>438.133</td>\n",
       "      <td>0</td>\n",
       "      <td>1502755200</td>\n",
       "    </tr>\n",
       "    <tr>\n",
       "      <th>3000884</th>\n",
       "      <td>2017-08-15</td>\n",
       "      <td>9</td>\n",
       "      <td>PREPARED FOODS</td>\n",
       "      <td>154.553</td>\n",
       "      <td>1</td>\n",
       "      <td>1502755200</td>\n",
       "    </tr>\n",
       "    <tr>\n",
       "      <th>3000885</th>\n",
       "      <td>2017-08-15</td>\n",
       "      <td>9</td>\n",
       "      <td>PRODUCE</td>\n",
       "      <td>2419.729</td>\n",
       "      <td>148</td>\n",
       "      <td>1502755200</td>\n",
       "    </tr>\n",
       "    <tr>\n",
       "      <th>3000886</th>\n",
       "      <td>2017-08-15</td>\n",
       "      <td>9</td>\n",
       "      <td>SCHOOL AND OFFICE SUPPLIES</td>\n",
       "      <td>121.000</td>\n",
       "      <td>8</td>\n",
       "      <td>1502755200</td>\n",
       "    </tr>\n",
       "    <tr>\n",
       "      <th>3000887</th>\n",
       "      <td>2017-08-15</td>\n",
       "      <td>9</td>\n",
       "      <td>SEAFOOD</td>\n",
       "      <td>16.000</td>\n",
       "      <td>0</td>\n",
       "      <td>1502755200</td>\n",
       "    </tr>\n",
       "  </tbody>\n",
       "</table>\n",
       "<p>3000888 rows × 6 columns</p>\n",
       "</div>"
      ],
      "text/plain": [
       "              date  store_nbr                      family     sales  \\\n",
       "id                                                                    \n",
       "0       2013-01-01          1                  AUTOMOTIVE     0.000   \n",
       "1       2013-01-01          1                   BABY CARE     0.000   \n",
       "2       2013-01-01          1                      BEAUTY     0.000   \n",
       "3       2013-01-01          1                   BEVERAGES     0.000   \n",
       "4       2013-01-01          1                       BOOKS     0.000   \n",
       "...            ...        ...                         ...       ...   \n",
       "3000883 2017-08-15          9                     POULTRY   438.133   \n",
       "3000884 2017-08-15          9              PREPARED FOODS   154.553   \n",
       "3000885 2017-08-15          9                     PRODUCE  2419.729   \n",
       "3000886 2017-08-15          9  SCHOOL AND OFFICE SUPPLIES   121.000   \n",
       "3000887 2017-08-15          9                     SEAFOOD    16.000   \n",
       "\n",
       "         onpromotion    date_int  \n",
       "id                                \n",
       "0                  0  1356998400  \n",
       "1                  0  1356998400  \n",
       "2                  0  1356998400  \n",
       "3                  0  1356998400  \n",
       "4                  0  1356998400  \n",
       "...              ...         ...  \n",
       "3000883            0  1502755200  \n",
       "3000884            1  1502755200  \n",
       "3000885          148  1502755200  \n",
       "3000886            8  1502755200  \n",
       "3000887            0  1502755200  \n",
       "\n",
       "[3000888 rows x 6 columns]"
      ]
     },
     "execution_count": 10,
     "metadata": {},
     "output_type": "execute_result"
    }
   ],
   "source": [
    "# apply to all\n",
    "df2['date_int'] = df2['date'].map(lambda a : int(round(a.timestamp())) )\n",
    "df2.head(len(df2))"
   ]
  },
  {
   "cell_type": "code",
   "execution_count": 11,
   "id": "2f5aa6f0",
   "metadata": {
    "execution": {
     "iopub.execute_input": "2023-06-05T13:35:45.364078Z",
     "iopub.status.busy": "2023-06-05T13:35:45.362469Z",
     "iopub.status.idle": "2023-06-05T13:35:45.506027Z",
     "shell.execute_reply": "2023-06-05T13:35:45.504887Z"
    },
    "papermill": {
     "duration": 0.165148,
     "end_time": "2023-06-05T13:35:45.508675",
     "exception": false,
     "start_time": "2023-06-05T13:35:45.343527",
     "status": "completed"
    },
    "tags": []
   },
   "outputs": [
    {
     "name": "stdout",
     "output_type": "stream",
     "text": [
      "Check that the difference between time integer timestamps is always the same:\n",
      " \n",
      "2013-01-01 00:00:00 1356998400\n",
      "2013-01-02 00:00:00 1357084800\n",
      "2013-01-03 00:00:00 1357171200\n",
      "2013-01-04 00:00:00 1357257600\n",
      "86400 86400 86400\n"
     ]
    }
   ],
   "source": [
    "print(\"Check that the difference between time integer timestamps is always the same:\")\n",
    "print(\" \")\n",
    "print(df2.loc[0,'date'], df2.loc[0,'date_int'])\n",
    "print(df2.loc[1782,'date'], df2.loc[1782,'date_int'])\n",
    "print(df2.loc[3564,'date'], df2.loc[3564,'date_int'])\n",
    "print(df2.loc[5346,'date'], df2.loc[5346,'date_int'])\n",
    "print(df2.loc[5346,'date_int']-df2.loc[3564,'date_int'], df2.loc[3564,'date_int']-df2.loc[1782,'date_int'], df2.loc[1782,'date_int']-df2.loc[0,'date_int'])"
   ]
  },
  {
   "cell_type": "code",
   "execution_count": 12,
   "id": "6593fd76",
   "metadata": {
    "execution": {
     "iopub.execute_input": "2023-06-05T13:35:45.544899Z",
     "iopub.status.busy": "2023-06-05T13:35:45.544587Z",
     "iopub.status.idle": "2023-06-05T13:35:45.558426Z",
     "shell.execute_reply": "2023-06-05T13:35:45.557240Z"
    },
    "papermill": {
     "duration": 0.034017,
     "end_time": "2023-06-05T13:35:45.560384",
     "exception": false,
     "start_time": "2023-06-05T13:35:45.526367",
     "status": "completed"
    },
    "tags": []
   },
   "outputs": [
    {
     "name": "stdout",
     "output_type": "stream",
     "text": [
      "<class 'pandas.core.frame.DataFrame'>\n",
      "Int64Index: 3000888 entries, 0 to 3000887\n",
      "Data columns (total 6 columns):\n",
      " #   Column       Dtype         \n",
      "---  ------       -----         \n",
      " 0   date         datetime64[ns]\n",
      " 1   store_nbr    int64         \n",
      " 2   family       object        \n",
      " 3   sales        float64       \n",
      " 4   onpromotion  int64         \n",
      " 5   date_int     int64         \n",
      "dtypes: datetime64[ns](1), float64(1), int64(3), object(1)\n",
      "memory usage: 224.8+ MB\n"
     ]
    }
   ],
   "source": [
    "df2.info()"
   ]
  },
  {
   "cell_type": "code",
   "execution_count": 13,
   "id": "03e9dd15",
   "metadata": {
    "execution": {
     "iopub.execute_input": "2023-06-05T13:35:45.596682Z",
     "iopub.status.busy": "2023-06-05T13:35:45.595885Z",
     "iopub.status.idle": "2023-06-05T13:35:45.828773Z",
     "shell.execute_reply": "2023-06-05T13:35:45.827736Z"
    },
    "papermill": {
     "duration": 0.253469,
     "end_time": "2023-06-05T13:35:45.831273",
     "exception": false,
     "start_time": "2023-06-05T13:35:45.577804",
     "status": "completed"
    },
    "tags": []
   },
   "outputs": [
    {
     "name": "stdout",
     "output_type": "stream",
     "text": [
      "{'AUTOMOTIVE': 0, 'BABY CARE': 1, 'BEAUTY': 2, 'BEVERAGES': 3, 'BOOKS': 4, 'BREAD/BAKERY': 5, 'CELEBRATION': 6, 'CLEANING': 7, 'DAIRY': 8, 'DELI': 9, 'EGGS': 10, 'FROZEN FOODS': 11, 'GROCERY I': 12, 'GROCERY II': 13, 'HARDWARE': 14, 'HOME AND KITCHEN I': 15, 'HOME AND KITCHEN II': 16, 'HOME APPLIANCES': 17, 'HOME CARE': 18, 'LADIESWEAR': 19, 'LAWN AND GARDEN': 20, 'LINGERIE': 21, 'LIQUOR,WINE,BEER': 22, 'MAGAZINES': 23, 'MEATS': 24, 'PERSONAL CARE': 25, 'PET SUPPLIES': 26, 'PLAYERS AND ELECTRONICS': 27, 'POULTRY': 28, 'PREPARED FOODS': 29, 'PRODUCE': 30, 'SCHOOL AND OFFICE SUPPLIES': 31, 'SEAFOOD': 32}\n"
     ]
    }
   ],
   "source": [
    "family_enum = {}\n",
    "family_array = df2['family'].unique()\n",
    "for i in range(len(family_array)):\n",
    "    family_enum[family_array[i]] = i\n",
    "print(family_enum)"
   ]
  },
  {
   "cell_type": "code",
   "execution_count": 14,
   "id": "67d943a1",
   "metadata": {
    "execution": {
     "iopub.execute_input": "2023-06-05T13:35:45.867402Z",
     "iopub.status.busy": "2023-06-05T13:35:45.867121Z",
     "iopub.status.idle": "2023-06-05T13:35:47.694134Z",
     "shell.execute_reply": "2023-06-05T13:35:47.693229Z"
    },
    "papermill": {
     "duration": 1.847415,
     "end_time": "2023-06-05T13:35:47.696241",
     "exception": false,
     "start_time": "2023-06-05T13:35:45.848826",
     "status": "completed"
    },
    "tags": []
   },
   "outputs": [
    {
     "data": {
      "text/html": [
       "<div>\n",
       "<style scoped>\n",
       "    .dataframe tbody tr th:only-of-type {\n",
       "        vertical-align: middle;\n",
       "    }\n",
       "\n",
       "    .dataframe tbody tr th {\n",
       "        vertical-align: top;\n",
       "    }\n",
       "\n",
       "    .dataframe thead th {\n",
       "        text-align: right;\n",
       "    }\n",
       "</style>\n",
       "<table border=\"1\" class=\"dataframe\">\n",
       "  <thead>\n",
       "    <tr style=\"text-align: right;\">\n",
       "      <th></th>\n",
       "      <th>date</th>\n",
       "      <th>store_nbr</th>\n",
       "      <th>family</th>\n",
       "      <th>sales</th>\n",
       "      <th>onpromotion</th>\n",
       "      <th>date_int</th>\n",
       "      <th>family_number</th>\n",
       "    </tr>\n",
       "    <tr>\n",
       "      <th>id</th>\n",
       "      <th></th>\n",
       "      <th></th>\n",
       "      <th></th>\n",
       "      <th></th>\n",
       "      <th></th>\n",
       "      <th></th>\n",
       "      <th></th>\n",
       "    </tr>\n",
       "  </thead>\n",
       "  <tbody>\n",
       "    <tr>\n",
       "      <th>0</th>\n",
       "      <td>2013-01-01</td>\n",
       "      <td>1</td>\n",
       "      <td>AUTOMOTIVE</td>\n",
       "      <td>0.0</td>\n",
       "      <td>0</td>\n",
       "      <td>1356998400</td>\n",
       "      <td>0</td>\n",
       "    </tr>\n",
       "    <tr>\n",
       "      <th>1</th>\n",
       "      <td>2013-01-01</td>\n",
       "      <td>1</td>\n",
       "      <td>BABY CARE</td>\n",
       "      <td>0.0</td>\n",
       "      <td>0</td>\n",
       "      <td>1356998400</td>\n",
       "      <td>1</td>\n",
       "    </tr>\n",
       "    <tr>\n",
       "      <th>2</th>\n",
       "      <td>2013-01-01</td>\n",
       "      <td>1</td>\n",
       "      <td>BEAUTY</td>\n",
       "      <td>0.0</td>\n",
       "      <td>0</td>\n",
       "      <td>1356998400</td>\n",
       "      <td>2</td>\n",
       "    </tr>\n",
       "    <tr>\n",
       "      <th>3</th>\n",
       "      <td>2013-01-01</td>\n",
       "      <td>1</td>\n",
       "      <td>BEVERAGES</td>\n",
       "      <td>0.0</td>\n",
       "      <td>0</td>\n",
       "      <td>1356998400</td>\n",
       "      <td>3</td>\n",
       "    </tr>\n",
       "    <tr>\n",
       "      <th>4</th>\n",
       "      <td>2013-01-01</td>\n",
       "      <td>1</td>\n",
       "      <td>BOOKS</td>\n",
       "      <td>0.0</td>\n",
       "      <td>0</td>\n",
       "      <td>1356998400</td>\n",
       "      <td>4</td>\n",
       "    </tr>\n",
       "  </tbody>\n",
       "</table>\n",
       "</div>"
      ],
      "text/plain": [
       "         date  store_nbr      family  sales  onpromotion    date_int  \\\n",
       "id                                                                     \n",
       "0  2013-01-01          1  AUTOMOTIVE    0.0            0  1356998400   \n",
       "1  2013-01-01          1   BABY CARE    0.0            0  1356998400   \n",
       "2  2013-01-01          1      BEAUTY    0.0            0  1356998400   \n",
       "3  2013-01-01          1   BEVERAGES    0.0            0  1356998400   \n",
       "4  2013-01-01          1       BOOKS    0.0            0  1356998400   \n",
       "\n",
       "    family_number  \n",
       "id                 \n",
       "0               0  \n",
       "1               1  \n",
       "2               2  \n",
       "3               3  \n",
       "4               4  "
      ]
     },
     "execution_count": 14,
     "metadata": {},
     "output_type": "execute_result"
    }
   ],
   "source": [
    "df2['family_number'] = df2['family'].map(lambda a : family_enum[a] )\n",
    "df2.head()"
   ]
  },
  {
   "cell_type": "code",
   "execution_count": 15,
   "id": "c758e0a4",
   "metadata": {
    "execution": {
     "iopub.execute_input": "2023-06-05T13:35:47.733156Z",
     "iopub.status.busy": "2023-06-05T13:35:47.732873Z",
     "iopub.status.idle": "2023-06-05T13:35:47.843884Z",
     "shell.execute_reply": "2023-06-05T13:35:47.842876Z"
    },
    "papermill": {
     "duration": 0.132149,
     "end_time": "2023-06-05T13:35:47.846553",
     "exception": false,
     "start_time": "2023-06-05T13:35:47.714404",
     "status": "completed"
    },
    "tags": []
   },
   "outputs": [
    {
     "data": {
      "text/html": [
       "<div>\n",
       "<style scoped>\n",
       "    .dataframe tbody tr th:only-of-type {\n",
       "        vertical-align: middle;\n",
       "    }\n",
       "\n",
       "    .dataframe tbody tr th {\n",
       "        vertical-align: top;\n",
       "    }\n",
       "\n",
       "    .dataframe thead th {\n",
       "        text-align: right;\n",
       "    }\n",
       "</style>\n",
       "<table border=\"1\" class=\"dataframe\">\n",
       "  <thead>\n",
       "    <tr style=\"text-align: right;\">\n",
       "      <th></th>\n",
       "      <th>date_int</th>\n",
       "      <th>store_nbr</th>\n",
       "      <th>family_number</th>\n",
       "      <th>onpromotion</th>\n",
       "    </tr>\n",
       "    <tr>\n",
       "      <th>id</th>\n",
       "      <th></th>\n",
       "      <th></th>\n",
       "      <th></th>\n",
       "      <th></th>\n",
       "    </tr>\n",
       "  </thead>\n",
       "  <tbody>\n",
       "    <tr>\n",
       "      <th>0</th>\n",
       "      <td>1356998400</td>\n",
       "      <td>1</td>\n",
       "      <td>0</td>\n",
       "      <td>0</td>\n",
       "    </tr>\n",
       "    <tr>\n",
       "      <th>1</th>\n",
       "      <td>1356998400</td>\n",
       "      <td>1</td>\n",
       "      <td>1</td>\n",
       "      <td>0</td>\n",
       "    </tr>\n",
       "    <tr>\n",
       "      <th>2</th>\n",
       "      <td>1356998400</td>\n",
       "      <td>1</td>\n",
       "      <td>2</td>\n",
       "      <td>0</td>\n",
       "    </tr>\n",
       "    <tr>\n",
       "      <th>3</th>\n",
       "      <td>1356998400</td>\n",
       "      <td>1</td>\n",
       "      <td>3</td>\n",
       "      <td>0</td>\n",
       "    </tr>\n",
       "    <tr>\n",
       "      <th>4</th>\n",
       "      <td>1356998400</td>\n",
       "      <td>1</td>\n",
       "      <td>4</td>\n",
       "      <td>0</td>\n",
       "    </tr>\n",
       "    <tr>\n",
       "      <th>...</th>\n",
       "      <td>...</td>\n",
       "      <td>...</td>\n",
       "      <td>...</td>\n",
       "      <td>...</td>\n",
       "    </tr>\n",
       "    <tr>\n",
       "      <th>3000883</th>\n",
       "      <td>1502755200</td>\n",
       "      <td>9</td>\n",
       "      <td>28</td>\n",
       "      <td>0</td>\n",
       "    </tr>\n",
       "    <tr>\n",
       "      <th>3000884</th>\n",
       "      <td>1502755200</td>\n",
       "      <td>9</td>\n",
       "      <td>29</td>\n",
       "      <td>1</td>\n",
       "    </tr>\n",
       "    <tr>\n",
       "      <th>3000885</th>\n",
       "      <td>1502755200</td>\n",
       "      <td>9</td>\n",
       "      <td>30</td>\n",
       "      <td>148</td>\n",
       "    </tr>\n",
       "    <tr>\n",
       "      <th>3000886</th>\n",
       "      <td>1502755200</td>\n",
       "      <td>9</td>\n",
       "      <td>31</td>\n",
       "      <td>8</td>\n",
       "    </tr>\n",
       "    <tr>\n",
       "      <th>3000887</th>\n",
       "      <td>1502755200</td>\n",
       "      <td>9</td>\n",
       "      <td>32</td>\n",
       "      <td>0</td>\n",
       "    </tr>\n",
       "  </tbody>\n",
       "</table>\n",
       "<p>3000888 rows × 4 columns</p>\n",
       "</div>"
      ],
      "text/plain": [
       "           date_int  store_nbr  family_number  onpromotion\n",
       "id                                                        \n",
       "0        1356998400          1              0            0\n",
       "1        1356998400          1              1            0\n",
       "2        1356998400          1              2            0\n",
       "3        1356998400          1              3            0\n",
       "4        1356998400          1              4            0\n",
       "...             ...        ...            ...          ...\n",
       "3000883  1502755200          9             28            0\n",
       "3000884  1502755200          9             29            1\n",
       "3000885  1502755200          9             30          148\n",
       "3000886  1502755200          9             31            8\n",
       "3000887  1502755200          9             32            0\n",
       "\n",
       "[3000888 rows x 4 columns]"
      ]
     },
     "execution_count": 15,
     "metadata": {},
     "output_type": "execute_result"
    }
   ],
   "source": [
    "features = [ 'date_int', 'store_nbr', 'family_number', 'onpromotion']\n",
    "x = df2[features]\n",
    "x.head(len(x))"
   ]
  },
  {
   "cell_type": "code",
   "execution_count": 16,
   "id": "dc166b35",
   "metadata": {
    "execution": {
     "iopub.execute_input": "2023-06-05T13:35:47.884649Z",
     "iopub.status.busy": "2023-06-05T13:35:47.883767Z",
     "iopub.status.idle": "2023-06-05T13:35:56.956375Z",
     "shell.execute_reply": "2023-06-05T13:35:56.955501Z"
    },
    "papermill": {
     "duration": 9.093738,
     "end_time": "2023-06-05T13:35:56.958637",
     "exception": false,
     "start_time": "2023-06-05T13:35:47.864899",
     "status": "completed"
    },
    "tags": []
   },
   "outputs": [
    {
     "data": {
      "text/html": [
       "<style>#sk-container-id-1 {color: black;background-color: white;}#sk-container-id-1 pre{padding: 0;}#sk-container-id-1 div.sk-toggleable {background-color: white;}#sk-container-id-1 label.sk-toggleable__label {cursor: pointer;display: block;width: 100%;margin-bottom: 0;padding: 0.3em;box-sizing: border-box;text-align: center;}#sk-container-id-1 label.sk-toggleable__label-arrow:before {content: \"▸\";float: left;margin-right: 0.25em;color: #696969;}#sk-container-id-1 label.sk-toggleable__label-arrow:hover:before {color: black;}#sk-container-id-1 div.sk-estimator:hover label.sk-toggleable__label-arrow:before {color: black;}#sk-container-id-1 div.sk-toggleable__content {max-height: 0;max-width: 0;overflow: hidden;text-align: left;background-color: #f0f8ff;}#sk-container-id-1 div.sk-toggleable__content pre {margin: 0.2em;color: black;border-radius: 0.25em;background-color: #f0f8ff;}#sk-container-id-1 input.sk-toggleable__control:checked~div.sk-toggleable__content {max-height: 200px;max-width: 100%;overflow: auto;}#sk-container-id-1 input.sk-toggleable__control:checked~label.sk-toggleable__label-arrow:before {content: \"▾\";}#sk-container-id-1 div.sk-estimator input.sk-toggleable__control:checked~label.sk-toggleable__label {background-color: #d4ebff;}#sk-container-id-1 div.sk-label input.sk-toggleable__control:checked~label.sk-toggleable__label {background-color: #d4ebff;}#sk-container-id-1 input.sk-hidden--visually {border: 0;clip: rect(1px 1px 1px 1px);clip: rect(1px, 1px, 1px, 1px);height: 1px;margin: -1px;overflow: hidden;padding: 0;position: absolute;width: 1px;}#sk-container-id-1 div.sk-estimator {font-family: monospace;background-color: #f0f8ff;border: 1px dotted black;border-radius: 0.25em;box-sizing: border-box;margin-bottom: 0.5em;}#sk-container-id-1 div.sk-estimator:hover {background-color: #d4ebff;}#sk-container-id-1 div.sk-parallel-item::after {content: \"\";width: 100%;border-bottom: 1px solid gray;flex-grow: 1;}#sk-container-id-1 div.sk-label:hover label.sk-toggleable__label {background-color: #d4ebff;}#sk-container-id-1 div.sk-serial::before {content: \"\";position: absolute;border-left: 1px solid gray;box-sizing: border-box;top: 0;bottom: 0;left: 50%;z-index: 0;}#sk-container-id-1 div.sk-serial {display: flex;flex-direction: column;align-items: center;background-color: white;padding-right: 0.2em;padding-left: 0.2em;position: relative;}#sk-container-id-1 div.sk-item {position: relative;z-index: 1;}#sk-container-id-1 div.sk-parallel {display: flex;align-items: stretch;justify-content: center;background-color: white;position: relative;}#sk-container-id-1 div.sk-item::before, #sk-container-id-1 div.sk-parallel-item::before {content: \"\";position: absolute;border-left: 1px solid gray;box-sizing: border-box;top: 0;bottom: 0;left: 50%;z-index: -1;}#sk-container-id-1 div.sk-parallel-item {display: flex;flex-direction: column;z-index: 1;position: relative;background-color: white;}#sk-container-id-1 div.sk-parallel-item:first-child::after {align-self: flex-end;width: 50%;}#sk-container-id-1 div.sk-parallel-item:last-child::after {align-self: flex-start;width: 50%;}#sk-container-id-1 div.sk-parallel-item:only-child::after {width: 0;}#sk-container-id-1 div.sk-dashed-wrapped {border: 1px dashed gray;margin: 0 0.4em 0.5em 0.4em;box-sizing: border-box;padding-bottom: 0.4em;background-color: white;}#sk-container-id-1 div.sk-label label {font-family: monospace;font-weight: bold;display: inline-block;line-height: 1.2em;}#sk-container-id-1 div.sk-label-container {text-align: center;}#sk-container-id-1 div.sk-container {/* jupyter's `normalize.less` sets `[hidden] { display: none; }` but bootstrap.min.css set `[hidden] { display: none !important; }` so we also need the `!important` here to be able to override the default hidden behavior on the sphinx rendered scikit-learn.org. See: https://github.com/scikit-learn/scikit-learn/issues/21755 */display: inline-block !important;position: relative;}#sk-container-id-1 div.sk-text-repr-fallback {display: none;}</style><div id=\"sk-container-id-1\" class=\"sk-top-container\"><div class=\"sk-text-repr-fallback\"><pre>DecisionTreeRegressor(random_state=1)</pre><b>In a Jupyter environment, please rerun this cell to show the HTML representation or trust the notebook. <br />On GitHub, the HTML representation is unable to render, please try loading this page with nbviewer.org.</b></div><div class=\"sk-container\" hidden><div class=\"sk-item\"><div class=\"sk-estimator sk-toggleable\"><input class=\"sk-toggleable__control sk-hidden--visually\" id=\"sk-estimator-id-1\" type=\"checkbox\" checked><label for=\"sk-estimator-id-1\" class=\"sk-toggleable__label sk-toggleable__label-arrow\">DecisionTreeRegressor</label><div class=\"sk-toggleable__content\"><pre>DecisionTreeRegressor(random_state=1)</pre></div></div></div></div></div>"
      ],
      "text/plain": [
       "DecisionTreeRegressor(random_state=1)"
      ]
     },
     "execution_count": 16,
     "metadata": {},
     "output_type": "execute_result"
    }
   ],
   "source": [
    "from sklearn.tree import DecisionTreeRegressor\n",
    "\n",
    "# Define model. Specify a number for random_state to ensure same results each run\n",
    "tree_model = DecisionTreeRegressor(random_state=1)\n",
    "\n",
    "# Fit model\n",
    "tree_model.fit(x, y)"
   ]
  },
  {
   "cell_type": "markdown",
   "id": "a614449b",
   "metadata": {
    "papermill": {
     "duration": 0.017696,
     "end_time": "2023-06-05T13:35:56.994807",
     "exception": false,
     "start_time": "2023-06-05T13:35:56.977111",
     "status": "completed"
    },
    "tags": []
   },
   "source": [
    "## Oil data"
   ]
  },
  {
   "cell_type": "code",
   "execution_count": 17,
   "id": "ede196a2",
   "metadata": {
    "execution": {
     "iopub.execute_input": "2023-06-05T13:35:57.031709Z",
     "iopub.status.busy": "2023-06-05T13:35:57.031403Z",
     "iopub.status.idle": "2023-06-05T13:35:57.056482Z",
     "shell.execute_reply": "2023-06-05T13:35:57.055573Z"
    },
    "papermill": {
     "duration": 0.045749,
     "end_time": "2023-06-05T13:35:57.058399",
     "exception": false,
     "start_time": "2023-06-05T13:35:57.012650",
     "status": "completed"
    },
    "tags": []
   },
   "outputs": [
    {
     "data": {
      "text/html": [
       "<div>\n",
       "<style scoped>\n",
       "    .dataframe tbody tr th:only-of-type {\n",
       "        vertical-align: middle;\n",
       "    }\n",
       "\n",
       "    .dataframe tbody tr th {\n",
       "        vertical-align: top;\n",
       "    }\n",
       "\n",
       "    .dataframe thead th {\n",
       "        text-align: right;\n",
       "    }\n",
       "</style>\n",
       "<table border=\"1\" class=\"dataframe\">\n",
       "  <thead>\n",
       "    <tr style=\"text-align: right;\">\n",
       "      <th></th>\n",
       "      <th>date</th>\n",
       "      <th>dcoilwtico</th>\n",
       "    </tr>\n",
       "  </thead>\n",
       "  <tbody>\n",
       "    <tr>\n",
       "      <th>0</th>\n",
       "      <td>2013-01-01</td>\n",
       "      <td>NaN</td>\n",
       "    </tr>\n",
       "    <tr>\n",
       "      <th>1</th>\n",
       "      <td>2013-01-02</td>\n",
       "      <td>93.14</td>\n",
       "    </tr>\n",
       "    <tr>\n",
       "      <th>2</th>\n",
       "      <td>2013-01-03</td>\n",
       "      <td>92.97</td>\n",
       "    </tr>\n",
       "    <tr>\n",
       "      <th>3</th>\n",
       "      <td>2013-01-04</td>\n",
       "      <td>93.12</td>\n",
       "    </tr>\n",
       "    <tr>\n",
       "      <th>4</th>\n",
       "      <td>2013-01-07</td>\n",
       "      <td>93.20</td>\n",
       "    </tr>\n",
       "    <tr>\n",
       "      <th>...</th>\n",
       "      <td>...</td>\n",
       "      <td>...</td>\n",
       "    </tr>\n",
       "    <tr>\n",
       "      <th>1213</th>\n",
       "      <td>2017-08-25</td>\n",
       "      <td>47.65</td>\n",
       "    </tr>\n",
       "    <tr>\n",
       "      <th>1214</th>\n",
       "      <td>2017-08-28</td>\n",
       "      <td>46.40</td>\n",
       "    </tr>\n",
       "    <tr>\n",
       "      <th>1215</th>\n",
       "      <td>2017-08-29</td>\n",
       "      <td>46.46</td>\n",
       "    </tr>\n",
       "    <tr>\n",
       "      <th>1216</th>\n",
       "      <td>2017-08-30</td>\n",
       "      <td>45.96</td>\n",
       "    </tr>\n",
       "    <tr>\n",
       "      <th>1217</th>\n",
       "      <td>2017-08-31</td>\n",
       "      <td>47.26</td>\n",
       "    </tr>\n",
       "  </tbody>\n",
       "</table>\n",
       "<p>1218 rows × 2 columns</p>\n",
       "</div>"
      ],
      "text/plain": [
       "           date  dcoilwtico\n",
       "0    2013-01-01         NaN\n",
       "1    2013-01-02       93.14\n",
       "2    2013-01-03       92.97\n",
       "3    2013-01-04       93.12\n",
       "4    2013-01-07       93.20\n",
       "...         ...         ...\n",
       "1213 2017-08-25       47.65\n",
       "1214 2017-08-28       46.40\n",
       "1215 2017-08-29       46.46\n",
       "1216 2017-08-30       45.96\n",
       "1217 2017-08-31       47.26\n",
       "\n",
       "[1218 rows x 2 columns]"
      ]
     },
     "execution_count": 17,
     "metadata": {},
     "output_type": "execute_result"
    }
   ],
   "source": [
    "df_oil = pd.read_csv('/kaggle/input/store-sales-time-series-forecasting/oil.csv',\n",
    "    parse_dates=['date'])\n",
    "df_oil.head(len(df_oil))"
   ]
  },
  {
   "cell_type": "markdown",
   "id": "1cc043dc",
   "metadata": {
    "papermill": {
     "duration": 0.017829,
     "end_time": "2023-06-05T13:35:57.094373",
     "exception": false,
     "start_time": "2023-06-05T13:35:57.076544",
     "status": "completed"
    },
    "tags": []
   },
   "source": [
    "Weekends are missing, and data includes test-data dates, from 08-16 to 08-31 2017."
   ]
  },
  {
   "cell_type": "markdown",
   "id": "dff22022",
   "metadata": {
    "papermill": {
     "duration": 0.017803,
     "end_time": "2023-06-05T13:35:57.130130",
     "exception": false,
     "start_time": "2023-06-05T13:35:57.112327",
     "status": "completed"
    },
    "tags": []
   },
   "source": [
    "Add day-of-week column so that we can use it to add weekends. Add date_int column which will be used to merge this dataframe to the original one."
   ]
  },
  {
   "cell_type": "code",
   "execution_count": 18,
   "id": "1cf69d99",
   "metadata": {
    "execution": {
     "iopub.execute_input": "2023-06-05T13:35:57.168803Z",
     "iopub.status.busy": "2023-06-05T13:35:57.167201Z",
     "iopub.status.idle": "2023-06-05T13:35:57.186263Z",
     "shell.execute_reply": "2023-06-05T13:35:57.185332Z"
    },
    "papermill": {
     "duration": 0.040056,
     "end_time": "2023-06-05T13:35:57.188352",
     "exception": false,
     "start_time": "2023-06-05T13:35:57.148296",
     "status": "completed"
    },
    "tags": []
   },
   "outputs": [
    {
     "data": {
      "text/html": [
       "<div>\n",
       "<style scoped>\n",
       "    .dataframe tbody tr th:only-of-type {\n",
       "        vertical-align: middle;\n",
       "    }\n",
       "\n",
       "    .dataframe tbody tr th {\n",
       "        vertical-align: top;\n",
       "    }\n",
       "\n",
       "    .dataframe thead th {\n",
       "        text-align: right;\n",
       "    }\n",
       "</style>\n",
       "<table border=\"1\" class=\"dataframe\">\n",
       "  <thead>\n",
       "    <tr style=\"text-align: right;\">\n",
       "      <th></th>\n",
       "      <th>date</th>\n",
       "      <th>dcoilwtico</th>\n",
       "      <th>date_int</th>\n",
       "      <th>day_of_week</th>\n",
       "    </tr>\n",
       "  </thead>\n",
       "  <tbody>\n",
       "    <tr>\n",
       "      <th>0</th>\n",
       "      <td>2013-01-01</td>\n",
       "      <td>NaN</td>\n",
       "      <td>1356998400</td>\n",
       "      <td>1</td>\n",
       "    </tr>\n",
       "    <tr>\n",
       "      <th>1</th>\n",
       "      <td>2013-01-02</td>\n",
       "      <td>93.14</td>\n",
       "      <td>1357084800</td>\n",
       "      <td>2</td>\n",
       "    </tr>\n",
       "    <tr>\n",
       "      <th>2</th>\n",
       "      <td>2013-01-03</td>\n",
       "      <td>92.97</td>\n",
       "      <td>1357171200</td>\n",
       "      <td>3</td>\n",
       "    </tr>\n",
       "    <tr>\n",
       "      <th>3</th>\n",
       "      <td>2013-01-04</td>\n",
       "      <td>93.12</td>\n",
       "      <td>1357257600</td>\n",
       "      <td>4</td>\n",
       "    </tr>\n",
       "    <tr>\n",
       "      <th>4</th>\n",
       "      <td>2013-01-07</td>\n",
       "      <td>93.20</td>\n",
       "      <td>1357516800</td>\n",
       "      <td>0</td>\n",
       "    </tr>\n",
       "    <tr>\n",
       "      <th>...</th>\n",
       "      <td>...</td>\n",
       "      <td>...</td>\n",
       "      <td>...</td>\n",
       "      <td>...</td>\n",
       "    </tr>\n",
       "    <tr>\n",
       "      <th>1213</th>\n",
       "      <td>2017-08-25</td>\n",
       "      <td>47.65</td>\n",
       "      <td>1503619200</td>\n",
       "      <td>4</td>\n",
       "    </tr>\n",
       "    <tr>\n",
       "      <th>1214</th>\n",
       "      <td>2017-08-28</td>\n",
       "      <td>46.40</td>\n",
       "      <td>1503878400</td>\n",
       "      <td>0</td>\n",
       "    </tr>\n",
       "    <tr>\n",
       "      <th>1215</th>\n",
       "      <td>2017-08-29</td>\n",
       "      <td>46.46</td>\n",
       "      <td>1503964800</td>\n",
       "      <td>1</td>\n",
       "    </tr>\n",
       "    <tr>\n",
       "      <th>1216</th>\n",
       "      <td>2017-08-30</td>\n",
       "      <td>45.96</td>\n",
       "      <td>1504051200</td>\n",
       "      <td>2</td>\n",
       "    </tr>\n",
       "    <tr>\n",
       "      <th>1217</th>\n",
       "      <td>2017-08-31</td>\n",
       "      <td>47.26</td>\n",
       "      <td>1504137600</td>\n",
       "      <td>3</td>\n",
       "    </tr>\n",
       "  </tbody>\n",
       "</table>\n",
       "<p>1218 rows × 4 columns</p>\n",
       "</div>"
      ],
      "text/plain": [
       "           date  dcoilwtico    date_int  day_of_week\n",
       "0    2013-01-01         NaN  1356998400            1\n",
       "1    2013-01-02       93.14  1357084800            2\n",
       "2    2013-01-03       92.97  1357171200            3\n",
       "3    2013-01-04       93.12  1357257600            4\n",
       "4    2013-01-07       93.20  1357516800            0\n",
       "...         ...         ...         ...          ...\n",
       "1213 2017-08-25       47.65  1503619200            4\n",
       "1214 2017-08-28       46.40  1503878400            0\n",
       "1215 2017-08-29       46.46  1503964800            1\n",
       "1216 2017-08-30       45.96  1504051200            2\n",
       "1217 2017-08-31       47.26  1504137600            3\n",
       "\n",
       "[1218 rows x 4 columns]"
      ]
     },
     "execution_count": 18,
     "metadata": {},
     "output_type": "execute_result"
    }
   ],
   "source": [
    "df_oil['date_int'] = df_oil['date'].map(lambda a : int(round(a.timestamp())) )\n",
    "df_oil['day_of_week']=df_oil['date'].dt.weekday\n",
    "df_oil.head(len(df_oil))"
   ]
  },
  {
   "cell_type": "markdown",
   "id": "4e1ebbca",
   "metadata": {
    "papermill": {
     "duration": 0.018357,
     "end_time": "2023-06-05T13:35:57.225070",
     "exception": false,
     "start_time": "2023-06-05T13:35:57.206713",
     "status": "completed"
    },
    "tags": []
   },
   "source": [
    "Add weekends, by adding a row after every Friday (day_of_week = 4) and before every Monday (day_of_week = 0).\n",
    "To fill in the 'date' we simply write 'Saturday' and 'Sunday', since we will not use this column to train the forest anyway.\n",
    "As for oil prices, the on of Sat is the same as Friday, the one of Sun is the same as Monday. The average may be a better option (I just didn't manage for now..)"
   ]
  },
  {
   "cell_type": "code",
   "execution_count": 19,
   "id": "616b1f53",
   "metadata": {
    "execution": {
     "iopub.execute_input": "2023-06-05T13:35:57.263364Z",
     "iopub.status.busy": "2023-06-05T13:35:57.262625Z",
     "iopub.status.idle": "2023-06-05T13:35:57.276896Z",
     "shell.execute_reply": "2023-06-05T13:35:57.276094Z"
    },
    "papermill": {
     "duration": 0.035233,
     "end_time": "2023-06-05T13:35:57.278848",
     "exception": false,
     "start_time": "2023-06-05T13:35:57.243615",
     "status": "completed"
    },
    "tags": []
   },
   "outputs": [],
   "source": [
    "df_oil_Saturday = (pd.concat([df_oil[df_oil.day_of_week==4].assign(date='Saturday', day_of_week = 5, date_int = (df_oil[df_oil.day_of_week==4].date_int+86400)), df_oil])\n",
    "                   .sort_index().reset_index(drop=True))\n",
    "df_oil_weekend = (pd.concat([df_oil_Saturday, df_oil_Saturday[df_oil_Saturday.day_of_week==0].assign(date='Sunday', day_of_week = 6, date_int = (df_oil_Saturday[df_oil_Saturday.day_of_week==0].date_int-86400))])\n",
    "                   .sort_index().reset_index(drop=True))\n",
    "#The above is switching Fridays and Saturdays from the 2nd weekend onwards (WTF??), so let's order by date_int as a suboptimal solution:\n",
    "df_oil_weekend = df_oil_weekend.sort_values('date_int').reset_index(drop=True)"
   ]
  },
  {
   "cell_type": "code",
   "execution_count": 20,
   "id": "a36185d3",
   "metadata": {
    "execution": {
     "iopub.execute_input": "2023-06-05T13:35:57.316892Z",
     "iopub.status.busy": "2023-06-05T13:35:57.316160Z",
     "iopub.status.idle": "2023-06-05T13:35:57.328310Z",
     "shell.execute_reply": "2023-06-05T13:35:57.327404Z"
    },
    "papermill": {
     "duration": 0.033112,
     "end_time": "2023-06-05T13:35:57.330224",
     "exception": false,
     "start_time": "2023-06-05T13:35:57.297112",
     "status": "completed"
    },
    "tags": []
   },
   "outputs": [
    {
     "data": {
      "text/html": [
       "<div>\n",
       "<style scoped>\n",
       "    .dataframe tbody tr th:only-of-type {\n",
       "        vertical-align: middle;\n",
       "    }\n",
       "\n",
       "    .dataframe tbody tr th {\n",
       "        vertical-align: top;\n",
       "    }\n",
       "\n",
       "    .dataframe thead th {\n",
       "        text-align: right;\n",
       "    }\n",
       "</style>\n",
       "<table border=\"1\" class=\"dataframe\">\n",
       "  <thead>\n",
       "    <tr style=\"text-align: right;\">\n",
       "      <th></th>\n",
       "      <th>date</th>\n",
       "      <th>dcoilwtico</th>\n",
       "      <th>date_int</th>\n",
       "      <th>day_of_week</th>\n",
       "    </tr>\n",
       "  </thead>\n",
       "  <tbody>\n",
       "    <tr>\n",
       "      <th>0</th>\n",
       "      <td>2013-01-01 00:00:00</td>\n",
       "      <td>NaN</td>\n",
       "      <td>1356998400</td>\n",
       "      <td>1</td>\n",
       "    </tr>\n",
       "    <tr>\n",
       "      <th>1</th>\n",
       "      <td>2013-01-02 00:00:00</td>\n",
       "      <td>93.14</td>\n",
       "      <td>1357084800</td>\n",
       "      <td>2</td>\n",
       "    </tr>\n",
       "    <tr>\n",
       "      <th>2</th>\n",
       "      <td>2013-01-03 00:00:00</td>\n",
       "      <td>92.97</td>\n",
       "      <td>1357171200</td>\n",
       "      <td>3</td>\n",
       "    </tr>\n",
       "    <tr>\n",
       "      <th>3</th>\n",
       "      <td>2013-01-04 00:00:00</td>\n",
       "      <td>93.12</td>\n",
       "      <td>1357257600</td>\n",
       "      <td>4</td>\n",
       "    </tr>\n",
       "    <tr>\n",
       "      <th>4</th>\n",
       "      <td>Saturday</td>\n",
       "      <td>93.12</td>\n",
       "      <td>1357344000</td>\n",
       "      <td>5</td>\n",
       "    </tr>\n",
       "    <tr>\n",
       "      <th>5</th>\n",
       "      <td>Sunday</td>\n",
       "      <td>93.20</td>\n",
       "      <td>1357430400</td>\n",
       "      <td>6</td>\n",
       "    </tr>\n",
       "    <tr>\n",
       "      <th>6</th>\n",
       "      <td>2013-01-07 00:00:00</td>\n",
       "      <td>93.20</td>\n",
       "      <td>1357516800</td>\n",
       "      <td>0</td>\n",
       "    </tr>\n",
       "    <tr>\n",
       "      <th>7</th>\n",
       "      <td>2013-01-08 00:00:00</td>\n",
       "      <td>93.21</td>\n",
       "      <td>1357603200</td>\n",
       "      <td>1</td>\n",
       "    </tr>\n",
       "    <tr>\n",
       "      <th>8</th>\n",
       "      <td>2013-01-09 00:00:00</td>\n",
       "      <td>93.08</td>\n",
       "      <td>1357689600</td>\n",
       "      <td>2</td>\n",
       "    </tr>\n",
       "    <tr>\n",
       "      <th>9</th>\n",
       "      <td>2013-01-10 00:00:00</td>\n",
       "      <td>93.81</td>\n",
       "      <td>1357776000</td>\n",
       "      <td>3</td>\n",
       "    </tr>\n",
       "    <tr>\n",
       "      <th>10</th>\n",
       "      <td>2013-01-11 00:00:00</td>\n",
       "      <td>93.60</td>\n",
       "      <td>1357862400</td>\n",
       "      <td>4</td>\n",
       "    </tr>\n",
       "    <tr>\n",
       "      <th>11</th>\n",
       "      <td>Saturday</td>\n",
       "      <td>93.60</td>\n",
       "      <td>1357948800</td>\n",
       "      <td>5</td>\n",
       "    </tr>\n",
       "    <tr>\n",
       "      <th>12</th>\n",
       "      <td>Sunday</td>\n",
       "      <td>94.27</td>\n",
       "      <td>1358035200</td>\n",
       "      <td>6</td>\n",
       "    </tr>\n",
       "    <tr>\n",
       "      <th>13</th>\n",
       "      <td>2013-01-14 00:00:00</td>\n",
       "      <td>94.27</td>\n",
       "      <td>1358121600</td>\n",
       "      <td>0</td>\n",
       "    </tr>\n",
       "    <tr>\n",
       "      <th>14</th>\n",
       "      <td>2013-01-15 00:00:00</td>\n",
       "      <td>93.26</td>\n",
       "      <td>1358208000</td>\n",
       "      <td>1</td>\n",
       "    </tr>\n",
       "    <tr>\n",
       "      <th>15</th>\n",
       "      <td>2013-01-16 00:00:00</td>\n",
       "      <td>94.28</td>\n",
       "      <td>1358294400</td>\n",
       "      <td>2</td>\n",
       "    </tr>\n",
       "    <tr>\n",
       "      <th>16</th>\n",
       "      <td>2013-01-17 00:00:00</td>\n",
       "      <td>95.49</td>\n",
       "      <td>1358380800</td>\n",
       "      <td>3</td>\n",
       "    </tr>\n",
       "    <tr>\n",
       "      <th>17</th>\n",
       "      <td>2013-01-18 00:00:00</td>\n",
       "      <td>95.61</td>\n",
       "      <td>1358467200</td>\n",
       "      <td>4</td>\n",
       "    </tr>\n",
       "    <tr>\n",
       "      <th>18</th>\n",
       "      <td>Saturday</td>\n",
       "      <td>95.61</td>\n",
       "      <td>1358553600</td>\n",
       "      <td>5</td>\n",
       "    </tr>\n",
       "    <tr>\n",
       "      <th>19</th>\n",
       "      <td>Sunday</td>\n",
       "      <td>NaN</td>\n",
       "      <td>1358640000</td>\n",
       "      <td>6</td>\n",
       "    </tr>\n",
       "  </tbody>\n",
       "</table>\n",
       "</div>"
      ],
      "text/plain": [
       "                   date  dcoilwtico    date_int  day_of_week\n",
       "0   2013-01-01 00:00:00         NaN  1356998400            1\n",
       "1   2013-01-02 00:00:00       93.14  1357084800            2\n",
       "2   2013-01-03 00:00:00       92.97  1357171200            3\n",
       "3   2013-01-04 00:00:00       93.12  1357257600            4\n",
       "4              Saturday       93.12  1357344000            5\n",
       "5                Sunday       93.20  1357430400            6\n",
       "6   2013-01-07 00:00:00       93.20  1357516800            0\n",
       "7   2013-01-08 00:00:00       93.21  1357603200            1\n",
       "8   2013-01-09 00:00:00       93.08  1357689600            2\n",
       "9   2013-01-10 00:00:00       93.81  1357776000            3\n",
       "10  2013-01-11 00:00:00       93.60  1357862400            4\n",
       "11             Saturday       93.60  1357948800            5\n",
       "12               Sunday       94.27  1358035200            6\n",
       "13  2013-01-14 00:00:00       94.27  1358121600            0\n",
       "14  2013-01-15 00:00:00       93.26  1358208000            1\n",
       "15  2013-01-16 00:00:00       94.28  1358294400            2\n",
       "16  2013-01-17 00:00:00       95.49  1358380800            3\n",
       "17  2013-01-18 00:00:00       95.61  1358467200            4\n",
       "18             Saturday       95.61  1358553600            5\n",
       "19               Sunday         NaN  1358640000            6"
      ]
     },
     "execution_count": 20,
     "metadata": {},
     "output_type": "execute_result"
    }
   ],
   "source": [
    "df_oil_weekend.head(20)"
   ]
  },
  {
   "cell_type": "markdown",
   "id": "ca99f2d2",
   "metadata": {
    "papermill": {
     "duration": 0.018351,
     "end_time": "2023-06-05T13:35:57.367335",
     "exception": false,
     "start_time": "2023-06-05T13:35:57.348984",
     "status": "completed"
    },
    "tags": []
   },
   "source": [
    "## Merge oil feature to rest"
   ]
  },
  {
   "cell_type": "code",
   "execution_count": 21,
   "id": "be095b08",
   "metadata": {
    "execution": {
     "iopub.execute_input": "2023-06-05T13:35:57.406159Z",
     "iopub.status.busy": "2023-06-05T13:35:57.405387Z",
     "iopub.status.idle": "2023-06-05T13:35:57.410982Z",
     "shell.execute_reply": "2023-06-05T13:35:57.410015Z"
    },
    "papermill": {
     "duration": 0.027213,
     "end_time": "2023-06-05T13:35:57.413172",
     "exception": false,
     "start_time": "2023-06-05T13:35:57.385959",
     "status": "completed"
    },
    "tags": []
   },
   "outputs": [
    {
     "name": "stdout",
     "output_type": "stream",
     "text": [
      "Index(['date', 'dcoilwtico', 'date_int', 'day_of_week'], dtype='object')\n",
      "Index(['date', 'store_nbr', 'family', 'sales', 'onpromotion', 'date_int',\n",
      "       'family_number'],\n",
      "      dtype='object')\n"
     ]
    }
   ],
   "source": [
    "print(df_oil_weekend.columns)\n",
    "print(df2.columns)"
   ]
  },
  {
   "cell_type": "code",
   "execution_count": 22,
   "id": "5a5b7f39",
   "metadata": {
    "execution": {
     "iopub.execute_input": "2023-06-05T13:35:57.452100Z",
     "iopub.status.busy": "2023-06-05T13:35:57.451356Z",
     "iopub.status.idle": "2023-06-05T13:35:57.894541Z",
     "shell.execute_reply": "2023-06-05T13:35:57.893652Z"
    },
    "papermill": {
     "duration": 0.464839,
     "end_time": "2023-06-05T13:35:57.896705",
     "exception": false,
     "start_time": "2023-06-05T13:35:57.431866",
     "status": "completed"
    },
    "tags": []
   },
   "outputs": [
    {
     "data": {
      "text/html": [
       "<div>\n",
       "<style scoped>\n",
       "    .dataframe tbody tr th:only-of-type {\n",
       "        vertical-align: middle;\n",
       "    }\n",
       "\n",
       "    .dataframe tbody tr th {\n",
       "        vertical-align: top;\n",
       "    }\n",
       "\n",
       "    .dataframe thead th {\n",
       "        text-align: right;\n",
       "    }\n",
       "</style>\n",
       "<table border=\"1\" class=\"dataframe\">\n",
       "  <thead>\n",
       "    <tr style=\"text-align: right;\">\n",
       "      <th></th>\n",
       "      <th>date</th>\n",
       "      <th>date_int</th>\n",
       "      <th>store_nbr</th>\n",
       "      <th>family_number</th>\n",
       "      <th>sales</th>\n",
       "      <th>onpromotion</th>\n",
       "      <th>dcoilwtico</th>\n",
       "      <th>day_of_week</th>\n",
       "    </tr>\n",
       "  </thead>\n",
       "  <tbody>\n",
       "    <tr>\n",
       "      <th>0</th>\n",
       "      <td>2013-01-01</td>\n",
       "      <td>1356998400</td>\n",
       "      <td>1</td>\n",
       "      <td>0</td>\n",
       "      <td>0.000</td>\n",
       "      <td>0</td>\n",
       "      <td>NaN</td>\n",
       "      <td>1</td>\n",
       "    </tr>\n",
       "    <tr>\n",
       "      <th>1</th>\n",
       "      <td>2013-01-01</td>\n",
       "      <td>1356998400</td>\n",
       "      <td>1</td>\n",
       "      <td>1</td>\n",
       "      <td>0.000</td>\n",
       "      <td>0</td>\n",
       "      <td>NaN</td>\n",
       "      <td>1</td>\n",
       "    </tr>\n",
       "    <tr>\n",
       "      <th>2</th>\n",
       "      <td>2013-01-01</td>\n",
       "      <td>1356998400</td>\n",
       "      <td>1</td>\n",
       "      <td>2</td>\n",
       "      <td>0.000</td>\n",
       "      <td>0</td>\n",
       "      <td>NaN</td>\n",
       "      <td>1</td>\n",
       "    </tr>\n",
       "    <tr>\n",
       "      <th>3</th>\n",
       "      <td>2013-01-01</td>\n",
       "      <td>1356998400</td>\n",
       "      <td>1</td>\n",
       "      <td>3</td>\n",
       "      <td>0.000</td>\n",
       "      <td>0</td>\n",
       "      <td>NaN</td>\n",
       "      <td>1</td>\n",
       "    </tr>\n",
       "    <tr>\n",
       "      <th>4</th>\n",
       "      <td>2013-01-01</td>\n",
       "      <td>1356998400</td>\n",
       "      <td>1</td>\n",
       "      <td>4</td>\n",
       "      <td>0.000</td>\n",
       "      <td>0</td>\n",
       "      <td>NaN</td>\n",
       "      <td>1</td>\n",
       "    </tr>\n",
       "    <tr>\n",
       "      <th>...</th>\n",
       "      <td>...</td>\n",
       "      <td>...</td>\n",
       "      <td>...</td>\n",
       "      <td>...</td>\n",
       "      <td>...</td>\n",
       "      <td>...</td>\n",
       "      <td>...</td>\n",
       "      <td>...</td>\n",
       "    </tr>\n",
       "    <tr>\n",
       "      <th>3000883</th>\n",
       "      <td>2017-08-15</td>\n",
       "      <td>1502755200</td>\n",
       "      <td>9</td>\n",
       "      <td>28</td>\n",
       "      <td>438.133</td>\n",
       "      <td>0</td>\n",
       "      <td>47.57</td>\n",
       "      <td>1</td>\n",
       "    </tr>\n",
       "    <tr>\n",
       "      <th>3000884</th>\n",
       "      <td>2017-08-15</td>\n",
       "      <td>1502755200</td>\n",
       "      <td>9</td>\n",
       "      <td>29</td>\n",
       "      <td>154.553</td>\n",
       "      <td>1</td>\n",
       "      <td>47.57</td>\n",
       "      <td>1</td>\n",
       "    </tr>\n",
       "    <tr>\n",
       "      <th>3000885</th>\n",
       "      <td>2017-08-15</td>\n",
       "      <td>1502755200</td>\n",
       "      <td>9</td>\n",
       "      <td>30</td>\n",
       "      <td>2419.729</td>\n",
       "      <td>148</td>\n",
       "      <td>47.57</td>\n",
       "      <td>1</td>\n",
       "    </tr>\n",
       "    <tr>\n",
       "      <th>3000886</th>\n",
       "      <td>2017-08-15</td>\n",
       "      <td>1502755200</td>\n",
       "      <td>9</td>\n",
       "      <td>31</td>\n",
       "      <td>121.000</td>\n",
       "      <td>8</td>\n",
       "      <td>47.57</td>\n",
       "      <td>1</td>\n",
       "    </tr>\n",
       "    <tr>\n",
       "      <th>3000887</th>\n",
       "      <td>2017-08-15</td>\n",
       "      <td>1502755200</td>\n",
       "      <td>9</td>\n",
       "      <td>32</td>\n",
       "      <td>16.000</td>\n",
       "      <td>0</td>\n",
       "      <td>47.57</td>\n",
       "      <td>1</td>\n",
       "    </tr>\n",
       "  </tbody>\n",
       "</table>\n",
       "<p>3000888 rows × 8 columns</p>\n",
       "</div>"
      ],
      "text/plain": [
       "              date    date_int  store_nbr  family_number     sales  \\\n",
       "0       2013-01-01  1356998400          1              0     0.000   \n",
       "1       2013-01-01  1356998400          1              1     0.000   \n",
       "2       2013-01-01  1356998400          1              2     0.000   \n",
       "3       2013-01-01  1356998400          1              3     0.000   \n",
       "4       2013-01-01  1356998400          1              4     0.000   \n",
       "...            ...         ...        ...            ...       ...   \n",
       "3000883 2017-08-15  1502755200          9             28   438.133   \n",
       "3000884 2017-08-15  1502755200          9             29   154.553   \n",
       "3000885 2017-08-15  1502755200          9             30  2419.729   \n",
       "3000886 2017-08-15  1502755200          9             31   121.000   \n",
       "3000887 2017-08-15  1502755200          9             32    16.000   \n",
       "\n",
       "         onpromotion  dcoilwtico  day_of_week  \n",
       "0                  0         NaN            1  \n",
       "1                  0         NaN            1  \n",
       "2                  0         NaN            1  \n",
       "3                  0         NaN            1  \n",
       "4                  0         NaN            1  \n",
       "...              ...         ...          ...  \n",
       "3000883            0       47.57            1  \n",
       "3000884            1       47.57            1  \n",
       "3000885          148       47.57            1  \n",
       "3000886            8       47.57            1  \n",
       "3000887            0       47.57            1  \n",
       "\n",
       "[3000888 rows x 8 columns]"
      ]
     },
     "execution_count": 22,
     "metadata": {},
     "output_type": "execute_result"
    }
   ],
   "source": [
    "df_merged = pd.merge(df2[['date', 'date_int', 'store_nbr', 'family_number', 'sales', 'onpromotion']]\n",
    "                     , df_oil_weekend[['dcoilwtico', 'day_of_week', 'date_int']], on=\"date_int\", how=\"left\")\n",
    "df_merged.head(len(df_merged))"
   ]
  },
  {
   "cell_type": "markdown",
   "id": "adbbf15a",
   "metadata": {
    "papermill": {
     "duration": 0.018973,
     "end_time": "2023-06-05T13:35:57.935187",
     "exception": false,
     "start_time": "2023-06-05T13:35:57.916214",
     "status": "completed"
    },
    "tags": []
   },
   "source": [
    "The above produces dataframe already up to 2017-08-15, so we don't need to crop out test data that originally sits in the oil dataframe. Also Christmas days are not there:"
   ]
  },
  {
   "cell_type": "code",
   "execution_count": 23,
   "id": "8b7151e9",
   "metadata": {
    "execution": {
     "iopub.execute_input": "2023-06-05T13:35:57.974980Z",
     "iopub.status.busy": "2023-06-05T13:35:57.974133Z",
     "iopub.status.idle": "2023-06-05T13:36:42.778389Z",
     "shell.execute_reply": "2023-06-05T13:36:42.777430Z"
    },
    "papermill": {
     "duration": 44.843021,
     "end_time": "2023-06-05T13:36:42.797220",
     "exception": false,
     "start_time": "2023-06-05T13:35:57.954199",
     "status": "completed"
    },
    "tags": []
   },
   "outputs": [
    {
     "name": "stdout",
     "output_type": "stream",
     "text": [
      "True False\n"
     ]
    }
   ],
   "source": [
    "print(pd.Timestamp('2013-12-24 00:00:00') in df_merged.values,\n",
    "pd.Timestamp('2013-12-25 00:00:00') in df_merged.values)"
   ]
  },
  {
   "cell_type": "markdown",
   "id": "fbb30892",
   "metadata": {
    "papermill": {
     "duration": 0.018903,
     "end_time": "2023-06-05T13:36:42.835384",
     "exception": false,
     "start_time": "2023-06-05T13:36:42.816481",
     "status": "completed"
    },
    "tags": []
   },
   "source": [
    "Drop all rows with NaN values from dataframe."
   ]
  },
  {
   "cell_type": "code",
   "execution_count": 24,
   "id": "505d93c4",
   "metadata": {
    "execution": {
     "iopub.execute_input": "2023-06-05T13:36:42.875046Z",
     "iopub.status.busy": "2023-06-05T13:36:42.874732Z",
     "iopub.status.idle": "2023-06-05T13:36:43.087758Z",
     "shell.execute_reply": "2023-06-05T13:36:43.086809Z"
    },
    "papermill": {
     "duration": 0.235613,
     "end_time": "2023-06-05T13:36:43.090180",
     "exception": false,
     "start_time": "2023-06-05T13:36:42.854567",
     "status": "completed"
    },
    "tags": []
   },
   "outputs": [],
   "source": [
    "df3=df_merged.dropna(subset=['date_int', 'store_nbr', 'family_number', 'sales',\n",
    "       'onpromotion', 'dcoilwtico', 'day_of_week']).reset_index(drop=True)"
   ]
  },
  {
   "cell_type": "code",
   "execution_count": 25,
   "id": "1fa3f371",
   "metadata": {
    "execution": {
     "iopub.execute_input": "2023-06-05T13:36:43.130329Z",
     "iopub.status.busy": "2023-06-05T13:36:43.130033Z",
     "iopub.status.idle": "2023-06-05T13:36:43.147130Z",
     "shell.execute_reply": "2023-06-05T13:36:43.146062Z"
    },
    "papermill": {
     "duration": 0.039476,
     "end_time": "2023-06-05T13:36:43.149398",
     "exception": false,
     "start_time": "2023-06-05T13:36:43.109922",
     "status": "completed"
    },
    "tags": []
   },
   "outputs": [
    {
     "data": {
      "text/html": [
       "<div>\n",
       "<style scoped>\n",
       "    .dataframe tbody tr th:only-of-type {\n",
       "        vertical-align: middle;\n",
       "    }\n",
       "\n",
       "    .dataframe tbody tr th {\n",
       "        vertical-align: top;\n",
       "    }\n",
       "\n",
       "    .dataframe thead th {\n",
       "        text-align: right;\n",
       "    }\n",
       "</style>\n",
       "<table border=\"1\" class=\"dataframe\">\n",
       "  <thead>\n",
       "    <tr style=\"text-align: right;\">\n",
       "      <th></th>\n",
       "      <th>date</th>\n",
       "      <th>date_int</th>\n",
       "      <th>store_nbr</th>\n",
       "      <th>family_number</th>\n",
       "      <th>sales</th>\n",
       "      <th>onpromotion</th>\n",
       "      <th>dcoilwtico</th>\n",
       "      <th>day_of_week</th>\n",
       "    </tr>\n",
       "  </thead>\n",
       "  <tbody>\n",
       "    <tr>\n",
       "      <th>0</th>\n",
       "      <td>2013-01-02</td>\n",
       "      <td>1357084800</td>\n",
       "      <td>1</td>\n",
       "      <td>0</td>\n",
       "      <td>2.000</td>\n",
       "      <td>0</td>\n",
       "      <td>93.14</td>\n",
       "      <td>2</td>\n",
       "    </tr>\n",
       "    <tr>\n",
       "      <th>1</th>\n",
       "      <td>2013-01-02</td>\n",
       "      <td>1357084800</td>\n",
       "      <td>1</td>\n",
       "      <td>1</td>\n",
       "      <td>0.000</td>\n",
       "      <td>0</td>\n",
       "      <td>93.14</td>\n",
       "      <td>2</td>\n",
       "    </tr>\n",
       "    <tr>\n",
       "      <th>2</th>\n",
       "      <td>2013-01-02</td>\n",
       "      <td>1357084800</td>\n",
       "      <td>1</td>\n",
       "      <td>2</td>\n",
       "      <td>2.000</td>\n",
       "      <td>0</td>\n",
       "      <td>93.14</td>\n",
       "      <td>2</td>\n",
       "    </tr>\n",
       "    <tr>\n",
       "      <th>3</th>\n",
       "      <td>2013-01-02</td>\n",
       "      <td>1357084800</td>\n",
       "      <td>1</td>\n",
       "      <td>3</td>\n",
       "      <td>1091.000</td>\n",
       "      <td>0</td>\n",
       "      <td>93.14</td>\n",
       "      <td>2</td>\n",
       "    </tr>\n",
       "    <tr>\n",
       "      <th>4</th>\n",
       "      <td>2013-01-02</td>\n",
       "      <td>1357084800</td>\n",
       "      <td>1</td>\n",
       "      <td>4</td>\n",
       "      <td>0.000</td>\n",
       "      <td>0</td>\n",
       "      <td>93.14</td>\n",
       "      <td>2</td>\n",
       "    </tr>\n",
       "    <tr>\n",
       "      <th>...</th>\n",
       "      <td>...</td>\n",
       "      <td>...</td>\n",
       "      <td>...</td>\n",
       "      <td>...</td>\n",
       "      <td>...</td>\n",
       "      <td>...</td>\n",
       "      <td>...</td>\n",
       "      <td>...</td>\n",
       "    </tr>\n",
       "    <tr>\n",
       "      <th>2874361</th>\n",
       "      <td>2017-08-15</td>\n",
       "      <td>1502755200</td>\n",
       "      <td>9</td>\n",
       "      <td>28</td>\n",
       "      <td>438.133</td>\n",
       "      <td>0</td>\n",
       "      <td>47.57</td>\n",
       "      <td>1</td>\n",
       "    </tr>\n",
       "    <tr>\n",
       "      <th>2874362</th>\n",
       "      <td>2017-08-15</td>\n",
       "      <td>1502755200</td>\n",
       "      <td>9</td>\n",
       "      <td>29</td>\n",
       "      <td>154.553</td>\n",
       "      <td>1</td>\n",
       "      <td>47.57</td>\n",
       "      <td>1</td>\n",
       "    </tr>\n",
       "    <tr>\n",
       "      <th>2874363</th>\n",
       "      <td>2017-08-15</td>\n",
       "      <td>1502755200</td>\n",
       "      <td>9</td>\n",
       "      <td>30</td>\n",
       "      <td>2419.729</td>\n",
       "      <td>148</td>\n",
       "      <td>47.57</td>\n",
       "      <td>1</td>\n",
       "    </tr>\n",
       "    <tr>\n",
       "      <th>2874364</th>\n",
       "      <td>2017-08-15</td>\n",
       "      <td>1502755200</td>\n",
       "      <td>9</td>\n",
       "      <td>31</td>\n",
       "      <td>121.000</td>\n",
       "      <td>8</td>\n",
       "      <td>47.57</td>\n",
       "      <td>1</td>\n",
       "    </tr>\n",
       "    <tr>\n",
       "      <th>2874365</th>\n",
       "      <td>2017-08-15</td>\n",
       "      <td>1502755200</td>\n",
       "      <td>9</td>\n",
       "      <td>32</td>\n",
       "      <td>16.000</td>\n",
       "      <td>0</td>\n",
       "      <td>47.57</td>\n",
       "      <td>1</td>\n",
       "    </tr>\n",
       "  </tbody>\n",
       "</table>\n",
       "<p>2874366 rows × 8 columns</p>\n",
       "</div>"
      ],
      "text/plain": [
       "              date    date_int  store_nbr  family_number     sales  \\\n",
       "0       2013-01-02  1357084800          1              0     2.000   \n",
       "1       2013-01-02  1357084800          1              1     0.000   \n",
       "2       2013-01-02  1357084800          1              2     2.000   \n",
       "3       2013-01-02  1357084800          1              3  1091.000   \n",
       "4       2013-01-02  1357084800          1              4     0.000   \n",
       "...            ...         ...        ...            ...       ...   \n",
       "2874361 2017-08-15  1502755200          9             28   438.133   \n",
       "2874362 2017-08-15  1502755200          9             29   154.553   \n",
       "2874363 2017-08-15  1502755200          9             30  2419.729   \n",
       "2874364 2017-08-15  1502755200          9             31   121.000   \n",
       "2874365 2017-08-15  1502755200          9             32    16.000   \n",
       "\n",
       "         onpromotion  dcoilwtico  day_of_week  \n",
       "0                  0       93.14            2  \n",
       "1                  0       93.14            2  \n",
       "2                  0       93.14            2  \n",
       "3                  0       93.14            2  \n",
       "4                  0       93.14            2  \n",
       "...              ...         ...          ...  \n",
       "2874361            0       47.57            1  \n",
       "2874362            1       47.57            1  \n",
       "2874363          148       47.57            1  \n",
       "2874364            8       47.57            1  \n",
       "2874365            0       47.57            1  \n",
       "\n",
       "[2874366 rows x 8 columns]"
      ]
     },
     "execution_count": 25,
     "metadata": {},
     "output_type": "execute_result"
    }
   ],
   "source": [
    "df3.head(len(df3))"
   ]
  },
  {
   "cell_type": "markdown",
   "id": "89f81e6d",
   "metadata": {
    "papermill": {
     "duration": 0.019047,
     "end_time": "2023-06-05T13:36:43.188293",
     "exception": false,
     "start_time": "2023-06-05T13:36:43.169246",
     "status": "completed"
    },
    "tags": []
   },
   "source": [
    "## Train forest with oil data"
   ]
  },
  {
   "cell_type": "code",
   "execution_count": 26,
   "id": "d4c1ed34",
   "metadata": {
    "execution": {
     "iopub.execute_input": "2023-06-05T13:36:43.228515Z",
     "iopub.status.busy": "2023-06-05T13:36:43.227674Z",
     "iopub.status.idle": "2023-06-05T13:36:43.232388Z",
     "shell.execute_reply": "2023-06-05T13:36:43.231594Z"
    },
    "papermill": {
     "duration": 0.026707,
     "end_time": "2023-06-05T13:36:43.234304",
     "exception": false,
     "start_time": "2023-06-05T13:36:43.207597",
     "status": "completed"
    },
    "tags": []
   },
   "outputs": [],
   "source": [
    "from sklearn.tree import DecisionTreeRegressor\n",
    "from sklearn.model_selection import train_test_split\n",
    "from sklearn.metrics import mean_absolute_error"
   ]
  },
  {
   "cell_type": "code",
   "execution_count": 27,
   "id": "b4ee778a",
   "metadata": {
    "execution": {
     "iopub.execute_input": "2023-06-05T13:36:43.274327Z",
     "iopub.status.busy": "2023-06-05T13:36:43.273608Z",
     "iopub.status.idle": "2023-06-05T13:36:43.279664Z",
     "shell.execute_reply": "2023-06-05T13:36:43.278779Z"
    },
    "papermill": {
     "duration": 0.028046,
     "end_time": "2023-06-05T13:36:43.281566",
     "exception": false,
     "start_time": "2023-06-05T13:36:43.253520",
     "status": "completed"
    },
    "tags": []
   },
   "outputs": [
    {
     "data": {
      "text/plain": [
       "Index(['date', 'date_int', 'store_nbr', 'family_number', 'sales',\n",
       "       'onpromotion', 'dcoilwtico', 'day_of_week'],\n",
       "      dtype='object')"
      ]
     },
     "execution_count": 27,
     "metadata": {},
     "output_type": "execute_result"
    }
   ],
   "source": [
    "df3.columns"
   ]
  },
  {
   "cell_type": "code",
   "execution_count": 28,
   "id": "34e7d30d",
   "metadata": {
    "execution": {
     "iopub.execute_input": "2023-06-05T13:36:43.321896Z",
     "iopub.status.busy": "2023-06-05T13:36:43.321190Z",
     "iopub.status.idle": "2023-06-05T13:36:43.367366Z",
     "shell.execute_reply": "2023-06-05T13:36:43.366391Z"
    },
    "papermill": {
     "duration": 0.068878,
     "end_time": "2023-06-05T13:36:43.369916",
     "exception": false,
     "start_time": "2023-06-05T13:36:43.301038",
     "status": "completed"
    },
    "tags": []
   },
   "outputs": [],
   "source": [
    "y = df3.sales\n",
    "features = ['date_int', 'store_nbr', 'family_number',\n",
    "       'onpromotion', 'dcoilwtico', 'day_of_week']\n",
    "x = df3[features]"
   ]
  },
  {
   "cell_type": "code",
   "execution_count": 29,
   "id": "b8de2091",
   "metadata": {
    "execution": {
     "iopub.execute_input": "2023-06-05T13:36:43.410777Z",
     "iopub.status.busy": "2023-06-05T13:36:43.410462Z",
     "iopub.status.idle": "2023-06-05T13:36:54.489260Z",
     "shell.execute_reply": "2023-06-05T13:36:54.488300Z"
    },
    "papermill": {
     "duration": 11.101635,
     "end_time": "2023-06-05T13:36:54.491645",
     "exception": false,
     "start_time": "2023-06-05T13:36:43.390010",
     "status": "completed"
    },
    "tags": []
   },
   "outputs": [],
   "source": [
    "train_x, val_x, train_y, val_y = train_test_split(x, y, random_state = 1)\n",
    "# Define model\n",
    "forest_oil_model = DecisionTreeRegressor()\n",
    "# Fit model\n",
    "forest_oil_model.fit(train_x, train_y)\n",
    "\n",
    "# get predicted prices on validation data\n",
    "val_predictions = forest_oil_model.predict(val_x)"
   ]
  },
  {
   "cell_type": "markdown",
   "id": "3fbddb3f",
   "metadata": {
    "papermill": {
     "duration": 0.019508,
     "end_time": "2023-06-05T13:36:54.531328",
     "exception": false,
     "start_time": "2023-06-05T13:36:54.511820",
     "status": "completed"
    },
    "tags": []
   },
   "source": [
    "Calculate Mean Absolute Error, which is: take the absolute value of the error of each record, then take the average of those absolute errors."
   ]
  },
  {
   "cell_type": "code",
   "execution_count": 30,
   "id": "61556a4c",
   "metadata": {
    "execution": {
     "iopub.execute_input": "2023-06-05T13:36:54.571690Z",
     "iopub.status.busy": "2023-06-05T13:36:54.571371Z",
     "iopub.status.idle": "2023-06-05T13:36:54.581269Z",
     "shell.execute_reply": "2023-06-05T13:36:54.580230Z"
    },
    "papermill": {
     "duration": 0.032707,
     "end_time": "2023-06-05T13:36:54.583547",
     "exception": false,
     "start_time": "2023-06-05T13:36:54.550840",
     "status": "completed"
    },
    "tags": []
   },
   "outputs": [
    {
     "name": "stdout",
     "output_type": "stream",
     "text": [
      "68.02442003108632\n"
     ]
    }
   ],
   "source": [
    "print(mean_absolute_error(val_y, val_predictions))"
   ]
  },
  {
   "cell_type": "code",
   "execution_count": 31,
   "id": "89272f17",
   "metadata": {
    "execution": {
     "iopub.execute_input": "2023-06-05T13:36:54.624014Z",
     "iopub.status.busy": "2023-06-05T13:36:54.623702Z",
     "iopub.status.idle": "2023-06-05T13:36:54.644817Z",
     "shell.execute_reply": "2023-06-05T13:36:54.643790Z"
    },
    "papermill": {
     "duration": 0.044031,
     "end_time": "2023-06-05T13:36:54.647177",
     "exception": false,
     "start_time": "2023-06-05T13:36:54.603146",
     "status": "completed"
    },
    "tags": []
   },
   "outputs": [
    {
     "name": "stdout",
     "output_type": "stream",
     "text": [
      "min sale: 0.0 , max sale: 124717.0 , mean sales: 357.2198680490785\n"
     ]
    }
   ],
   "source": [
    "print(\"min sale:\", df3['sales'].min(), \", max sale:\", df3['sales'].max(), \", mean sales:\", df3['sales'].mean())\n"
   ]
  },
  {
   "cell_type": "code",
   "execution_count": 32,
   "id": "3ee99fa1",
   "metadata": {
    "execution": {
     "iopub.execute_input": "2023-06-05T13:36:54.689233Z",
     "iopub.status.busy": "2023-06-05T13:36:54.688445Z",
     "iopub.status.idle": "2023-06-05T13:36:54.705076Z",
     "shell.execute_reply": "2023-06-05T13:36:54.703787Z"
    },
    "papermill": {
     "duration": 0.039656,
     "end_time": "2023-06-05T13:36:54.707187",
     "exception": false,
     "start_time": "2023-06-05T13:36:54.667531",
     "status": "completed"
    },
    "tags": []
   },
   "outputs": [
    {
     "name": "stdout",
     "output_type": "stream",
     "text": [
      "So the error average is of about 19 %\n"
     ]
    }
   ],
   "source": [
    "print(\"So the error average is of about\", round(mean_absolute_error(val_y, val_predictions)/df3['sales'].mean()*100),\"%\")"
   ]
  },
  {
   "cell_type": "markdown",
   "id": "718d2a53",
   "metadata": {
    "papermill": {
     "duration": 0.019676,
     "end_time": "2023-06-05T13:36:54.747178",
     "exception": false,
     "start_time": "2023-06-05T13:36:54.727502",
     "status": "completed"
    },
    "tags": []
   },
   "source": [
    "### Test prediction"
   ]
  },
  {
   "cell_type": "code",
   "execution_count": 33,
   "id": "287230a8",
   "metadata": {
    "execution": {
     "iopub.execute_input": "2023-06-05T13:36:54.788194Z",
     "iopub.status.busy": "2023-06-05T13:36:54.787898Z",
     "iopub.status.idle": "2023-06-05T13:36:54.791838Z",
     "shell.execute_reply": "2023-06-05T13:36:54.790912Z"
    },
    "papermill": {
     "duration": 0.026558,
     "end_time": "2023-06-05T13:36:54.793830",
     "exception": false,
     "start_time": "2023-06-05T13:36:54.767272",
     "status": "completed"
    },
    "tags": []
   },
   "outputs": [],
   "source": [
    "#print(\"Making predictions for the following 15 items:\")\n",
    "#print(df2.iloc[-150:-135,:])\n",
    "#print(\"The predictions are\")\n",
    "#prediction = tree_model.predict(x.iloc[-150:-135,:])\n",
    "#print(prediction)"
   ]
  },
  {
   "cell_type": "markdown",
   "id": "17a7c022",
   "metadata": {
    "papermill": {
     "duration": 0.019514,
     "end_time": "2023-06-05T13:36:54.832943",
     "exception": false,
     "start_time": "2023-06-05T13:36:54.813429",
     "status": "completed"
    },
    "tags": []
   },
   "source": [
    "# Calculate Success rate"
   ]
  },
  {
   "cell_type": "code",
   "execution_count": 34,
   "id": "d398a2f4",
   "metadata": {
    "execution": {
     "iopub.execute_input": "2023-06-05T13:36:54.874743Z",
     "iopub.status.busy": "2023-06-05T13:36:54.873153Z",
     "iopub.status.idle": "2023-06-05T13:36:54.877846Z",
     "shell.execute_reply": "2023-06-05T13:36:54.877025Z"
    },
    "papermill": {
     "duration": 0.027063,
     "end_time": "2023-06-05T13:36:54.879705",
     "exception": false,
     "start_time": "2023-06-05T13:36:54.852642",
     "status": "completed"
    },
    "tags": []
   },
   "outputs": [],
   "source": [
    "#data = df2.iloc[-150:-135,3]\n",
    "# data = data.reset_index(drop=True)\n",
    "#print(data)\n",
    "#print(prediction)\n",
    "\n",
    "#eff = (prediction - data)/data\n",
    "#print(\"Efficiency: (expressed as 100% distance from expected value) \" , eff*100)"
   ]
  },
  {
   "cell_type": "markdown",
   "id": "93ebc36c",
   "metadata": {
    "papermill": {
     "duration": 0.019528,
     "end_time": "2023-06-05T13:36:54.919164",
     "exception": false,
     "start_time": "2023-06-05T13:36:54.899636",
     "status": "completed"
    },
    "tags": []
   },
   "source": [
    "without family: out of 15 predictions: 3 predictions are spot-on, 2 are less than 50% off, the rest are off by up to 1000%\n",
    "with family: all spot on"
   ]
  },
  {
   "cell_type": "markdown",
   "id": "9366f0da",
   "metadata": {
    "papermill": {
     "duration": 0.019534,
     "end_time": "2023-06-05T13:36:54.958562",
     "exception": false,
     "start_time": "2023-06-05T13:36:54.939028",
     "status": "completed"
    },
    "tags": []
   },
   "source": [
    "does it makes sense to train on the whole training set and to test it on that? does random forest select a subset to train, can we tell it to save a subset for the testing? "
   ]
  },
  {
   "cell_type": "markdown",
   "id": "afeb7193",
   "metadata": {
    "papermill": {
     "duration": 0.019364,
     "end_time": "2023-06-05T13:36:54.997550",
     "exception": false,
     "start_time": "2023-06-05T13:36:54.978186",
     "status": "completed"
    },
    "tags": []
   },
   "source": [
    "now to move onto the test set..."
   ]
  },
  {
   "cell_type": "markdown",
   "id": "e25c471a",
   "metadata": {
    "papermill": {
     "duration": 0.019477,
     "end_time": "2023-06-05T13:36:55.036646",
     "exception": false,
     "start_time": "2023-06-05T13:36:55.017169",
     "status": "completed"
    },
    "tags": []
   },
   "source": [
    "## Plotting the Tree"
   ]
  },
  {
   "cell_type": "markdown",
   "id": "00317c7d",
   "metadata": {
    "papermill": {
     "duration": 0.019398,
     "end_time": "2023-06-05T13:36:55.075584",
     "exception": false,
     "start_time": "2023-06-05T13:36:55.056186",
     "status": "completed"
    },
    "tags": []
   },
   "source": [
    "To make it feasible to plot it, we have capped the depth of the tree to three layers, but is best removed before prediction"
   ]
  },
  {
   "cell_type": "code",
   "execution_count": 35,
   "id": "d053e735",
   "metadata": {
    "execution": {
     "iopub.execute_input": "2023-06-05T13:36:55.116814Z",
     "iopub.status.busy": "2023-06-05T13:36:55.115966Z",
     "iopub.status.idle": "2023-06-05T13:36:55.120524Z",
     "shell.execute_reply": "2023-06-05T13:36:55.119690Z"
    },
    "papermill": {
     "duration": 0.027109,
     "end_time": "2023-06-05T13:36:55.122313",
     "exception": false,
     "start_time": "2023-06-05T13:36:55.095204",
     "status": "completed"
    },
    "tags": []
   },
   "outputs": [],
   "source": [
    "#fig = plt.figure(figsize=(25,20))\n",
    "#_ = tree.plot_tree(forest_oil_model, \n",
    "#                   feature_names=['date_int', 'store_nbr', 'family_number','onpromotion', 'dcoilwtico', 'day_of_week'],  \n",
    "#                   filled=True)"
   ]
  },
  {
   "cell_type": "markdown",
   "id": "7ea8c77d",
   "metadata": {
    "papermill": {
     "duration": 0.019647,
     "end_time": "2023-06-05T13:36:55.161910",
     "exception": false,
     "start_time": "2023-06-05T13:36:55.142263",
     "status": "completed"
    },
    "tags": []
   },
   "source": [
    "## Create submission file"
   ]
  },
  {
   "cell_type": "code",
   "execution_count": 36,
   "id": "0b4e489c",
   "metadata": {
    "execution": {
     "iopub.execute_input": "2023-06-05T13:36:55.203567Z",
     "iopub.status.busy": "2023-06-05T13:36:55.202794Z",
     "iopub.status.idle": "2023-06-05T13:36:55.352322Z",
     "shell.execute_reply": "2023-06-05T13:36:55.351384Z"
    },
    "papermill": {
     "duration": 0.173213,
     "end_time": "2023-06-05T13:36:55.354724",
     "exception": false,
     "start_time": "2023-06-05T13:36:55.181511",
     "status": "completed"
    },
    "tags": []
   },
   "outputs": [],
   "source": [
    "df_test = pd.read_csv('/kaggle/input/store-sales-time-series-forecasting/test.csv',\n",
    "    parse_dates=['date'])\n",
    "df_test['date_int'] = df_test['date'].map(lambda a : int(round(a.timestamp())) )\n",
    "df_test['family_number'] = df_test['family'].map(lambda a : family_enum[a] )"
   ]
  },
  {
   "cell_type": "code",
   "execution_count": 37,
   "id": "e087ecb9",
   "metadata": {
    "execution": {
     "iopub.execute_input": "2023-06-05T13:36:55.396885Z",
     "iopub.status.busy": "2023-06-05T13:36:55.396065Z",
     "iopub.status.idle": "2023-06-05T13:36:55.410563Z",
     "shell.execute_reply": "2023-06-05T13:36:55.409601Z"
    },
    "papermill": {
     "duration": 0.037336,
     "end_time": "2023-06-05T13:36:55.412549",
     "exception": false,
     "start_time": "2023-06-05T13:36:55.375213",
     "status": "completed"
    },
    "tags": []
   },
   "outputs": [
    {
     "data": {
      "text/html": [
       "<div>\n",
       "<style scoped>\n",
       "    .dataframe tbody tr th:only-of-type {\n",
       "        vertical-align: middle;\n",
       "    }\n",
       "\n",
       "    .dataframe tbody tr th {\n",
       "        vertical-align: top;\n",
       "    }\n",
       "\n",
       "    .dataframe thead th {\n",
       "        text-align: right;\n",
       "    }\n",
       "</style>\n",
       "<table border=\"1\" class=\"dataframe\">\n",
       "  <thead>\n",
       "    <tr style=\"text-align: right;\">\n",
       "      <th></th>\n",
       "      <th>id</th>\n",
       "      <th>date</th>\n",
       "      <th>store_nbr</th>\n",
       "      <th>family</th>\n",
       "      <th>onpromotion</th>\n",
       "      <th>date_int</th>\n",
       "      <th>family_number</th>\n",
       "    </tr>\n",
       "  </thead>\n",
       "  <tbody>\n",
       "    <tr>\n",
       "      <th>0</th>\n",
       "      <td>3000888</td>\n",
       "      <td>2017-08-16</td>\n",
       "      <td>1</td>\n",
       "      <td>AUTOMOTIVE</td>\n",
       "      <td>0</td>\n",
       "      <td>1502841600</td>\n",
       "      <td>0</td>\n",
       "    </tr>\n",
       "    <tr>\n",
       "      <th>1</th>\n",
       "      <td>3000889</td>\n",
       "      <td>2017-08-16</td>\n",
       "      <td>1</td>\n",
       "      <td>BABY CARE</td>\n",
       "      <td>0</td>\n",
       "      <td>1502841600</td>\n",
       "      <td>1</td>\n",
       "    </tr>\n",
       "    <tr>\n",
       "      <th>2</th>\n",
       "      <td>3000890</td>\n",
       "      <td>2017-08-16</td>\n",
       "      <td>1</td>\n",
       "      <td>BEAUTY</td>\n",
       "      <td>2</td>\n",
       "      <td>1502841600</td>\n",
       "      <td>2</td>\n",
       "    </tr>\n",
       "    <tr>\n",
       "      <th>3</th>\n",
       "      <td>3000891</td>\n",
       "      <td>2017-08-16</td>\n",
       "      <td>1</td>\n",
       "      <td>BEVERAGES</td>\n",
       "      <td>20</td>\n",
       "      <td>1502841600</td>\n",
       "      <td>3</td>\n",
       "    </tr>\n",
       "    <tr>\n",
       "      <th>4</th>\n",
       "      <td>3000892</td>\n",
       "      <td>2017-08-16</td>\n",
       "      <td>1</td>\n",
       "      <td>BOOKS</td>\n",
       "      <td>0</td>\n",
       "      <td>1502841600</td>\n",
       "      <td>4</td>\n",
       "    </tr>\n",
       "    <tr>\n",
       "      <th>...</th>\n",
       "      <td>...</td>\n",
       "      <td>...</td>\n",
       "      <td>...</td>\n",
       "      <td>...</td>\n",
       "      <td>...</td>\n",
       "      <td>...</td>\n",
       "      <td>...</td>\n",
       "    </tr>\n",
       "    <tr>\n",
       "      <th>28507</th>\n",
       "      <td>3029395</td>\n",
       "      <td>2017-08-31</td>\n",
       "      <td>9</td>\n",
       "      <td>POULTRY</td>\n",
       "      <td>1</td>\n",
       "      <td>1504137600</td>\n",
       "      <td>28</td>\n",
       "    </tr>\n",
       "    <tr>\n",
       "      <th>28508</th>\n",
       "      <td>3029396</td>\n",
       "      <td>2017-08-31</td>\n",
       "      <td>9</td>\n",
       "      <td>PREPARED FOODS</td>\n",
       "      <td>0</td>\n",
       "      <td>1504137600</td>\n",
       "      <td>29</td>\n",
       "    </tr>\n",
       "    <tr>\n",
       "      <th>28509</th>\n",
       "      <td>3029397</td>\n",
       "      <td>2017-08-31</td>\n",
       "      <td>9</td>\n",
       "      <td>PRODUCE</td>\n",
       "      <td>1</td>\n",
       "      <td>1504137600</td>\n",
       "      <td>30</td>\n",
       "    </tr>\n",
       "    <tr>\n",
       "      <th>28510</th>\n",
       "      <td>3029398</td>\n",
       "      <td>2017-08-31</td>\n",
       "      <td>9</td>\n",
       "      <td>SCHOOL AND OFFICE SUPPLIES</td>\n",
       "      <td>9</td>\n",
       "      <td>1504137600</td>\n",
       "      <td>31</td>\n",
       "    </tr>\n",
       "    <tr>\n",
       "      <th>28511</th>\n",
       "      <td>3029399</td>\n",
       "      <td>2017-08-31</td>\n",
       "      <td>9</td>\n",
       "      <td>SEAFOOD</td>\n",
       "      <td>0</td>\n",
       "      <td>1504137600</td>\n",
       "      <td>32</td>\n",
       "    </tr>\n",
       "  </tbody>\n",
       "</table>\n",
       "<p>28512 rows × 7 columns</p>\n",
       "</div>"
      ],
      "text/plain": [
       "            id       date  store_nbr                      family  onpromotion  \\\n",
       "0      3000888 2017-08-16          1                  AUTOMOTIVE            0   \n",
       "1      3000889 2017-08-16          1                   BABY CARE            0   \n",
       "2      3000890 2017-08-16          1                      BEAUTY            2   \n",
       "3      3000891 2017-08-16          1                   BEVERAGES           20   \n",
       "4      3000892 2017-08-16          1                       BOOKS            0   \n",
       "...        ...        ...        ...                         ...          ...   \n",
       "28507  3029395 2017-08-31          9                     POULTRY            1   \n",
       "28508  3029396 2017-08-31          9              PREPARED FOODS            0   \n",
       "28509  3029397 2017-08-31          9                     PRODUCE            1   \n",
       "28510  3029398 2017-08-31          9  SCHOOL AND OFFICE SUPPLIES            9   \n",
       "28511  3029399 2017-08-31          9                     SEAFOOD            0   \n",
       "\n",
       "         date_int  family_number  \n",
       "0      1502841600              0  \n",
       "1      1502841600              1  \n",
       "2      1502841600              2  \n",
       "3      1502841600              3  \n",
       "4      1502841600              4  \n",
       "...           ...            ...  \n",
       "28507  1504137600             28  \n",
       "28508  1504137600             29  \n",
       "28509  1504137600             30  \n",
       "28510  1504137600             31  \n",
       "28511  1504137600             32  \n",
       "\n",
       "[28512 rows x 7 columns]"
      ]
     },
     "execution_count": 37,
     "metadata": {},
     "output_type": "execute_result"
    }
   ],
   "source": [
    "df_test.head(len(df_test))"
   ]
  },
  {
   "cell_type": "markdown",
   "id": "aa2cc6eb",
   "metadata": {
    "papermill": {
     "duration": 0.019946,
     "end_time": "2023-06-05T13:36:55.453308",
     "exception": false,
     "start_time": "2023-06-05T13:36:55.433362",
     "status": "completed"
    },
    "tags": []
   },
   "source": [
    "Merge with oil dataframe for relevant dates:"
   ]
  },
  {
   "cell_type": "code",
   "execution_count": 38,
   "id": "4c954678",
   "metadata": {
    "execution": {
     "iopub.execute_input": "2023-06-05T13:36:55.495418Z",
     "iopub.status.busy": "2023-06-05T13:36:55.494447Z",
     "iopub.status.idle": "2023-06-05T13:36:55.516658Z",
     "shell.execute_reply": "2023-06-05T13:36:55.515741Z"
    },
    "papermill": {
     "duration": 0.04534,
     "end_time": "2023-06-05T13:36:55.518673",
     "exception": false,
     "start_time": "2023-06-05T13:36:55.473333",
     "status": "completed"
    },
    "tags": []
   },
   "outputs": [
    {
     "data": {
      "text/html": [
       "<div>\n",
       "<style scoped>\n",
       "    .dataframe tbody tr th:only-of-type {\n",
       "        vertical-align: middle;\n",
       "    }\n",
       "\n",
       "    .dataframe tbody tr th {\n",
       "        vertical-align: top;\n",
       "    }\n",
       "\n",
       "    .dataframe thead th {\n",
       "        text-align: right;\n",
       "    }\n",
       "</style>\n",
       "<table border=\"1\" class=\"dataframe\">\n",
       "  <thead>\n",
       "    <tr style=\"text-align: right;\">\n",
       "      <th></th>\n",
       "      <th>date</th>\n",
       "      <th>date_int</th>\n",
       "      <th>store_nbr</th>\n",
       "      <th>family_number</th>\n",
       "      <th>onpromotion</th>\n",
       "      <th>dcoilwtico</th>\n",
       "      <th>day_of_week</th>\n",
       "    </tr>\n",
       "  </thead>\n",
       "  <tbody>\n",
       "    <tr>\n",
       "      <th>0</th>\n",
       "      <td>2017-08-16</td>\n",
       "      <td>1502841600</td>\n",
       "      <td>1</td>\n",
       "      <td>0</td>\n",
       "      <td>0</td>\n",
       "      <td>46.80</td>\n",
       "      <td>2</td>\n",
       "    </tr>\n",
       "    <tr>\n",
       "      <th>1</th>\n",
       "      <td>2017-08-16</td>\n",
       "      <td>1502841600</td>\n",
       "      <td>1</td>\n",
       "      <td>1</td>\n",
       "      <td>0</td>\n",
       "      <td>46.80</td>\n",
       "      <td>2</td>\n",
       "    </tr>\n",
       "    <tr>\n",
       "      <th>2</th>\n",
       "      <td>2017-08-16</td>\n",
       "      <td>1502841600</td>\n",
       "      <td>1</td>\n",
       "      <td>2</td>\n",
       "      <td>2</td>\n",
       "      <td>46.80</td>\n",
       "      <td>2</td>\n",
       "    </tr>\n",
       "    <tr>\n",
       "      <th>3</th>\n",
       "      <td>2017-08-16</td>\n",
       "      <td>1502841600</td>\n",
       "      <td>1</td>\n",
       "      <td>3</td>\n",
       "      <td>20</td>\n",
       "      <td>46.80</td>\n",
       "      <td>2</td>\n",
       "    </tr>\n",
       "    <tr>\n",
       "      <th>4</th>\n",
       "      <td>2017-08-16</td>\n",
       "      <td>1502841600</td>\n",
       "      <td>1</td>\n",
       "      <td>4</td>\n",
       "      <td>0</td>\n",
       "      <td>46.80</td>\n",
       "      <td>2</td>\n",
       "    </tr>\n",
       "    <tr>\n",
       "      <th>...</th>\n",
       "      <td>...</td>\n",
       "      <td>...</td>\n",
       "      <td>...</td>\n",
       "      <td>...</td>\n",
       "      <td>...</td>\n",
       "      <td>...</td>\n",
       "      <td>...</td>\n",
       "    </tr>\n",
       "    <tr>\n",
       "      <th>28507</th>\n",
       "      <td>2017-08-31</td>\n",
       "      <td>1504137600</td>\n",
       "      <td>9</td>\n",
       "      <td>28</td>\n",
       "      <td>1</td>\n",
       "      <td>47.26</td>\n",
       "      <td>3</td>\n",
       "    </tr>\n",
       "    <tr>\n",
       "      <th>28508</th>\n",
       "      <td>2017-08-31</td>\n",
       "      <td>1504137600</td>\n",
       "      <td>9</td>\n",
       "      <td>29</td>\n",
       "      <td>0</td>\n",
       "      <td>47.26</td>\n",
       "      <td>3</td>\n",
       "    </tr>\n",
       "    <tr>\n",
       "      <th>28509</th>\n",
       "      <td>2017-08-31</td>\n",
       "      <td>1504137600</td>\n",
       "      <td>9</td>\n",
       "      <td>30</td>\n",
       "      <td>1</td>\n",
       "      <td>47.26</td>\n",
       "      <td>3</td>\n",
       "    </tr>\n",
       "    <tr>\n",
       "      <th>28510</th>\n",
       "      <td>2017-08-31</td>\n",
       "      <td>1504137600</td>\n",
       "      <td>9</td>\n",
       "      <td>31</td>\n",
       "      <td>9</td>\n",
       "      <td>47.26</td>\n",
       "      <td>3</td>\n",
       "    </tr>\n",
       "    <tr>\n",
       "      <th>28511</th>\n",
       "      <td>2017-08-31</td>\n",
       "      <td>1504137600</td>\n",
       "      <td>9</td>\n",
       "      <td>32</td>\n",
       "      <td>0</td>\n",
       "      <td>47.26</td>\n",
       "      <td>3</td>\n",
       "    </tr>\n",
       "  </tbody>\n",
       "</table>\n",
       "<p>28512 rows × 7 columns</p>\n",
       "</div>"
      ],
      "text/plain": [
       "            date    date_int  store_nbr  family_number  onpromotion  \\\n",
       "0     2017-08-16  1502841600          1              0            0   \n",
       "1     2017-08-16  1502841600          1              1            0   \n",
       "2     2017-08-16  1502841600          1              2            2   \n",
       "3     2017-08-16  1502841600          1              3           20   \n",
       "4     2017-08-16  1502841600          1              4            0   \n",
       "...          ...         ...        ...            ...          ...   \n",
       "28507 2017-08-31  1504137600          9             28            1   \n",
       "28508 2017-08-31  1504137600          9             29            0   \n",
       "28509 2017-08-31  1504137600          9             30            1   \n",
       "28510 2017-08-31  1504137600          9             31            9   \n",
       "28511 2017-08-31  1504137600          9             32            0   \n",
       "\n",
       "       dcoilwtico  day_of_week  \n",
       "0           46.80            2  \n",
       "1           46.80            2  \n",
       "2           46.80            2  \n",
       "3           46.80            2  \n",
       "4           46.80            2  \n",
       "...           ...          ...  \n",
       "28507       47.26            3  \n",
       "28508       47.26            3  \n",
       "28509       47.26            3  \n",
       "28510       47.26            3  \n",
       "28511       47.26            3  \n",
       "\n",
       "[28512 rows x 7 columns]"
      ]
     },
     "execution_count": 38,
     "metadata": {},
     "output_type": "execute_result"
    }
   ],
   "source": [
    "df_test_merged = pd.merge(df_test[['date', 'date_int', 'store_nbr', 'family_number', 'onpromotion']]\n",
    "                     , df_oil_weekend[['dcoilwtico', 'day_of_week', 'date_int']], on=\"date_int\", how=\"left\")\n",
    "df_test_merged.head(len(df_test_merged))"
   ]
  },
  {
   "cell_type": "markdown",
   "id": "7f8afc41",
   "metadata": {
    "papermill": {
     "duration": 0.020145,
     "end_time": "2023-06-05T13:36:55.559462",
     "exception": false,
     "start_time": "2023-06-05T13:36:55.539317",
     "status": "completed"
    },
    "tags": []
   },
   "source": [
    "Drop any NaN values from dataframe:"
   ]
  },
  {
   "cell_type": "code",
   "execution_count": 39,
   "id": "38e180f7",
   "metadata": {
    "execution": {
     "iopub.execute_input": "2023-06-05T13:36:55.601898Z",
     "iopub.status.busy": "2023-06-05T13:36:55.601079Z",
     "iopub.status.idle": "2023-06-05T13:36:55.618701Z",
     "shell.execute_reply": "2023-06-05T13:36:55.617810Z"
    },
    "papermill": {
     "duration": 0.04108,
     "end_time": "2023-06-05T13:36:55.620790",
     "exception": false,
     "start_time": "2023-06-05T13:36:55.579710",
     "status": "completed"
    },
    "tags": []
   },
   "outputs": [
    {
     "data": {
      "text/html": [
       "<div>\n",
       "<style scoped>\n",
       "    .dataframe tbody tr th:only-of-type {\n",
       "        vertical-align: middle;\n",
       "    }\n",
       "\n",
       "    .dataframe tbody tr th {\n",
       "        vertical-align: top;\n",
       "    }\n",
       "\n",
       "    .dataframe thead th {\n",
       "        text-align: right;\n",
       "    }\n",
       "</style>\n",
       "<table border=\"1\" class=\"dataframe\">\n",
       "  <thead>\n",
       "    <tr style=\"text-align: right;\">\n",
       "      <th></th>\n",
       "      <th>date</th>\n",
       "      <th>date_int</th>\n",
       "      <th>store_nbr</th>\n",
       "      <th>family_number</th>\n",
       "      <th>onpromotion</th>\n",
       "      <th>dcoilwtico</th>\n",
       "      <th>day_of_week</th>\n",
       "    </tr>\n",
       "  </thead>\n",
       "  <tbody>\n",
       "    <tr>\n",
       "      <th>0</th>\n",
       "      <td>2017-08-16</td>\n",
       "      <td>1502841600</td>\n",
       "      <td>1</td>\n",
       "      <td>0</td>\n",
       "      <td>0</td>\n",
       "      <td>46.80</td>\n",
       "      <td>2</td>\n",
       "    </tr>\n",
       "    <tr>\n",
       "      <th>1</th>\n",
       "      <td>2017-08-16</td>\n",
       "      <td>1502841600</td>\n",
       "      <td>1</td>\n",
       "      <td>1</td>\n",
       "      <td>0</td>\n",
       "      <td>46.80</td>\n",
       "      <td>2</td>\n",
       "    </tr>\n",
       "    <tr>\n",
       "      <th>2</th>\n",
       "      <td>2017-08-16</td>\n",
       "      <td>1502841600</td>\n",
       "      <td>1</td>\n",
       "      <td>2</td>\n",
       "      <td>2</td>\n",
       "      <td>46.80</td>\n",
       "      <td>2</td>\n",
       "    </tr>\n",
       "    <tr>\n",
       "      <th>3</th>\n",
       "      <td>2017-08-16</td>\n",
       "      <td>1502841600</td>\n",
       "      <td>1</td>\n",
       "      <td>3</td>\n",
       "      <td>20</td>\n",
       "      <td>46.80</td>\n",
       "      <td>2</td>\n",
       "    </tr>\n",
       "    <tr>\n",
       "      <th>4</th>\n",
       "      <td>2017-08-16</td>\n",
       "      <td>1502841600</td>\n",
       "      <td>1</td>\n",
       "      <td>4</td>\n",
       "      <td>0</td>\n",
       "      <td>46.80</td>\n",
       "      <td>2</td>\n",
       "    </tr>\n",
       "    <tr>\n",
       "      <th>...</th>\n",
       "      <td>...</td>\n",
       "      <td>...</td>\n",
       "      <td>...</td>\n",
       "      <td>...</td>\n",
       "      <td>...</td>\n",
       "      <td>...</td>\n",
       "      <td>...</td>\n",
       "    </tr>\n",
       "    <tr>\n",
       "      <th>28507</th>\n",
       "      <td>2017-08-31</td>\n",
       "      <td>1504137600</td>\n",
       "      <td>9</td>\n",
       "      <td>28</td>\n",
       "      <td>1</td>\n",
       "      <td>47.26</td>\n",
       "      <td>3</td>\n",
       "    </tr>\n",
       "    <tr>\n",
       "      <th>28508</th>\n",
       "      <td>2017-08-31</td>\n",
       "      <td>1504137600</td>\n",
       "      <td>9</td>\n",
       "      <td>29</td>\n",
       "      <td>0</td>\n",
       "      <td>47.26</td>\n",
       "      <td>3</td>\n",
       "    </tr>\n",
       "    <tr>\n",
       "      <th>28509</th>\n",
       "      <td>2017-08-31</td>\n",
       "      <td>1504137600</td>\n",
       "      <td>9</td>\n",
       "      <td>30</td>\n",
       "      <td>1</td>\n",
       "      <td>47.26</td>\n",
       "      <td>3</td>\n",
       "    </tr>\n",
       "    <tr>\n",
       "      <th>28510</th>\n",
       "      <td>2017-08-31</td>\n",
       "      <td>1504137600</td>\n",
       "      <td>9</td>\n",
       "      <td>31</td>\n",
       "      <td>9</td>\n",
       "      <td>47.26</td>\n",
       "      <td>3</td>\n",
       "    </tr>\n",
       "    <tr>\n",
       "      <th>28511</th>\n",
       "      <td>2017-08-31</td>\n",
       "      <td>1504137600</td>\n",
       "      <td>9</td>\n",
       "      <td>32</td>\n",
       "      <td>0</td>\n",
       "      <td>47.26</td>\n",
       "      <td>3</td>\n",
       "    </tr>\n",
       "  </tbody>\n",
       "</table>\n",
       "<p>28512 rows × 7 columns</p>\n",
       "</div>"
      ],
      "text/plain": [
       "            date    date_int  store_nbr  family_number  onpromotion  \\\n",
       "0     2017-08-16  1502841600          1              0            0   \n",
       "1     2017-08-16  1502841600          1              1            0   \n",
       "2     2017-08-16  1502841600          1              2            2   \n",
       "3     2017-08-16  1502841600          1              3           20   \n",
       "4     2017-08-16  1502841600          1              4            0   \n",
       "...          ...         ...        ...            ...          ...   \n",
       "28507 2017-08-31  1504137600          9             28            1   \n",
       "28508 2017-08-31  1504137600          9             29            0   \n",
       "28509 2017-08-31  1504137600          9             30            1   \n",
       "28510 2017-08-31  1504137600          9             31            9   \n",
       "28511 2017-08-31  1504137600          9             32            0   \n",
       "\n",
       "       dcoilwtico  day_of_week  \n",
       "0           46.80            2  \n",
       "1           46.80            2  \n",
       "2           46.80            2  \n",
       "3           46.80            2  \n",
       "4           46.80            2  \n",
       "...           ...          ...  \n",
       "28507       47.26            3  \n",
       "28508       47.26            3  \n",
       "28509       47.26            3  \n",
       "28510       47.26            3  \n",
       "28511       47.26            3  \n",
       "\n",
       "[28512 rows x 7 columns]"
      ]
     },
     "execution_count": 39,
     "metadata": {},
     "output_type": "execute_result"
    }
   ],
   "source": [
    "df4=df_test_merged.dropna(subset=['date_int', 'store_nbr', 'family_number',\n",
    "       'onpromotion', 'dcoilwtico', 'day_of_week']).reset_index(drop=True)\n",
    "df4.head(len(df4))"
   ]
  },
  {
   "cell_type": "markdown",
   "id": "ab75eac6",
   "metadata": {
    "papermill": {
     "duration": 0.020533,
     "end_time": "2023-06-05T13:36:55.662245",
     "exception": false,
     "start_time": "2023-06-05T13:36:55.641712",
     "status": "completed"
    },
    "tags": []
   },
   "source": [
    "** It is good that no rows were dropped, since else we wouldn't be able to submit the resulting predictions (the submission data must have all the same id's)"
   ]
  },
  {
   "cell_type": "markdown",
   "id": "562112ea",
   "metadata": {
    "papermill": {
     "duration": 0.020449,
     "end_time": "2023-06-05T13:36:55.703259",
     "exception": false,
     "start_time": "2023-06-05T13:36:55.682810",
     "status": "completed"
    },
    "tags": []
   },
   "source": [
    "We are now ready to define the new features to build the predictions with the model we trained:"
   ]
  },
  {
   "cell_type": "code",
   "execution_count": 40,
   "id": "34e1302b",
   "metadata": {
    "execution": {
     "iopub.execute_input": "2023-06-05T13:36:55.746788Z",
     "iopub.status.busy": "2023-06-05T13:36:55.746445Z",
     "iopub.status.idle": "2023-06-05T13:36:55.769286Z",
     "shell.execute_reply": "2023-06-05T13:36:55.768454Z"
    },
    "papermill": {
     "duration": 0.04715,
     "end_time": "2023-06-05T13:36:55.771320",
     "exception": false,
     "start_time": "2023-06-05T13:36:55.724170",
     "status": "completed"
    },
    "tags": []
   },
   "outputs": [],
   "source": [
    "test_x = df4[features]\n",
    "predictions = forest_oil_model.predict(test_x)"
   ]
  },
  {
   "cell_type": "code",
   "execution_count": 41,
   "id": "7a7be2df",
   "metadata": {
    "execution": {
     "iopub.execute_input": "2023-06-05T13:36:55.814158Z",
     "iopub.status.busy": "2023-06-05T13:36:55.813863Z",
     "iopub.status.idle": "2023-06-05T13:36:55.819829Z",
     "shell.execute_reply": "2023-06-05T13:36:55.818977Z"
    },
    "papermill": {
     "duration": 0.029537,
     "end_time": "2023-06-05T13:36:55.821781",
     "exception": false,
     "start_time": "2023-06-05T13:36:55.792244",
     "status": "completed"
    },
    "tags": []
   },
   "outputs": [
    {
     "data": {
      "text/plain": [
       "array([   4.   ,    0.   ,   10.   , ..., 1036.439,  121.   ,   28.585])"
      ]
     },
     "execution_count": 41,
     "metadata": {},
     "output_type": "execute_result"
    }
   ],
   "source": [
    "predictions"
   ]
  },
  {
   "cell_type": "markdown",
   "id": "48757da3",
   "metadata": {
    "papermill": {
     "duration": 0.020727,
     "end_time": "2023-06-05T13:36:55.863709",
     "exception": false,
     "start_time": "2023-06-05T13:36:55.842982",
     "status": "completed"
    },
    "tags": []
   },
   "source": [
    "Finally, create submission dataframe and then submission csv file:"
   ]
  },
  {
   "cell_type": "code",
   "execution_count": 42,
   "id": "5e750655",
   "metadata": {
    "execution": {
     "iopub.execute_input": "2023-06-05T13:36:55.906804Z",
     "iopub.status.busy": "2023-06-05T13:36:55.906036Z",
     "iopub.status.idle": "2023-06-05T13:36:55.982391Z",
     "shell.execute_reply": "2023-06-05T13:36:55.981561Z"
    },
    "papermill": {
     "duration": 0.100157,
     "end_time": "2023-06-05T13:36:55.984546",
     "exception": false,
     "start_time": "2023-06-05T13:36:55.884389",
     "status": "completed"
    },
    "tags": []
   },
   "outputs": [],
   "source": [
    "df_submission = df_test[['id']].copy() # creates a dataframe with the same id column, as this is required for submission \n",
    "df_submission['sales'] = pd.Series(predictions) \n",
    "df_submission.to_csv('/kaggle/working/submission.csv', index=False)"
   ]
  },
  {
   "cell_type": "code",
   "execution_count": 43,
   "id": "49f02dd1",
   "metadata": {
    "execution": {
     "iopub.execute_input": "2023-06-05T13:36:56.028277Z",
     "iopub.status.busy": "2023-06-05T13:36:56.027992Z",
     "iopub.status.idle": "2023-06-05T13:36:56.039310Z",
     "shell.execute_reply": "2023-06-05T13:36:56.038402Z"
    },
    "papermill": {
     "duration": 0.035306,
     "end_time": "2023-06-05T13:36:56.041463",
     "exception": false,
     "start_time": "2023-06-05T13:36:56.006157",
     "status": "completed"
    },
    "tags": []
   },
   "outputs": [
    {
     "data": {
      "text/html": [
       "<div>\n",
       "<style scoped>\n",
       "    .dataframe tbody tr th:only-of-type {\n",
       "        vertical-align: middle;\n",
       "    }\n",
       "\n",
       "    .dataframe tbody tr th {\n",
       "        vertical-align: top;\n",
       "    }\n",
       "\n",
       "    .dataframe thead th {\n",
       "        text-align: right;\n",
       "    }\n",
       "</style>\n",
       "<table border=\"1\" class=\"dataframe\">\n",
       "  <thead>\n",
       "    <tr style=\"text-align: right;\">\n",
       "      <th></th>\n",
       "      <th>id</th>\n",
       "      <th>sales</th>\n",
       "    </tr>\n",
       "  </thead>\n",
       "  <tbody>\n",
       "    <tr>\n",
       "      <th>0</th>\n",
       "      <td>3000888</td>\n",
       "      <td>4.000</td>\n",
       "    </tr>\n",
       "    <tr>\n",
       "      <th>1</th>\n",
       "      <td>3000889</td>\n",
       "      <td>0.000</td>\n",
       "    </tr>\n",
       "    <tr>\n",
       "      <th>2</th>\n",
       "      <td>3000890</td>\n",
       "      <td>10.000</td>\n",
       "    </tr>\n",
       "    <tr>\n",
       "      <th>3</th>\n",
       "      <td>3000891</td>\n",
       "      <td>2158.000</td>\n",
       "    </tr>\n",
       "    <tr>\n",
       "      <th>4</th>\n",
       "      <td>3000892</td>\n",
       "      <td>0.000</td>\n",
       "    </tr>\n",
       "    <tr>\n",
       "      <th>...</th>\n",
       "      <td>...</td>\n",
       "      <td>...</td>\n",
       "    </tr>\n",
       "    <tr>\n",
       "      <th>28507</th>\n",
       "      <td>3029395</td>\n",
       "      <td>425.946</td>\n",
       "    </tr>\n",
       "    <tr>\n",
       "      <th>28508</th>\n",
       "      <td>3029396</td>\n",
       "      <td>83.426</td>\n",
       "    </tr>\n",
       "    <tr>\n",
       "      <th>28509</th>\n",
       "      <td>3029397</td>\n",
       "      <td>1036.439</td>\n",
       "    </tr>\n",
       "    <tr>\n",
       "      <th>28510</th>\n",
       "      <td>3029398</td>\n",
       "      <td>121.000</td>\n",
       "    </tr>\n",
       "    <tr>\n",
       "      <th>28511</th>\n",
       "      <td>3029399</td>\n",
       "      <td>28.585</td>\n",
       "    </tr>\n",
       "  </tbody>\n",
       "</table>\n",
       "<p>28512 rows × 2 columns</p>\n",
       "</div>"
      ],
      "text/plain": [
       "            id     sales\n",
       "0      3000888     4.000\n",
       "1      3000889     0.000\n",
       "2      3000890    10.000\n",
       "3      3000891  2158.000\n",
       "4      3000892     0.000\n",
       "...        ...       ...\n",
       "28507  3029395   425.946\n",
       "28508  3029396    83.426\n",
       "28509  3029397  1036.439\n",
       "28510  3029398   121.000\n",
       "28511  3029399    28.585\n",
       "\n",
       "[28512 rows x 2 columns]"
      ]
     },
     "execution_count": 43,
     "metadata": {},
     "output_type": "execute_result"
    }
   ],
   "source": [
    "df_submission.head(len(df_submission))"
   ]
  },
  {
   "cell_type": "code",
   "execution_count": null,
   "id": "6e80bde9",
   "metadata": {
    "papermill": {
     "duration": 0.020828,
     "end_time": "2023-06-05T13:36:56.083265",
     "exception": false,
     "start_time": "2023-06-05T13:36:56.062437",
     "status": "completed"
    },
    "tags": []
   },
   "outputs": [],
   "source": []
  }
 ],
 "metadata": {
  "kernelspec": {
   "display_name": "Python 3",
   "language": "python",
   "name": "python3"
  },
  "language_info": {
   "codemirror_mode": {
    "name": "ipython",
    "version": 3
   },
   "file_extension": ".py",
   "mimetype": "text/x-python",
   "name": "python",
   "nbconvert_exporter": "python",
   "pygments_lexer": "ipython3",
   "version": "3.10.10"
  },
  "papermill": {
   "default_parameters": {},
   "duration": 104.993987,
   "end_time": "2023-06-05T13:36:56.923688",
   "environment_variables": {},
   "exception": null,
   "input_path": "__notebook__.ipynb",
   "output_path": "__notebook__.ipynb",
   "parameters": {},
   "start_time": "2023-06-05T13:35:11.929701",
   "version": "2.4.0"
  }
 },
 "nbformat": 4,
 "nbformat_minor": 5
}
